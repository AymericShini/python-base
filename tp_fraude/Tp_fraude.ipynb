{
  "nbformat": 4,
  "nbformat_minor": 0,
  "metadata": {
    "colab": {
      "name": "Tp_fraude.ipynb",
      "provenance": [],
      "collapsed_sections": []
    },
    "kernelspec": {
      "name": "python3",
      "display_name": "Python 3"
    }
  },
  "cells": [
    {
      "cell_type": "markdown",
      "metadata": {
        "id": "o4qX38yLOobj"
      },
      "source": [
        "# **Import des Datasets**"
      ]
    },
    {
      "cell_type": "code",
      "metadata": {
        "id": "F9JcxPGZNTBB"
      },
      "source": [
        "# DEmange Aymeric 02/10/2020\n",
        "#TP de machine learning sur deux datasets de fraude\n",
        "\n",
        "\n",
        "import seaborn as sns\n",
        "import pandas as pd\n",
        "import warnings\n",
        "\n",
        "from sklearn.ensemble import RandomForestClassifier as RF\n",
        "from sklearn.model_selection import train_test_split\n",
        "from sklearn.preprocessing import StandardScaler\n",
        "from sklearn import preprocessing\n",
        "\n",
        "warnings.filterwarnings(\"ignore\")\n",
        "\n",
        "sns.set\n",
        "\n",
        "labelencoder = preprocessing.LabelEncoder()\n",
        "\n",
        "# charger le dataset\n",
        "ipAdress = pd.read_csv(r\"/content/IpAddress_to_Country.csv\")\n",
        "fraud = pd.read_csv(r\"/content/Fraud_Data.csv\")\n",
        "ipAdress_df = ipAdress\n",
        "fraud_df = fraud"
      ],
      "execution_count": 206,
      "outputs": []
    },
    {
      "cell_type": "code",
      "metadata": {
        "id": "V9qnepPJNqia",
        "outputId": "5201e411-e8de-44a1-bec5-dbbe20a2f418",
        "colab": {
          "base_uri": "https://localhost:8080/",
          "height": 424
        }
      },
      "source": [
        "# On peut observer que notre target c'est la colonne \"class\"\n",
        "# Beaucoup de colonnes sont des variables qualitatives qu'il vas falloir transformer si on les gardes\n",
        "fraud_df"
      ],
      "execution_count": 65,
      "outputs": [
        {
          "output_type": "execute_result",
          "data": {
            "text/html": [
              "<div>\n",
              "<style scoped>\n",
              "    .dataframe tbody tr th:only-of-type {\n",
              "        vertical-align: middle;\n",
              "    }\n",
              "\n",
              "    .dataframe tbody tr th {\n",
              "        vertical-align: top;\n",
              "    }\n",
              "\n",
              "    .dataframe thead th {\n",
              "        text-align: right;\n",
              "    }\n",
              "</style>\n",
              "<table border=\"1\" class=\"dataframe\">\n",
              "  <thead>\n",
              "    <tr style=\"text-align: right;\">\n",
              "      <th></th>\n",
              "      <th>user_id</th>\n",
              "      <th>signup_time</th>\n",
              "      <th>purchase_time</th>\n",
              "      <th>purchase_value</th>\n",
              "      <th>device_id</th>\n",
              "      <th>source</th>\n",
              "      <th>browser</th>\n",
              "      <th>sex</th>\n",
              "      <th>age</th>\n",
              "      <th>ip_address</th>\n",
              "      <th>class</th>\n",
              "    </tr>\n",
              "  </thead>\n",
              "  <tbody>\n",
              "    <tr>\n",
              "      <th>0</th>\n",
              "      <td>22058</td>\n",
              "      <td>2015-02-24 22:55:49</td>\n",
              "      <td>2015-04-18 02:47:11</td>\n",
              "      <td>34</td>\n",
              "      <td>QVPSPJUOCKZAR</td>\n",
              "      <td>SEO</td>\n",
              "      <td>Chrome</td>\n",
              "      <td>M</td>\n",
              "      <td>39</td>\n",
              "      <td>7.327584e+08</td>\n",
              "      <td>0</td>\n",
              "    </tr>\n",
              "    <tr>\n",
              "      <th>1</th>\n",
              "      <td>333320</td>\n",
              "      <td>2015-06-07 20:39:50</td>\n",
              "      <td>2015-06-08 01:38:54</td>\n",
              "      <td>16</td>\n",
              "      <td>EOGFQPIZPYXFZ</td>\n",
              "      <td>Ads</td>\n",
              "      <td>Chrome</td>\n",
              "      <td>F</td>\n",
              "      <td>53</td>\n",
              "      <td>3.503114e+08</td>\n",
              "      <td>0</td>\n",
              "    </tr>\n",
              "    <tr>\n",
              "      <th>2</th>\n",
              "      <td>1359</td>\n",
              "      <td>2015-01-01 18:52:44</td>\n",
              "      <td>2015-01-01 18:52:45</td>\n",
              "      <td>15</td>\n",
              "      <td>YSSKYOSJHPPLJ</td>\n",
              "      <td>SEO</td>\n",
              "      <td>Opera</td>\n",
              "      <td>M</td>\n",
              "      <td>53</td>\n",
              "      <td>2.621474e+09</td>\n",
              "      <td>1</td>\n",
              "    </tr>\n",
              "    <tr>\n",
              "      <th>3</th>\n",
              "      <td>150084</td>\n",
              "      <td>2015-04-28 21:13:25</td>\n",
              "      <td>2015-05-04 13:54:50</td>\n",
              "      <td>44</td>\n",
              "      <td>ATGTXKYKUDUQN</td>\n",
              "      <td>SEO</td>\n",
              "      <td>Safari</td>\n",
              "      <td>M</td>\n",
              "      <td>41</td>\n",
              "      <td>3.840542e+09</td>\n",
              "      <td>0</td>\n",
              "    </tr>\n",
              "    <tr>\n",
              "      <th>4</th>\n",
              "      <td>221365</td>\n",
              "      <td>2015-07-21 07:09:52</td>\n",
              "      <td>2015-09-09 18:40:53</td>\n",
              "      <td>39</td>\n",
              "      <td>NAUITBZFJKHWW</td>\n",
              "      <td>Ads</td>\n",
              "      <td>Safari</td>\n",
              "      <td>M</td>\n",
              "      <td>45</td>\n",
              "      <td>4.155831e+08</td>\n",
              "      <td>0</td>\n",
              "    </tr>\n",
              "    <tr>\n",
              "      <th>...</th>\n",
              "      <td>...</td>\n",
              "      <td>...</td>\n",
              "      <td>...</td>\n",
              "      <td>...</td>\n",
              "      <td>...</td>\n",
              "      <td>...</td>\n",
              "      <td>...</td>\n",
              "      <td>...</td>\n",
              "      <td>...</td>\n",
              "      <td>...</td>\n",
              "      <td>...</td>\n",
              "    </tr>\n",
              "    <tr>\n",
              "      <th>151107</th>\n",
              "      <td>345170</td>\n",
              "      <td>2015-01-27 03:03:34</td>\n",
              "      <td>2015-03-29 00:30:47</td>\n",
              "      <td>43</td>\n",
              "      <td>XPSKTWGPWINLR</td>\n",
              "      <td>SEO</td>\n",
              "      <td>Chrome</td>\n",
              "      <td>M</td>\n",
              "      <td>28</td>\n",
              "      <td>3.451155e+09</td>\n",
              "      <td>1</td>\n",
              "    </tr>\n",
              "    <tr>\n",
              "      <th>151108</th>\n",
              "      <td>274471</td>\n",
              "      <td>2015-05-15 17:43:29</td>\n",
              "      <td>2015-05-26 12:24:39</td>\n",
              "      <td>35</td>\n",
              "      <td>LYSFABUCPCGBA</td>\n",
              "      <td>SEO</td>\n",
              "      <td>Safari</td>\n",
              "      <td>M</td>\n",
              "      <td>32</td>\n",
              "      <td>2.439047e+09</td>\n",
              "      <td>0</td>\n",
              "    </tr>\n",
              "    <tr>\n",
              "      <th>151109</th>\n",
              "      <td>368416</td>\n",
              "      <td>2015-03-03 23:07:31</td>\n",
              "      <td>2015-05-20 07:07:47</td>\n",
              "      <td>40</td>\n",
              "      <td>MEQHCSJUBRBFE</td>\n",
              "      <td>SEO</td>\n",
              "      <td>IE</td>\n",
              "      <td>F</td>\n",
              "      <td>26</td>\n",
              "      <td>2.748471e+09</td>\n",
              "      <td>0</td>\n",
              "    </tr>\n",
              "    <tr>\n",
              "      <th>151110</th>\n",
              "      <td>207709</td>\n",
              "      <td>2015-07-09 20:06:07</td>\n",
              "      <td>2015-09-07 09:34:46</td>\n",
              "      <td>46</td>\n",
              "      <td>CMCXFGRHYSTVJ</td>\n",
              "      <td>SEO</td>\n",
              "      <td>Chrome</td>\n",
              "      <td>M</td>\n",
              "      <td>37</td>\n",
              "      <td>3.601175e+09</td>\n",
              "      <td>0</td>\n",
              "    </tr>\n",
              "    <tr>\n",
              "      <th>151111</th>\n",
              "      <td>138208</td>\n",
              "      <td>2015-06-10 07:02:20</td>\n",
              "      <td>2015-07-21 02:03:53</td>\n",
              "      <td>20</td>\n",
              "      <td>ZINIADFCLHYPG</td>\n",
              "      <td>Direct</td>\n",
              "      <td>IE</td>\n",
              "      <td>M</td>\n",
              "      <td>38</td>\n",
              "      <td>4.103825e+09</td>\n",
              "      <td>0</td>\n",
              "    </tr>\n",
              "  </tbody>\n",
              "</table>\n",
              "<p>151112 rows × 11 columns</p>\n",
              "</div>"
            ],
            "text/plain": [
              "        user_id          signup_time  ...    ip_address  class\n",
              "0         22058  2015-02-24 22:55:49  ...  7.327584e+08      0\n",
              "1        333320  2015-06-07 20:39:50  ...  3.503114e+08      0\n",
              "2          1359  2015-01-01 18:52:44  ...  2.621474e+09      1\n",
              "3        150084  2015-04-28 21:13:25  ...  3.840542e+09      0\n",
              "4        221365  2015-07-21 07:09:52  ...  4.155831e+08      0\n",
              "...         ...                  ...  ...           ...    ...\n",
              "151107   345170  2015-01-27 03:03:34  ...  3.451155e+09      1\n",
              "151108   274471  2015-05-15 17:43:29  ...  2.439047e+09      0\n",
              "151109   368416  2015-03-03 23:07:31  ...  2.748471e+09      0\n",
              "151110   207709  2015-07-09 20:06:07  ...  3.601175e+09      0\n",
              "151111   138208  2015-06-10 07:02:20  ...  4.103825e+09      0\n",
              "\n",
              "[151112 rows x 11 columns]"
            ]
          },
          "metadata": {
            "tags": []
          },
          "execution_count": 65
        }
      ]
    },
    {
      "cell_type": "code",
      "metadata": {
        "id": "c4mVRnreNsTL",
        "outputId": "94c9bd56-73a5-4067-c7df-4be713c35442",
        "colab": {
          "base_uri": "https://localhost:8080/",
          "height": 424
        }
      },
      "source": [
        "# Un lot d'adresse ip avec une plage basse et haute\n",
        "ipAdress_df"
      ],
      "execution_count": 66,
      "outputs": [
        {
          "output_type": "execute_result",
          "data": {
            "text/html": [
              "<div>\n",
              "<style scoped>\n",
              "    .dataframe tbody tr th:only-of-type {\n",
              "        vertical-align: middle;\n",
              "    }\n",
              "\n",
              "    .dataframe tbody tr th {\n",
              "        vertical-align: top;\n",
              "    }\n",
              "\n",
              "    .dataframe thead th {\n",
              "        text-align: right;\n",
              "    }\n",
              "</style>\n",
              "<table border=\"1\" class=\"dataframe\">\n",
              "  <thead>\n",
              "    <tr style=\"text-align: right;\">\n",
              "      <th></th>\n",
              "      <th>lower_bound_ip_address</th>\n",
              "      <th>upper_bound_ip_address</th>\n",
              "      <th>country</th>\n",
              "    </tr>\n",
              "  </thead>\n",
              "  <tbody>\n",
              "    <tr>\n",
              "      <th>0</th>\n",
              "      <td>1.677722e+07</td>\n",
              "      <td>16777471</td>\n",
              "      <td>Australia</td>\n",
              "    </tr>\n",
              "    <tr>\n",
              "      <th>1</th>\n",
              "      <td>1.677747e+07</td>\n",
              "      <td>16777727</td>\n",
              "      <td>China</td>\n",
              "    </tr>\n",
              "    <tr>\n",
              "      <th>2</th>\n",
              "      <td>1.677773e+07</td>\n",
              "      <td>16778239</td>\n",
              "      <td>China</td>\n",
              "    </tr>\n",
              "    <tr>\n",
              "      <th>3</th>\n",
              "      <td>1.677824e+07</td>\n",
              "      <td>16779263</td>\n",
              "      <td>Australia</td>\n",
              "    </tr>\n",
              "    <tr>\n",
              "      <th>4</th>\n",
              "      <td>1.677926e+07</td>\n",
              "      <td>16781311</td>\n",
              "      <td>China</td>\n",
              "    </tr>\n",
              "    <tr>\n",
              "      <th>...</th>\n",
              "      <td>...</td>\n",
              "      <td>...</td>\n",
              "      <td>...</td>\n",
              "    </tr>\n",
              "    <tr>\n",
              "      <th>138841</th>\n",
              "      <td>3.758092e+09</td>\n",
              "      <td>3758093311</td>\n",
              "      <td>Hong Kong</td>\n",
              "    </tr>\n",
              "    <tr>\n",
              "      <th>138842</th>\n",
              "      <td>3.758093e+09</td>\n",
              "      <td>3758094335</td>\n",
              "      <td>India</td>\n",
              "    </tr>\n",
              "    <tr>\n",
              "      <th>138843</th>\n",
              "      <td>3.758095e+09</td>\n",
              "      <td>3758095871</td>\n",
              "      <td>China</td>\n",
              "    </tr>\n",
              "    <tr>\n",
              "      <th>138844</th>\n",
              "      <td>3.758096e+09</td>\n",
              "      <td>3758096127</td>\n",
              "      <td>Singapore</td>\n",
              "    </tr>\n",
              "    <tr>\n",
              "      <th>138845</th>\n",
              "      <td>3.758096e+09</td>\n",
              "      <td>3758096383</td>\n",
              "      <td>Australia</td>\n",
              "    </tr>\n",
              "  </tbody>\n",
              "</table>\n",
              "<p>138846 rows × 3 columns</p>\n",
              "</div>"
            ],
            "text/plain": [
              "        lower_bound_ip_address  upper_bound_ip_address    country\n",
              "0                 1.677722e+07                16777471  Australia\n",
              "1                 1.677747e+07                16777727      China\n",
              "2                 1.677773e+07                16778239      China\n",
              "3                 1.677824e+07                16779263  Australia\n",
              "4                 1.677926e+07                16781311      China\n",
              "...                        ...                     ...        ...\n",
              "138841            3.758092e+09              3758093311  Hong Kong\n",
              "138842            3.758093e+09              3758094335      India\n",
              "138843            3.758095e+09              3758095871      China\n",
              "138844            3.758096e+09              3758096127  Singapore\n",
              "138845            3.758096e+09              3758096383  Australia\n",
              "\n",
              "[138846 rows x 3 columns]"
            ]
          },
          "metadata": {
            "tags": []
          },
          "execution_count": 66
        }
      ]
    },
    {
      "cell_type": "markdown",
      "metadata": {
        "id": "feAaDVnMO_OG"
      },
      "source": [
        "# **DATA WRANGLING**\n"
      ]
    },
    {
      "cell_type": "code",
      "metadata": {
        "id": "tJfPi28TO0V_"
      },
      "source": [
        "# Je décide de drop tous les na dans les datasets afin de supprimer d'éventuels exemples érronés \n",
        "fraud_df = fraud_df.dropna()\n",
        "ipAdress_df = ipAdress_df.dropna()"
      ],
      "execution_count": 67,
      "outputs": []
    },
    {
      "cell_type": "code",
      "metadata": {
        "id": "10uf3r-IUIXy",
        "outputId": "31599a4b-587b-40b3-8619-d11040d91dcd",
        "colab": {
          "base_uri": "https://localhost:8080/",
          "height": 535
        }
      },
      "source": [
        "# Je vais ensuite transformer mes colonnes qualitative en donnée quantitative via la méthode : \"labelencoder\"\n",
        "# Cette méthode permet de trouver toutes les différentes valeur présentes dans une colonne et d'associer une valeur numérique à la place. \n",
        "# Si deux valeurs sont identiques elles prennent le même nombre\n",
        "\n",
        "fraud_df['source'] = labelencoder.fit_transform(fraud_df['source'])\n",
        "fraud_df['browser'] = labelencoder.fit_transform(fraud_df['browser'])\n",
        "fraud_df['device_id'] = labelencoder.fit_transform(fraud_df['device_id'])\n",
        "\n",
        "\n",
        "# Je drop signup_time et purchase_time car se sont des colonnes de date, une fraude peut arriver à n'importe qu'elle heure via des scripts/tâche planifiés ou tout simplement\n",
        "# l'emploi du temps du fraudeurs.\n",
        "\n",
        "fraud_df = fraud_df.drop(['signup_time','purchase_time'], axis= 1)\n",
        "\n",
        "\n",
        "# La colonne \"sex\" possède des valeurs qui peuvent être transformé en booléen. J'utilise la méthode cat.codes\n",
        "\n",
        "fraud_df.sex = fraud_df['sex'].astype('category').cat.codes\n",
        "fraud_df,ipAdress_df"
      ],
      "execution_count": 68,
      "outputs": [
        {
          "output_type": "execute_result",
          "data": {
            "text/plain": [
              "(        user_id  purchase_value  device_id  ...  age    ip_address  class\n",
              " 0         22058              34      89215  ...   39  7.327584e+08      0\n",
              " 1        333320              16      24078  ...   53  3.503114e+08      0\n",
              " 2          1359              15     131216  ...   53  2.621474e+09      1\n",
              " 3        150084              44       3977  ...   41  3.840542e+09      0\n",
              " 4        221365              39      68757  ...   45  4.155831e+08      0\n",
              " ...         ...             ...        ...  ...  ...           ...    ...\n",
              " 151107   345170              43     125335  ...   28  3.451155e+09      1\n",
              " 151108   274471              35      63001  ...   32  2.439047e+09      0\n",
              " 151109   368416              40      64204  ...   26  2.748471e+09      0\n",
              " 151110   207709              46      13118  ...   37  3.601175e+09      0\n",
              " 151111   138208              20     134439  ...   38  4.103825e+09      0\n",
              " \n",
              " [151112 rows x 9 columns],\n",
              "         lower_bound_ip_address  upper_bound_ip_address    country\n",
              " 0                 1.677722e+07                16777471  Australia\n",
              " 1                 1.677747e+07                16777727      China\n",
              " 2                 1.677773e+07                16778239      China\n",
              " 3                 1.677824e+07                16779263  Australia\n",
              " 4                 1.677926e+07                16781311      China\n",
              " ...                        ...                     ...        ...\n",
              " 138841            3.758092e+09              3758093311  Hong Kong\n",
              " 138842            3.758093e+09              3758094335      India\n",
              " 138843            3.758095e+09              3758095871      China\n",
              " 138844            3.758096e+09              3758096127  Singapore\n",
              " 138845            3.758096e+09              3758096383  Australia\n",
              " \n",
              " [138846 rows x 3 columns])"
            ]
          },
          "metadata": {
            "tags": []
          },
          "execution_count": 68
        }
      ]
    },
    {
      "cell_type": "markdown",
      "metadata": {
        "id": "MwQddijIP41q"
      },
      "source": [
        "# **MERGING DES DEUX DATASETS**"
      ]
    },
    {
      "cell_type": "code",
      "metadata": {
        "id": "lFz1HE1kbJtE"
      },
      "source": [
        "# L'objectif de ses deux datasets est de relier les addresses IP des fraudeurs a des plages d'adresses IP\n",
        "\n",
        "# On vas donc merge les deux dataframes. On vas prendre chaque adresse IP et regarder dans quelle plage d'IP elle se trouve, dès qu'on trouve la plage, on associe country à la position\n",
        "\n",
        "def IP_to_country(ip) :\n",
        "    try :\n",
        "        return ipAdress_df.country[(ipAdress_df.lower_bound_ip_address <= ip)\n",
        "                                & \n",
        "                                (ipAdress_df.upper_bound_ip_address >= ip)].iloc[0]\n",
        "    except IndexError :\n",
        "        return \"Unknown\"\n",
        "fraud_df[\"IP_country\"] = fraud_df.ip_address.apply(IP_to_country)"
      ],
      "execution_count": 69,
      "outputs": []
    },
    {
      "cell_type": "code",
      "metadata": {
        "id": "rJHCGpL5mgP4",
        "outputId": "00ea773d-9d4e-4ea8-84d7-4722de48bfeb",
        "colab": {
          "base_uri": "https://localhost:8080/",
          "height": 424
        }
      },
      "source": [
        "# On peut donc voir que notre nouveau dataFrame fraud_df possède la colonne \"IP_country\".\n",
        "\n",
        "fraud_df"
      ],
      "execution_count": 74,
      "outputs": [
        {
          "output_type": "execute_result",
          "data": {
            "text/html": [
              "<div>\n",
              "<style scoped>\n",
              "    .dataframe tbody tr th:only-of-type {\n",
              "        vertical-align: middle;\n",
              "    }\n",
              "\n",
              "    .dataframe tbody tr th {\n",
              "        vertical-align: top;\n",
              "    }\n",
              "\n",
              "    .dataframe thead th {\n",
              "        text-align: right;\n",
              "    }\n",
              "</style>\n",
              "<table border=\"1\" class=\"dataframe\">\n",
              "  <thead>\n",
              "    <tr style=\"text-align: right;\">\n",
              "      <th></th>\n",
              "      <th>user_id</th>\n",
              "      <th>purchase_value</th>\n",
              "      <th>device_id</th>\n",
              "      <th>source</th>\n",
              "      <th>browser</th>\n",
              "      <th>sex</th>\n",
              "      <th>age</th>\n",
              "      <th>ip_address</th>\n",
              "      <th>class</th>\n",
              "      <th>IP_country</th>\n",
              "    </tr>\n",
              "  </thead>\n",
              "  <tbody>\n",
              "    <tr>\n",
              "      <th>0</th>\n",
              "      <td>22058</td>\n",
              "      <td>34</td>\n",
              "      <td>89215</td>\n",
              "      <td>2</td>\n",
              "      <td>0</td>\n",
              "      <td>1</td>\n",
              "      <td>39</td>\n",
              "      <td>7.327584e+08</td>\n",
              "      <td>0</td>\n",
              "      <td>Japan</td>\n",
              "    </tr>\n",
              "    <tr>\n",
              "      <th>1</th>\n",
              "      <td>333320</td>\n",
              "      <td>16</td>\n",
              "      <td>24078</td>\n",
              "      <td>0</td>\n",
              "      <td>0</td>\n",
              "      <td>0</td>\n",
              "      <td>53</td>\n",
              "      <td>3.503114e+08</td>\n",
              "      <td>0</td>\n",
              "      <td>United States</td>\n",
              "    </tr>\n",
              "    <tr>\n",
              "      <th>2</th>\n",
              "      <td>1359</td>\n",
              "      <td>15</td>\n",
              "      <td>131216</td>\n",
              "      <td>2</td>\n",
              "      <td>3</td>\n",
              "      <td>1</td>\n",
              "      <td>53</td>\n",
              "      <td>2.621474e+09</td>\n",
              "      <td>1</td>\n",
              "      <td>United States</td>\n",
              "    </tr>\n",
              "    <tr>\n",
              "      <th>3</th>\n",
              "      <td>150084</td>\n",
              "      <td>44</td>\n",
              "      <td>3977</td>\n",
              "      <td>2</td>\n",
              "      <td>4</td>\n",
              "      <td>1</td>\n",
              "      <td>41</td>\n",
              "      <td>3.840542e+09</td>\n",
              "      <td>0</td>\n",
              "      <td>Unknown</td>\n",
              "    </tr>\n",
              "    <tr>\n",
              "      <th>4</th>\n",
              "      <td>221365</td>\n",
              "      <td>39</td>\n",
              "      <td>68757</td>\n",
              "      <td>0</td>\n",
              "      <td>4</td>\n",
              "      <td>1</td>\n",
              "      <td>45</td>\n",
              "      <td>4.155831e+08</td>\n",
              "      <td>0</td>\n",
              "      <td>United States</td>\n",
              "    </tr>\n",
              "    <tr>\n",
              "      <th>...</th>\n",
              "      <td>...</td>\n",
              "      <td>...</td>\n",
              "      <td>...</td>\n",
              "      <td>...</td>\n",
              "      <td>...</td>\n",
              "      <td>...</td>\n",
              "      <td>...</td>\n",
              "      <td>...</td>\n",
              "      <td>...</td>\n",
              "      <td>...</td>\n",
              "    </tr>\n",
              "    <tr>\n",
              "      <th>151107</th>\n",
              "      <td>345170</td>\n",
              "      <td>43</td>\n",
              "      <td>125335</td>\n",
              "      <td>2</td>\n",
              "      <td>0</td>\n",
              "      <td>1</td>\n",
              "      <td>28</td>\n",
              "      <td>3.451155e+09</td>\n",
              "      <td>1</td>\n",
              "      <td>United States</td>\n",
              "    </tr>\n",
              "    <tr>\n",
              "      <th>151108</th>\n",
              "      <td>274471</td>\n",
              "      <td>35</td>\n",
              "      <td>63001</td>\n",
              "      <td>2</td>\n",
              "      <td>4</td>\n",
              "      <td>1</td>\n",
              "      <td>32</td>\n",
              "      <td>2.439047e+09</td>\n",
              "      <td>0</td>\n",
              "      <td>Netherlands</td>\n",
              "    </tr>\n",
              "    <tr>\n",
              "      <th>151109</th>\n",
              "      <td>368416</td>\n",
              "      <td>40</td>\n",
              "      <td>64204</td>\n",
              "      <td>2</td>\n",
              "      <td>2</td>\n",
              "      <td>0</td>\n",
              "      <td>26</td>\n",
              "      <td>2.748471e+09</td>\n",
              "      <td>0</td>\n",
              "      <td>Japan</td>\n",
              "    </tr>\n",
              "    <tr>\n",
              "      <th>151110</th>\n",
              "      <td>207709</td>\n",
              "      <td>46</td>\n",
              "      <td>13118</td>\n",
              "      <td>2</td>\n",
              "      <td>0</td>\n",
              "      <td>1</td>\n",
              "      <td>37</td>\n",
              "      <td>3.601175e+09</td>\n",
              "      <td>0</td>\n",
              "      <td>United States</td>\n",
              "    </tr>\n",
              "    <tr>\n",
              "      <th>151111</th>\n",
              "      <td>138208</td>\n",
              "      <td>20</td>\n",
              "      <td>134439</td>\n",
              "      <td>1</td>\n",
              "      <td>2</td>\n",
              "      <td>1</td>\n",
              "      <td>38</td>\n",
              "      <td>4.103825e+09</td>\n",
              "      <td>0</td>\n",
              "      <td>Unknown</td>\n",
              "    </tr>\n",
              "  </tbody>\n",
              "</table>\n",
              "<p>151112 rows × 10 columns</p>\n",
              "</div>"
            ],
            "text/plain": [
              "        user_id  purchase_value  device_id  ...    ip_address  class     IP_country\n",
              "0         22058              34      89215  ...  7.327584e+08      0          Japan\n",
              "1        333320              16      24078  ...  3.503114e+08      0  United States\n",
              "2          1359              15     131216  ...  2.621474e+09      1  United States\n",
              "3        150084              44       3977  ...  3.840542e+09      0        Unknown\n",
              "4        221365              39      68757  ...  4.155831e+08      0  United States\n",
              "...         ...             ...        ...  ...           ...    ...            ...\n",
              "151107   345170              43     125335  ...  3.451155e+09      1  United States\n",
              "151108   274471              35      63001  ...  2.439047e+09      0    Netherlands\n",
              "151109   368416              40      64204  ...  2.748471e+09      0          Japan\n",
              "151110   207709              46      13118  ...  3.601175e+09      0  United States\n",
              "151111   138208              20     134439  ...  4.103825e+09      0        Unknown\n",
              "\n",
              "[151112 rows x 10 columns]"
            ]
          },
          "metadata": {
            "tags": []
          },
          "execution_count": 74
        }
      ]
    },
    {
      "cell_type": "markdown",
      "metadata": {
        "id": "8zYfcfJAP_8j"
      },
      "source": [
        "# **DATA CLEANING**\n",
        "\n",
        "avec un petit peu de reformatage de donnée"
      ]
    },
    {
      "cell_type": "code",
      "metadata": {
        "id": "P9rBiR5T_B62"
      },
      "source": [
        "#On s'aperçoit que certaine ligne possède une valeur appelé \"Unknown\" car l'ip ne faisait partie d'aucune plage de donnée, on va les supprimés\n",
        "fraud_df = fraud_df[fraud_df.IP_country != 'Unknown']"
      ],
      "execution_count": 147,
      "outputs": []
    },
    {
      "cell_type": "code",
      "metadata": {
        "id": "VJSmxi_6l0r6",
        "outputId": "e75ecfb5-c8c8-4289-91c5-7b29a07910af",
        "colab": {
          "base_uri": "https://localhost:8080/",
          "height": 239
        }
      },
      "source": [
        "# J'isole ma target\n",
        "Y = fraud_df['class']\n",
        "Y"
      ],
      "execution_count": 148,
      "outputs": [
        {
          "output_type": "execute_result",
          "data": {
            "text/plain": [
              "0         0\n",
              "1         0\n",
              "2         1\n",
              "4         0\n",
              "5         0\n",
              "         ..\n",
              "151106    0\n",
              "151107    1\n",
              "151108    0\n",
              "151109    0\n",
              "151110    0\n",
              "Name: class, Length: 129146, dtype: int64"
            ]
          },
          "metadata": {
            "tags": []
          },
          "execution_count": 148
        }
      ]
    },
    {
      "cell_type": "code",
      "metadata": {
        "id": "UY8keApsmEjH",
        "outputId": "76407544-c4e6-413a-8021-88d9b4dc89e3",
        "colab": {
          "base_uri": "https://localhost:8080/",
          "height": 424
        }
      },
      "source": [
        "# J'isole mes features en supprimant ma target et l'adresse IP qui n'a plus d'interet ici \n",
        "X = fraud_df.drop(['ip_address','class'], axis = 1)\n",
        "X"
      ],
      "execution_count": 149,
      "outputs": [
        {
          "output_type": "execute_result",
          "data": {
            "text/html": [
              "<div>\n",
              "<style scoped>\n",
              "    .dataframe tbody tr th:only-of-type {\n",
              "        vertical-align: middle;\n",
              "    }\n",
              "\n",
              "    .dataframe tbody tr th {\n",
              "        vertical-align: top;\n",
              "    }\n",
              "\n",
              "    .dataframe thead th {\n",
              "        text-align: right;\n",
              "    }\n",
              "</style>\n",
              "<table border=\"1\" class=\"dataframe\">\n",
              "  <thead>\n",
              "    <tr style=\"text-align: right;\">\n",
              "      <th></th>\n",
              "      <th>user_id</th>\n",
              "      <th>purchase_value</th>\n",
              "      <th>device_id</th>\n",
              "      <th>source</th>\n",
              "      <th>browser</th>\n",
              "      <th>sex</th>\n",
              "      <th>age</th>\n",
              "      <th>IP_country</th>\n",
              "    </tr>\n",
              "  </thead>\n",
              "  <tbody>\n",
              "    <tr>\n",
              "      <th>0</th>\n",
              "      <td>22058</td>\n",
              "      <td>34</td>\n",
              "      <td>89215</td>\n",
              "      <td>2</td>\n",
              "      <td>0</td>\n",
              "      <td>1</td>\n",
              "      <td>39</td>\n",
              "      <td>Japan</td>\n",
              "    </tr>\n",
              "    <tr>\n",
              "      <th>1</th>\n",
              "      <td>333320</td>\n",
              "      <td>16</td>\n",
              "      <td>24078</td>\n",
              "      <td>0</td>\n",
              "      <td>0</td>\n",
              "      <td>0</td>\n",
              "      <td>53</td>\n",
              "      <td>United States</td>\n",
              "    </tr>\n",
              "    <tr>\n",
              "      <th>2</th>\n",
              "      <td>1359</td>\n",
              "      <td>15</td>\n",
              "      <td>131216</td>\n",
              "      <td>2</td>\n",
              "      <td>3</td>\n",
              "      <td>1</td>\n",
              "      <td>53</td>\n",
              "      <td>United States</td>\n",
              "    </tr>\n",
              "    <tr>\n",
              "      <th>4</th>\n",
              "      <td>221365</td>\n",
              "      <td>39</td>\n",
              "      <td>68757</td>\n",
              "      <td>0</td>\n",
              "      <td>4</td>\n",
              "      <td>1</td>\n",
              "      <td>45</td>\n",
              "      <td>United States</td>\n",
              "    </tr>\n",
              "    <tr>\n",
              "      <th>5</th>\n",
              "      <td>159135</td>\n",
              "      <td>42</td>\n",
              "      <td>2322</td>\n",
              "      <td>0</td>\n",
              "      <td>0</td>\n",
              "      <td>1</td>\n",
              "      <td>18</td>\n",
              "      <td>Canada</td>\n",
              "    </tr>\n",
              "    <tr>\n",
              "      <th>...</th>\n",
              "      <td>...</td>\n",
              "      <td>...</td>\n",
              "      <td>...</td>\n",
              "      <td>...</td>\n",
              "      <td>...</td>\n",
              "      <td>...</td>\n",
              "      <td>...</td>\n",
              "      <td>...</td>\n",
              "    </tr>\n",
              "    <tr>\n",
              "      <th>151106</th>\n",
              "      <td>360761</td>\n",
              "      <td>13</td>\n",
              "      <td>22251</td>\n",
              "      <td>2</td>\n",
              "      <td>4</td>\n",
              "      <td>0</td>\n",
              "      <td>42</td>\n",
              "      <td>United States</td>\n",
              "    </tr>\n",
              "    <tr>\n",
              "      <th>151107</th>\n",
              "      <td>345170</td>\n",
              "      <td>43</td>\n",
              "      <td>125335</td>\n",
              "      <td>2</td>\n",
              "      <td>0</td>\n",
              "      <td>1</td>\n",
              "      <td>28</td>\n",
              "      <td>United States</td>\n",
              "    </tr>\n",
              "    <tr>\n",
              "      <th>151108</th>\n",
              "      <td>274471</td>\n",
              "      <td>35</td>\n",
              "      <td>63001</td>\n",
              "      <td>2</td>\n",
              "      <td>4</td>\n",
              "      <td>1</td>\n",
              "      <td>32</td>\n",
              "      <td>Netherlands</td>\n",
              "    </tr>\n",
              "    <tr>\n",
              "      <th>151109</th>\n",
              "      <td>368416</td>\n",
              "      <td>40</td>\n",
              "      <td>64204</td>\n",
              "      <td>2</td>\n",
              "      <td>2</td>\n",
              "      <td>0</td>\n",
              "      <td>26</td>\n",
              "      <td>Japan</td>\n",
              "    </tr>\n",
              "    <tr>\n",
              "      <th>151110</th>\n",
              "      <td>207709</td>\n",
              "      <td>46</td>\n",
              "      <td>13118</td>\n",
              "      <td>2</td>\n",
              "      <td>0</td>\n",
              "      <td>1</td>\n",
              "      <td>37</td>\n",
              "      <td>United States</td>\n",
              "    </tr>\n",
              "  </tbody>\n",
              "</table>\n",
              "<p>129146 rows × 8 columns</p>\n",
              "</div>"
            ],
            "text/plain": [
              "        user_id  purchase_value  device_id  ...  sex  age     IP_country\n",
              "0         22058              34      89215  ...    1   39          Japan\n",
              "1        333320              16      24078  ...    0   53  United States\n",
              "2          1359              15     131216  ...    1   53  United States\n",
              "4        221365              39      68757  ...    1   45  United States\n",
              "5        159135              42       2322  ...    1   18         Canada\n",
              "...         ...             ...        ...  ...  ...  ...            ...\n",
              "151106   360761              13      22251  ...    0   42  United States\n",
              "151107   345170              43     125335  ...    1   28  United States\n",
              "151108   274471              35      63001  ...    1   32    Netherlands\n",
              "151109   368416              40      64204  ...    0   26          Japan\n",
              "151110   207709              46      13118  ...    1   37  United States\n",
              "\n",
              "[129146 rows x 8 columns]"
            ]
          },
          "metadata": {
            "tags": []
          },
          "execution_count": 149
        }
      ]
    },
    {
      "cell_type": "code",
      "metadata": {
        "id": "4mbmPrttnTWX",
        "outputId": "5ff368a9-24ff-48be-a552-dea579370582",
        "colab": {
          "base_uri": "https://localhost:8080/",
          "height": 424
        }
      },
      "source": [
        "# Ma nouvelle colonne Ip_country est en string je transforme comme pour les autres variables qualitative en variable quantitative\n",
        "X['IP_country'] = labelencoder.fit_transform(X['IP_country'])\n",
        "# Essaie non fructueux de reverse le transform\n",
        "# X['IP_country'] = labelencoder.inverse_transform(X['IP_country'])\n",
        "X"
      ],
      "execution_count": 150,
      "outputs": [
        {
          "output_type": "execute_result",
          "data": {
            "text/html": [
              "<div>\n",
              "<style scoped>\n",
              "    .dataframe tbody tr th:only-of-type {\n",
              "        vertical-align: middle;\n",
              "    }\n",
              "\n",
              "    .dataframe tbody tr th {\n",
              "        vertical-align: top;\n",
              "    }\n",
              "\n",
              "    .dataframe thead th {\n",
              "        text-align: right;\n",
              "    }\n",
              "</style>\n",
              "<table border=\"1\" class=\"dataframe\">\n",
              "  <thead>\n",
              "    <tr style=\"text-align: right;\">\n",
              "      <th></th>\n",
              "      <th>user_id</th>\n",
              "      <th>purchase_value</th>\n",
              "      <th>device_id</th>\n",
              "      <th>source</th>\n",
              "      <th>browser</th>\n",
              "      <th>sex</th>\n",
              "      <th>age</th>\n",
              "      <th>IP_country</th>\n",
              "    </tr>\n",
              "  </thead>\n",
              "  <tbody>\n",
              "    <tr>\n",
              "      <th>0</th>\n",
              "      <td>22058</td>\n",
              "      <td>34</td>\n",
              "      <td>89215</td>\n",
              "      <td>2</td>\n",
              "      <td>0</td>\n",
              "      <td>1</td>\n",
              "      <td>39</td>\n",
              "      <td>84</td>\n",
              "    </tr>\n",
              "    <tr>\n",
              "      <th>1</th>\n",
              "      <td>333320</td>\n",
              "      <td>16</td>\n",
              "      <td>24078</td>\n",
              "      <td>0</td>\n",
              "      <td>0</td>\n",
              "      <td>0</td>\n",
              "      <td>53</td>\n",
              "      <td>171</td>\n",
              "    </tr>\n",
              "    <tr>\n",
              "      <th>2</th>\n",
              "      <td>1359</td>\n",
              "      <td>15</td>\n",
              "      <td>131216</td>\n",
              "      <td>2</td>\n",
              "      <td>3</td>\n",
              "      <td>1</td>\n",
              "      <td>53</td>\n",
              "      <td>171</td>\n",
              "    </tr>\n",
              "    <tr>\n",
              "      <th>4</th>\n",
              "      <td>221365</td>\n",
              "      <td>39</td>\n",
              "      <td>68757</td>\n",
              "      <td>0</td>\n",
              "      <td>4</td>\n",
              "      <td>1</td>\n",
              "      <td>45</td>\n",
              "      <td>171</td>\n",
              "    </tr>\n",
              "    <tr>\n",
              "      <th>5</th>\n",
              "      <td>159135</td>\n",
              "      <td>42</td>\n",
              "      <td>2322</td>\n",
              "      <td>0</td>\n",
              "      <td>0</td>\n",
              "      <td>1</td>\n",
              "      <td>18</td>\n",
              "      <td>32</td>\n",
              "    </tr>\n",
              "    <tr>\n",
              "      <th>...</th>\n",
              "      <td>...</td>\n",
              "      <td>...</td>\n",
              "      <td>...</td>\n",
              "      <td>...</td>\n",
              "      <td>...</td>\n",
              "      <td>...</td>\n",
              "      <td>...</td>\n",
              "      <td>...</td>\n",
              "    </tr>\n",
              "    <tr>\n",
              "      <th>151106</th>\n",
              "      <td>360761</td>\n",
              "      <td>13</td>\n",
              "      <td>22251</td>\n",
              "      <td>2</td>\n",
              "      <td>4</td>\n",
              "      <td>0</td>\n",
              "      <td>42</td>\n",
              "      <td>171</td>\n",
              "    </tr>\n",
              "    <tr>\n",
              "      <th>151107</th>\n",
              "      <td>345170</td>\n",
              "      <td>43</td>\n",
              "      <td>125335</td>\n",
              "      <td>2</td>\n",
              "      <td>0</td>\n",
              "      <td>1</td>\n",
              "      <td>28</td>\n",
              "      <td>171</td>\n",
              "    </tr>\n",
              "    <tr>\n",
              "      <th>151108</th>\n",
              "      <td>274471</td>\n",
              "      <td>35</td>\n",
              "      <td>63001</td>\n",
              "      <td>2</td>\n",
              "      <td>4</td>\n",
              "      <td>1</td>\n",
              "      <td>32</td>\n",
              "      <td>118</td>\n",
              "    </tr>\n",
              "    <tr>\n",
              "      <th>151109</th>\n",
              "      <td>368416</td>\n",
              "      <td>40</td>\n",
              "      <td>64204</td>\n",
              "      <td>2</td>\n",
              "      <td>2</td>\n",
              "      <td>0</td>\n",
              "      <td>26</td>\n",
              "      <td>84</td>\n",
              "    </tr>\n",
              "    <tr>\n",
              "      <th>151110</th>\n",
              "      <td>207709</td>\n",
              "      <td>46</td>\n",
              "      <td>13118</td>\n",
              "      <td>2</td>\n",
              "      <td>0</td>\n",
              "      <td>1</td>\n",
              "      <td>37</td>\n",
              "      <td>171</td>\n",
              "    </tr>\n",
              "  </tbody>\n",
              "</table>\n",
              "<p>129146 rows × 8 columns</p>\n",
              "</div>"
            ],
            "text/plain": [
              "        user_id  purchase_value  device_id  ...  sex  age  IP_country\n",
              "0         22058              34      89215  ...    1   39          84\n",
              "1        333320              16      24078  ...    0   53         171\n",
              "2          1359              15     131216  ...    1   53         171\n",
              "4        221365              39      68757  ...    1   45         171\n",
              "5        159135              42       2322  ...    1   18          32\n",
              "...         ...             ...        ...  ...  ...  ...         ...\n",
              "151106   360761              13      22251  ...    0   42         171\n",
              "151107   345170              43     125335  ...    1   28         171\n",
              "151108   274471              35      63001  ...    1   32         118\n",
              "151109   368416              40      64204  ...    0   26          84\n",
              "151110   207709              46      13118  ...    1   37         171\n",
              "\n",
              "[129146 rows x 8 columns]"
            ]
          },
          "metadata": {
            "tags": []
          },
          "execution_count": 150
        }
      ]
    },
    {
      "cell_type": "code",
      "metadata": {
        "id": "5nBaEOqKo6RJ"
      },
      "source": [
        "# A cause du temps de merging j'ai décidé de faire un export du dataset mergé\n",
        "fraud_df.to_csv(\"/content/Final_df.csv\")"
      ],
      "execution_count": 79,
      "outputs": []
    },
    {
      "cell_type": "code",
      "metadata": {
        "id": "T2aXzQpWmRXV",
        "outputId": "322bab80-6c47-4e0c-9ac4-3ea88e6f475a",
        "colab": {
          "base_uri": "https://localhost:8080/",
          "height": 91
        }
      },
      "source": [
        "# On vas split notre environnement de travail en 2 grandes parties : L'environnement de prod (test) et d'entrainement (train)\n",
        "# On vérifie la shape de nos variables afin de s'assurer de possèder le bon nombre de colonnes et de lignes\n",
        "splits = train_test_split(X,Y,\n",
        "                          random_state=0)\n",
        "\n",
        "for each in splits:\n",
        "  print(each.shape)\n",
        "X_train, X_test, Y_train, Y_test = splits\n",
        "scaler = StandardScaler()"
      ],
      "execution_count": 151,
      "outputs": [
        {
          "output_type": "stream",
          "text": [
            "(96859, 8)\n",
            "(32287, 8)\n",
            "(96859,)\n",
            "(32287,)\n"
          ],
          "name": "stdout"
        }
      ]
    },
    {
      "cell_type": "code",
      "metadata": {
        "id": "Q4ifn2l5mWeI"
      },
      "source": [
        "# Petite fonction permettant de calculer l'accuracy et ensuite de le mettre en %\n",
        "def accuracy(preds, Y):\n",
        "  return ((preds == Y).sum() / len(Y)* 100)"
      ],
      "execution_count": 153,
      "outputs": []
    },
    {
      "cell_type": "markdown",
      "metadata": {
        "id": "ss-dybHuQL21"
      },
      "source": [
        "# **ENTRAINEMENT DE NOTRE MODELE**"
      ]
    },
    {
      "cell_type": "code",
      "metadata": {
        "id": "Mdx4USsAmYkn",
        "outputId": "0d72ffd5-b9fa-4a4d-e297-8b3f79576d38",
        "colab": {
          "base_uri": "https://localhost:8080/",
          "height": 35
        }
      },
      "source": [
        "# On applique l'algorithme RandomForest\n",
        "rf = RF()\n",
        "rf.fit(X_train,Y_train)\n",
        "prediction = rf.predict(X_test)\n",
        "print(prediction)"
      ],
      "execution_count": 156,
      "outputs": [
        {
          "output_type": "stream",
          "text": [
            "[0 0 0 ... 0 0 0]\n"
          ],
          "name": "stdout"
        }
      ]
    },
    {
      "cell_type": "markdown",
      "metadata": {
        "id": "Fkhw043aQVKt"
      },
      "source": [
        "**Accuracy**"
      ]
    },
    {
      "cell_type": "code",
      "metadata": {
        "id": "NgywxZxoqmrL",
        "outputId": "a8e59f72-3f26-41eb-b616-86cecc57af36",
        "colab": {
          "base_uri": "https://localhost:8080/",
          "height": 35
        }
      },
      "source": [
        "# On observe une accuracy de 94% dans ce test avec comme hyperparamètre random_state=0\n",
        "accuracy(prediction,Y_test)"
      ],
      "execution_count": 157,
      "outputs": [
        {
          "output_type": "execute_result",
          "data": {
            "text/plain": [
              "94.19890358348562"
            ]
          },
          "metadata": {
            "tags": []
          },
          "execution_count": 157
        }
      ]
    },
    {
      "cell_type": "markdown",
      "metadata": {
        "id": "RMBzqnq5QhYI"
      },
      "source": [
        "**L'importance de chaque feature**"
      ]
    },
    {
      "cell_type": "code",
      "metadata": {
        "id": "6Djw9aguyEvP",
        "outputId": "fc53afea-8487-4023-95b3-3fcbd6bf980b",
        "colab": {
          "base_uri": "https://localhost:8080/",
          "height": 54
        }
      },
      "source": [
        "# Ici on vas réentrainer notre model pour faire un test d'importance sur nos features\n",
        "rf.fit(X_train, Y_train)\n",
        "importance = rf.feature_importances_\n",
        "importance"
      ],
      "execution_count": 158,
      "outputs": [
        {
          "output_type": "execute_result",
          "data": {
            "text/plain": [
              "array([0.22078952, 0.17795011, 0.27877626, 0.02445984, 0.03052873,\n",
              "       0.01619274, 0.14988664, 0.10141616])"
            ]
          },
          "metadata": {
            "tags": []
          },
          "execution_count": 158
        }
      ]
    },
    {
      "cell_type": "markdown",
      "metadata": {
        "id": "Dtt8oMLUREk0"
      },
      "source": [
        "**Affichage en %/100 de l'importance de nos features**"
      ]
    },
    {
      "cell_type": "code",
      "metadata": {
        "id": "AKmF18dGyQ7s",
        "outputId": "b55add12-1f56-4909-acd0-70f4f4dc4190",
        "colab": {
          "base_uri": "https://localhost:8080/",
          "height": 371
        }
      },
      "source": [
        "# Une fois l'importance réalisé on vas la plot afin mieux observer à quel point une feature peut faire varier notre accuracy\n",
        "# Je crée un nouveau dataframe pour pouvoir stocker seulement les colonnes qui m'intéresse\n",
        "\n",
        "d = pd.DataFrame()\n",
        "d['features'] = X_train.columns\n",
        "d['pouvoir_predictif'] = importance\n",
        "print('Somme des pouvoirs predictif : {}'.format(d['pouvoir_predictif'].sum()))\n",
        "d['pouvoir_predictif'] = d['pouvoir_predictif'].apply(lambda v : v*100)\n",
        "d = d.sort_values(by='pouvoir_predictif', ascending=True)\n",
        "sns.barplot(d['pouvoir_predictif'], d['features']).set_title('Pouvoir predictif des features');"
      ],
      "execution_count": 159,
      "outputs": [
        {
          "output_type": "stream",
          "text": [
            "Somme des pouvoirs predictif : 1.0\n"
          ],
          "name": "stdout"
        },
        {
          "output_type": "stream",
          "text": [
            "/usr/local/lib/python3.6/dist-packages/seaborn/_decorators.py:43: FutureWarning: Pass the following variables as keyword args: x, y. From version 0.12, the only valid positional argument will be `data`, and passing other arguments without an explicit keyword will result in an error or misinterpretation.\n",
            "  FutureWarning\n"
          ],
          "name": "stderr"
        },
        {
          "output_type": "display_data",
          "data": {
            "image/png": "[encoded data removed]",
            "text/plain": [
              "<Figure size 432x288 with 1 Axes>"
            ]
          },
          "metadata": {
            "tags": [],
            "needs_background": "light"
          }
        }
      ]
    },
    {
      "cell_type": "markdown",
      "metadata": {
        "id": "66-PgMtSG9t8"
      },
      "source": [
        "# **Explication du graphique ci-dessus**\n",
        "Dans ce graphique on peut observer en abscisse le pouvoir prédictif qui correspond à l'influence que peut avoir une feature sur notre accuracy\n",
        "En ordonnée ce sont toutes nos features utilisés pour faire nos prédictions et teste d'accuracy.\n",
        "\n",
        "L'unité de l'abscisse est un % qui lorsque l'on cumule chaque feature arrive à 100.\n",
        "\n",
        "On peut clairement voir que la feature qui impacte le plus notre accuracy  est le device_id qui correspond au nom de la machine qu'utilise le fraudeur. Il est donc censé de ce dire que lorsque l'on identifie le device d'un fraudeur celui-ci vas probablement recommencé avec la même machine. On peut doncre prendre des mesures contre ce genre de fraudeur."
      ]
    },
    {
      "cell_type": "code",
      "metadata": {
        "id": "CcP9K-XftScJ",
        "outputId": "fda17a85-a866-40e5-d9e1-24033c9ebdae",
        "colab": {
          "base_uri": "https://localhost:8080/",
          "height": 300
        }
      },
      "source": [
        "d"
      ],
      "execution_count": 30,
      "outputs": [
        {
          "output_type": "execute_result",
          "data": {
            "text/html": [
              "<div>\n",
              "<style scoped>\n",
              "    .dataframe tbody tr th:only-of-type {\n",
              "        vertical-align: middle;\n",
              "    }\n",
              "\n",
              "    .dataframe tbody tr th {\n",
              "        vertical-align: top;\n",
              "    }\n",
              "\n",
              "    .dataframe thead th {\n",
              "        text-align: right;\n",
              "    }\n",
              "</style>\n",
              "<table border=\"1\" class=\"dataframe\">\n",
              "  <thead>\n",
              "    <tr style=\"text-align: right;\">\n",
              "      <th></th>\n",
              "      <th>features</th>\n",
              "      <th>pouvoir_predictif</th>\n",
              "    </tr>\n",
              "  </thead>\n",
              "  <tbody>\n",
              "    <tr>\n",
              "      <th>5</th>\n",
              "      <td>sex</td>\n",
              "      <td>2.668760</td>\n",
              "    </tr>\n",
              "    <tr>\n",
              "      <th>3</th>\n",
              "      <td>source</td>\n",
              "      <td>4.012803</td>\n",
              "    </tr>\n",
              "    <tr>\n",
              "      <th>4</th>\n",
              "      <td>browser</td>\n",
              "      <td>6.510174</td>\n",
              "    </tr>\n",
              "    <tr>\n",
              "      <th>7</th>\n",
              "      <td>IP_country</td>\n",
              "      <td>12.287398</td>\n",
              "    </tr>\n",
              "    <tr>\n",
              "      <th>6</th>\n",
              "      <td>age</td>\n",
              "      <td>14.785916</td>\n",
              "    </tr>\n",
              "    <tr>\n",
              "      <th>1</th>\n",
              "      <td>purchase_value</td>\n",
              "      <td>16.053195</td>\n",
              "    </tr>\n",
              "    <tr>\n",
              "      <th>0</th>\n",
              "      <td>user_id</td>\n",
              "      <td>19.140986</td>\n",
              "    </tr>\n",
              "    <tr>\n",
              "      <th>2</th>\n",
              "      <td>device_id</td>\n",
              "      <td>24.540769</td>\n",
              "    </tr>\n",
              "  </tbody>\n",
              "</table>\n",
              "</div>"
            ],
            "text/plain": [
              "         features  pouvoir_predictif\n",
              "5             sex           2.668760\n",
              "3          source           4.012803\n",
              "4         browser           6.510174\n",
              "7      IP_country          12.287398\n",
              "6             age          14.785916\n",
              "1  purchase_value          16.053195\n",
              "0         user_id          19.140986\n",
              "2       device_id          24.540769"
            ]
          },
          "metadata": {
            "tags": []
          },
          "execution_count": 30
        }
      ]
    },
    {
      "cell_type": "code",
      "metadata": {
        "id": "IrOaiTofqrBe",
        "outputId": "03be53da-3614-4ba4-c234-8de50f2f57c1",
        "colab": {
          "base_uri": "https://localhost:8080/",
          "height": 54
        }
      },
      "source": [
        "# Ici on fait une matrice de confusion nous permettant d'observer le nombre de faux positif ou faux négatif.\n",
        "from sklearn.metrics import confusion_matrix\n",
        "confusion_matrix(Y_test,prediction)"
      ],
      "execution_count": 205,
      "outputs": [
        {
          "output_type": "execute_result",
          "data": {
            "text/plain": [
              "array([[29059,   142],\n",
              "       [ 1731,  1355]])"
            ]
          },
          "metadata": {
            "tags": []
          },
          "execution_count": 205
        }
      ]
    },
    {
      "cell_type": "code",
      "metadata": {
        "id": "5IgXfSZh2-TR",
        "outputId": "82dd11c5-7917-40c1-d42c-d6452524971a",
        "colab": {
          "base_uri": "https://localhost:8080/",
          "height": 313
        }
      },
      "source": [
        "# J'affiche le nombre de fraude en fonction des 10premiers pays\n",
        "# Pour ça je récupère les colonnes class et ip country et en fait un nouveau dataframe\n",
        "# Je ne souhaite garder que les cas ou la fraude à été prédit.\n",
        "\n",
        "#Je groupby pour sur ip_country et additionne la colonne class en fonction des pays\n",
        "\n",
        "attack_df = fraud_df[fraud_df['class'] == 1]\n",
        "attack_df = attack_df[['class','IP_country']]\n",
        "attack_df = attack_df[attack_df.IP_country != 'Unknown']\n",
        "\n",
        "attack_df\n",
        "\n",
        "total_attack = attack_df.groupby(by='IP_country', as_index=False).sum().sort_values(by='class', ascending = False)\n",
        "total_attack.head(15)\n",
        "\n",
        "sns.barplot(total_attack['class'], total_attack['IP_country'][:10]).set_title('Nombre de fraude en fonction du pays')"
      ],
      "execution_count": 204,
      "outputs": [
        {
          "output_type": "execute_result",
          "data": {
            "text/plain": [
              "Text(0.5, 1.0, 'Nombre de fraude en fonction du pays')"
            ]
          },
          "metadata": {
            "tags": []
          },
          "execution_count": 204
        },
        {
          "output_type": "display_data",
          "data": {
            "image/png": "[encoded data removed]",
            "text/plain": [
              "<Figure size 432x288 with 1 Axes>"
            ]
          },
          "metadata": {
            "tags": [],
            "needs_background": "light"
          }
        }
      ]
    },
    {
      "cell_type": "markdown",
      "metadata": {
        "id": "Rc2-zc1VAPne"
      },
      "source": [
        "# **Conclusion**\n",
        "Au vu de l'étude faite sur les deux datasets, notre algorithme peut prédire à 94% si une personne fraude. Il est possible d'identifier sur quel device et quel utilisateur fraude. \n",
        "Une très grande majorité des fraudeurs sont basé aux États-Unis, je recommande donc de vérifier si le marché américain est celui que l'application vise ou alors de prendre des mesures de précautions plus grande lorsqu'un utilisateur s'enregistre depuis une IP américaine afin de prévenir d'éventuel fraude."
      ]
    }
  ]
}