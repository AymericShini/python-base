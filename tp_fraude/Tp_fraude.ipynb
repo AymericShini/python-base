{
  "nbformat": 4,
  "nbformat_minor": 0,
  "metadata": {
    "colab": {
      "name": "Tp_fraude.ipynb",
      "provenance": [],
      "collapsed_sections": []
    },
    "kernelspec": {
      "name": "python3",
      "display_name": "Python 3"
    }
  },
  "cells": [
    {
      "cell_type": "markdown",
      "metadata": {
        "id": "o4qX38yLOobj"
      },
      "source": [
        "# **Import des Datasets**"
      ]
    },
    {
      "cell_type": "code",
      "metadata": {
        "id": "F9JcxPGZNTBB"
      },
      "source": [
        "# Demange Aymeric 02/10/2020\n",
        "#TP de machine learning sur deux datasets de fraude\n",
        "\n",
        "\n",
        "import seaborn as sns\n",
        "import pandas as pd\n",
        "import warnings\n",
        "\n",
        "from sklearn.ensemble import RandomForestClassifier as RF\n",
        "from sklearn.model_selection import train_test_split\n",
        "from sklearn.preprocessing import StandardScaler\n",
        "from sklearn import preprocessing\n",
        "from sklearn import metrics\n",
        "\n",
        "\n",
        "\n",
        "warnings.filterwarnings(\"ignore\")\n",
        "\n",
        "sns.set\n",
        "\n",
        "labelencoder = preprocessing.LabelEncoder()\n",
        "\n",
        "# charger le dataset\n",
        "ipAdress = pd.read_csv(r\"/content/IpAddress_to_Country.csv\")\n",
        "fraud = pd.read_csv(r\"/content/Fraud_Data.csv\")\n",
        "ipAdress_df = ipAdress\n",
        "fraud_df = fraud"
      ],
      "execution_count": 4,
      "outputs": []
    },
    {
      "cell_type": "code",
      "metadata": {
        "id": "V9qnepPJNqia",
        "outputId": "afe1a769-88af-4166-b967-ada6e7adc550",
        "colab": {
          "base_uri": "https://localhost:8080/",
          "height": 419
        }
      },
      "source": [
        "# On peut observer que notre target c'est la colonne \"class\"\n",
        "# Beaucoup de colonnes sont des variables qualitatives qu'il vas falloir transformer si on les gardes\n",
        "fraud_df"
      ],
      "execution_count": 5,
      "outputs": [
        {
          "output_type": "execute_result",
          "data": {
            "text/html": [
              "<div>\n",
              "<style scoped>\n",
              "    .dataframe tbody tr th:only-of-type {\n",
              "        vertical-align: middle;\n",
              "    }\n",
              "\n",
              "    .dataframe tbody tr th {\n",
              "        vertical-align: top;\n",
              "    }\n",
              "\n",
              "    .dataframe thead th {\n",
              "        text-align: right;\n",
              "    }\n",
              "</style>\n",
              "<table border=\"1\" class=\"dataframe\">\n",
              "  <thead>\n",
              "    <tr style=\"text-align: right;\">\n",
              "      <th></th>\n",
              "      <th>user_id</th>\n",
              "      <th>signup_time</th>\n",
              "      <th>purchase_time</th>\n",
              "      <th>purchase_value</th>\n",
              "      <th>device_id</th>\n",
              "      <th>source</th>\n",
              "      <th>browser</th>\n",
              "      <th>sex</th>\n",
              "      <th>age</th>\n",
              "      <th>ip_address</th>\n",
              "      <th>class</th>\n",
              "    </tr>\n",
              "  </thead>\n",
              "  <tbody>\n",
              "    <tr>\n",
              "      <th>0</th>\n",
              "      <td>22058</td>\n",
              "      <td>2015-02-24 22:55:49</td>\n",
              "      <td>2015-04-18 02:47:11</td>\n",
              "      <td>34.0</td>\n",
              "      <td>QVPSPJUOCKZAR</td>\n",
              "      <td>SEO</td>\n",
              "      <td>Chrome</td>\n",
              "      <td>M</td>\n",
              "      <td>39.0</td>\n",
              "      <td>7.327584e+08</td>\n",
              "      <td>0.0</td>\n",
              "    </tr>\n",
              "    <tr>\n",
              "      <th>1</th>\n",
              "      <td>333320</td>\n",
              "      <td>2015-06-07 20:39:50</td>\n",
              "      <td>2015-06-08 01:38:54</td>\n",
              "      <td>16.0</td>\n",
              "      <td>EOGFQPIZPYXFZ</td>\n",
              "      <td>Ads</td>\n",
              "      <td>Chrome</td>\n",
              "      <td>F</td>\n",
              "      <td>53.0</td>\n",
              "      <td>3.503114e+08</td>\n",
              "      <td>0.0</td>\n",
              "    </tr>\n",
              "    <tr>\n",
              "      <th>2</th>\n",
              "      <td>1359</td>\n",
              "      <td>2015-01-01 18:52:44</td>\n",
              "      <td>2015-01-01 18:52:45</td>\n",
              "      <td>15.0</td>\n",
              "      <td>YSSKYOSJHPPLJ</td>\n",
              "      <td>SEO</td>\n",
              "      <td>Opera</td>\n",
              "      <td>M</td>\n",
              "      <td>53.0</td>\n",
              "      <td>2.621474e+09</td>\n",
              "      <td>1.0</td>\n",
              "    </tr>\n",
              "    <tr>\n",
              "      <th>3</th>\n",
              "      <td>150084</td>\n",
              "      <td>2015-04-28 21:13:25</td>\n",
              "      <td>2015-05-04 13:54:50</td>\n",
              "      <td>44.0</td>\n",
              "      <td>ATGTXKYKUDUQN</td>\n",
              "      <td>SEO</td>\n",
              "      <td>Safari</td>\n",
              "      <td>M</td>\n",
              "      <td>41.0</td>\n",
              "      <td>3.840542e+09</td>\n",
              "      <td>0.0</td>\n",
              "    </tr>\n",
              "    <tr>\n",
              "      <th>4</th>\n",
              "      <td>221365</td>\n",
              "      <td>2015-07-21 07:09:52</td>\n",
              "      <td>2015-09-09 18:40:53</td>\n",
              "      <td>39.0</td>\n",
              "      <td>NAUITBZFJKHWW</td>\n",
              "      <td>Ads</td>\n",
              "      <td>Safari</td>\n",
              "      <td>M</td>\n",
              "      <td>45.0</td>\n",
              "      <td>4.155831e+08</td>\n",
              "      <td>0.0</td>\n",
              "    </tr>\n",
              "    <tr>\n",
              "      <th>...</th>\n",
              "      <td>...</td>\n",
              "      <td>...</td>\n",
              "      <td>...</td>\n",
              "      <td>...</td>\n",
              "      <td>...</td>\n",
              "      <td>...</td>\n",
              "      <td>...</td>\n",
              "      <td>...</td>\n",
              "      <td>...</td>\n",
              "      <td>...</td>\n",
              "      <td>...</td>\n",
              "    </tr>\n",
              "    <tr>\n",
              "      <th>88712</th>\n",
              "      <td>24716</td>\n",
              "      <td>2015-02-26 13:07:18</td>\n",
              "      <td>2015-06-19 02:42:47</td>\n",
              "      <td>14.0</td>\n",
              "      <td>BNDYFXDDTUXLR</td>\n",
              "      <td>Ads</td>\n",
              "      <td>Chrome</td>\n",
              "      <td>F</td>\n",
              "      <td>36.0</td>\n",
              "      <td>2.327731e+09</td>\n",
              "      <td>0.0</td>\n",
              "    </tr>\n",
              "    <tr>\n",
              "      <th>88713</th>\n",
              "      <td>178447</td>\n",
              "      <td>2015-04-08 23:30:13</td>\n",
              "      <td>2015-07-25 09:41:39</td>\n",
              "      <td>71.0</td>\n",
              "      <td>FMFYFNPJCPUJO</td>\n",
              "      <td>SEO</td>\n",
              "      <td>Safari</td>\n",
              "      <td>M</td>\n",
              "      <td>41.0</td>\n",
              "      <td>4.050620e+09</td>\n",
              "      <td>1.0</td>\n",
              "    </tr>\n",
              "    <tr>\n",
              "      <th>88714</th>\n",
              "      <td>3465</td>\n",
              "      <td>2015-01-13 06:12:57</td>\n",
              "      <td>2015-03-15 21:36:10</td>\n",
              "      <td>40.0</td>\n",
              "      <td>GFRVIWTFLKVCG</td>\n",
              "      <td>Ads</td>\n",
              "      <td>Chrome</td>\n",
              "      <td>M</td>\n",
              "      <td>24.0</td>\n",
              "      <td>4.737165e+08</td>\n",
              "      <td>0.0</td>\n",
              "    </tr>\n",
              "    <tr>\n",
              "      <th>88715</th>\n",
              "      <td>62673</td>\n",
              "      <td>2015-06-22 14:34:40</td>\n",
              "      <td>2015-08-03 02:08:12</td>\n",
              "      <td>34.0</td>\n",
              "      <td>FKNWNYADTONLN</td>\n",
              "      <td>Ads</td>\n",
              "      <td>Chrome</td>\n",
              "      <td>M</td>\n",
              "      <td>42.0</td>\n",
              "      <td>1.319890e+09</td>\n",
              "      <td>0.0</td>\n",
              "    </tr>\n",
              "    <tr>\n",
              "      <th>88716</th>\n",
              "      <td>284881</td>\n",
              "      <td>2015-03-04 23:02:35</td>\n",
              "      <td>2015-0</td>\n",
              "      <td>NaN</td>\n",
              "      <td>NaN</td>\n",
              "      <td>NaN</td>\n",
              "      <td>NaN</td>\n",
              "      <td>NaN</td>\n",
              "      <td>NaN</td>\n",
              "      <td>NaN</td>\n",
              "      <td>NaN</td>\n",
              "    </tr>\n",
              "  </tbody>\n",
              "</table>\n",
              "<p>88717 rows × 11 columns</p>\n",
              "</div>"
            ],
            "text/plain": [
              "       user_id          signup_time  ...    ip_address  class\n",
              "0        22058  2015-02-24 22:55:49  ...  7.327584e+08    0.0\n",
              "1       333320  2015-06-07 20:39:50  ...  3.503114e+08    0.0\n",
              "2         1359  2015-01-01 18:52:44  ...  2.621474e+09    1.0\n",
              "3       150084  2015-04-28 21:13:25  ...  3.840542e+09    0.0\n",
              "4       221365  2015-07-21 07:09:52  ...  4.155831e+08    0.0\n",
              "...        ...                  ...  ...           ...    ...\n",
              "88712    24716  2015-02-26 13:07:18  ...  2.327731e+09    0.0\n",
              "88713   178447  2015-04-08 23:30:13  ...  4.050620e+09    1.0\n",
              "88714     3465  2015-01-13 06:12:57  ...  4.737165e+08    0.0\n",
              "88715    62673  2015-06-22 14:34:40  ...  1.319890e+09    0.0\n",
              "88716   284881  2015-03-04 23:02:35  ...           NaN    NaN\n",
              "\n",
              "[88717 rows x 11 columns]"
            ]
          },
          "metadata": {
            "tags": []
          },
          "execution_count": 5
        }
      ]
    },
    {
      "cell_type": "code",
      "metadata": {
        "id": "c4mVRnreNsTL",
        "outputId": "84b981aa-2908-4a42-eddc-aa5546f04e68",
        "colab": {
          "base_uri": "https://localhost:8080/",
          "height": 419
        }
      },
      "source": [
        "# Un lot d'adresse ip avec une plage basse et haute\n",
        "ipAdress_df"
      ],
      "execution_count": 6,
      "outputs": [
        {
          "output_type": "execute_result",
          "data": {
            "text/html": [
              "<div>\n",
              "<style scoped>\n",
              "    .dataframe tbody tr th:only-of-type {\n",
              "        vertical-align: middle;\n",
              "    }\n",
              "\n",
              "    .dataframe tbody tr th {\n",
              "        vertical-align: top;\n",
              "    }\n",
              "\n",
              "    .dataframe thead th {\n",
              "        text-align: right;\n",
              "    }\n",
              "</style>\n",
              "<table border=\"1\" class=\"dataframe\">\n",
              "  <thead>\n",
              "    <tr style=\"text-align: right;\">\n",
              "      <th></th>\n",
              "      <th>lower_bound_ip_address</th>\n",
              "      <th>upper_bound_ip_address</th>\n",
              "      <th>country</th>\n",
              "    </tr>\n",
              "  </thead>\n",
              "  <tbody>\n",
              "    <tr>\n",
              "      <th>0</th>\n",
              "      <td>1.677722e+07</td>\n",
              "      <td>16777471</td>\n",
              "      <td>Australia</td>\n",
              "    </tr>\n",
              "    <tr>\n",
              "      <th>1</th>\n",
              "      <td>1.677747e+07</td>\n",
              "      <td>16777727</td>\n",
              "      <td>China</td>\n",
              "    </tr>\n",
              "    <tr>\n",
              "      <th>2</th>\n",
              "      <td>1.677773e+07</td>\n",
              "      <td>16778239</td>\n",
              "      <td>China</td>\n",
              "    </tr>\n",
              "    <tr>\n",
              "      <th>3</th>\n",
              "      <td>1.677824e+07</td>\n",
              "      <td>16779263</td>\n",
              "      <td>Australia</td>\n",
              "    </tr>\n",
              "    <tr>\n",
              "      <th>4</th>\n",
              "      <td>1.677926e+07</td>\n",
              "      <td>16781311</td>\n",
              "      <td>China</td>\n",
              "    </tr>\n",
              "    <tr>\n",
              "      <th>...</th>\n",
              "      <td>...</td>\n",
              "      <td>...</td>\n",
              "      <td>...</td>\n",
              "    </tr>\n",
              "    <tr>\n",
              "      <th>138841</th>\n",
              "      <td>3.758092e+09</td>\n",
              "      <td>3758093311</td>\n",
              "      <td>Hong Kong</td>\n",
              "    </tr>\n",
              "    <tr>\n",
              "      <th>138842</th>\n",
              "      <td>3.758093e+09</td>\n",
              "      <td>3758094335</td>\n",
              "      <td>India</td>\n",
              "    </tr>\n",
              "    <tr>\n",
              "      <th>138843</th>\n",
              "      <td>3.758095e+09</td>\n",
              "      <td>3758095871</td>\n",
              "      <td>China</td>\n",
              "    </tr>\n",
              "    <tr>\n",
              "      <th>138844</th>\n",
              "      <td>3.758096e+09</td>\n",
              "      <td>3758096127</td>\n",
              "      <td>Singapore</td>\n",
              "    </tr>\n",
              "    <tr>\n",
              "      <th>138845</th>\n",
              "      <td>3.758096e+09</td>\n",
              "      <td>3758096383</td>\n",
              "      <td>Australia</td>\n",
              "    </tr>\n",
              "  </tbody>\n",
              "</table>\n",
              "<p>138846 rows × 3 columns</p>\n",
              "</div>"
            ],
            "text/plain": [
              "        lower_bound_ip_address  upper_bound_ip_address    country\n",
              "0                 1.677722e+07                16777471  Australia\n",
              "1                 1.677747e+07                16777727      China\n",
              "2                 1.677773e+07                16778239      China\n",
              "3                 1.677824e+07                16779263  Australia\n",
              "4                 1.677926e+07                16781311      China\n",
              "...                        ...                     ...        ...\n",
              "138841            3.758092e+09              3758093311  Hong Kong\n",
              "138842            3.758093e+09              3758094335      India\n",
              "138843            3.758095e+09              3758095871      China\n",
              "138844            3.758096e+09              3758096127  Singapore\n",
              "138845            3.758096e+09              3758096383  Australia\n",
              "\n",
              "[138846 rows x 3 columns]"
            ]
          },
          "metadata": {
            "tags": []
          },
          "execution_count": 6
        }
      ]
    },
    {
      "cell_type": "markdown",
      "metadata": {
        "id": "feAaDVnMO_OG"
      },
      "source": [
        "# **DATA WRANGLING**\n"
      ]
    },
    {
      "cell_type": "code",
      "metadata": {
        "id": "tJfPi28TO0V_"
      },
      "source": [
        "# Je décide de drop tous les na dans les datasets afin de supprimer d'éventuels exemples érronés \n",
        "fraud_df = fraud_df.dropna()\n",
        "ipAdress_df = ipAdress_df.dropna()"
      ],
      "execution_count": 7,
      "outputs": []
    },
    {
      "cell_type": "code",
      "metadata": {
        "id": "10uf3r-IUIXy",
        "outputId": "b7a2f61d-99bf-4b19-db9b-7a076a22448c",
        "colab": {
          "base_uri": "https://localhost:8080/",
          "height": 521
        }
      },
      "source": [
        "# Je vais ensuite transformer mes colonnes qualitative en donnée quantitative via la méthode : \"labelencoder\"\n",
        "# Cette méthode permet de trouver toutes les différentes valeur présentes dans une colonne et d'associer une valeur numérique à la place. \n",
        "# Si deux valeurs sont identiques elles prennent le même nombre\n",
        "\n",
        "fraud_df['source'] = labelencoder.fit_transform(fraud_df['source'])\n",
        "fraud_df['browser'] = labelencoder.fit_transform(fraud_df['browser'])\n",
        "fraud_df['device_id'] = labelencoder.fit_transform(fraud_df['device_id'])\n",
        "\n",
        "\n",
        "# Je drop signup_time et purchase_time car se sont des colonnes de date, une fraude peut arriver à n'importe qu'elle heure via des scripts/tâche planifiés ou tout simplement\n",
        "# l'emploi du temps du fraudeurs.\n",
        "\n",
        "fraud_df = fraud_df.drop(['signup_time','purchase_time'], axis= 1)\n",
        "\n",
        "\n",
        "# La colonne \"sex\" possède des valeurs qui peuvent être transformé en booléen. J'utilise la méthode cat.codes\n",
        "\n",
        "fraud_df.sex = fraud_df['sex'].astype('category').cat.codes\n",
        "fraud_df,ipAdress_df"
      ],
      "execution_count": 8,
      "outputs": [
        {
          "output_type": "execute_result",
          "data": {
            "text/plain": [
              "(       user_id  purchase_value  device_id  ...   age    ip_address  class\n",
              " 0        22058            34.0      53632  ...  39.0  7.327584e+08    0.0\n",
              " 1       333320            16.0      14559  ...  53.0  3.503114e+08    0.0\n",
              " 2         1359            15.0      78723  ...  53.0  2.621474e+09    1.0\n",
              " 3       150084            44.0       2437  ...  41.0  3.840542e+09    0.0\n",
              " 4       221365            39.0      41318  ...  45.0  4.155831e+08    0.0\n",
              " ...        ...             ...        ...  ...   ...           ...    ...\n",
              " 88711   254639            12.0      68234  ...  27.0  3.288269e+09    0.0\n",
              " 88712    24716            14.0       4850  ...  36.0  2.327731e+09    0.0\n",
              " 88713   178447            71.0      17479  ...  41.0  4.050620e+09    1.0\n",
              " 88714     3465            40.0      19881  ...  24.0  4.737165e+08    0.0\n",
              " 88715    62673            34.0      17289  ...  42.0  1.319890e+09    0.0\n",
              " \n",
              " [88716 rows x 9 columns],\n",
              "         lower_bound_ip_address  upper_bound_ip_address    country\n",
              " 0                 1.677722e+07                16777471  Australia\n",
              " 1                 1.677747e+07                16777727      China\n",
              " 2                 1.677773e+07                16778239      China\n",
              " 3                 1.677824e+07                16779263  Australia\n",
              " 4                 1.677926e+07                16781311      China\n",
              " ...                        ...                     ...        ...\n",
              " 138841            3.758092e+09              3758093311  Hong Kong\n",
              " 138842            3.758093e+09              3758094335      India\n",
              " 138843            3.758095e+09              3758095871      China\n",
              " 138844            3.758096e+09              3758096127  Singapore\n",
              " 138845            3.758096e+09              3758096383  Australia\n",
              " \n",
              " [138846 rows x 3 columns])"
            ]
          },
          "metadata": {
            "tags": []
          },
          "execution_count": 8
        }
      ]
    },
    {
      "cell_type": "markdown",
      "metadata": {
        "id": "MwQddijIP41q"
      },
      "source": [
        "# **MERGING DES DEUX DATASETS**"
      ]
    },
    {
      "cell_type": "code",
      "metadata": {
        "id": "lFz1HE1kbJtE"
      },
      "source": [
        "# L'objectif de ses deux datasets est de relier les addresses IP des fraudeurs a des plages d'adresses IP\n",
        "\n",
        "# On vas donc merge les deux dataframes. On vas prendre chaque adresse IP et regarder dans quelle plage d'IP elle se trouve, dès qu'on trouve la plage, on associe country à la position\n",
        "\n",
        "def IP_to_country(ip) :\n",
        "    try :\n",
        "        return ipAdress_df.country[(ipAdress_df.lower_bound_ip_address <= ip)\n",
        "                                & \n",
        "                                (ipAdress_df.upper_bound_ip_address >= ip)].iloc[0]\n",
        "    except IndexError :\n",
        "        return \"Unknown\"\n",
        "fraud_df[\"IP_country\"] = fraud_df.ip_address.apply(IP_to_country)"
      ],
      "execution_count": 9,
      "outputs": []
    },
    {
      "cell_type": "code",
      "metadata": {
        "id": "rJHCGpL5mgP4",
        "outputId": "f8800dcc-8ebd-4f43-eed1-6a8d1b06b68a",
        "colab": {
          "base_uri": "https://localhost:8080/",
          "height": 419
        }
      },
      "source": [
        "# On peut donc voir que notre nouveau dataFrame fraud_df possède la colonne \"IP_country\".\n",
        "\n",
        "fraud_df"
      ],
      "execution_count": 10,
      "outputs": [
        {
          "output_type": "execute_result",
          "data": {
            "text/html": [
              "<div>\n",
              "<style scoped>\n",
              "    .dataframe tbody tr th:only-of-type {\n",
              "        vertical-align: middle;\n",
              "    }\n",
              "\n",
              "    .dataframe tbody tr th {\n",
              "        vertical-align: top;\n",
              "    }\n",
              "\n",
              "    .dataframe thead th {\n",
              "        text-align: right;\n",
              "    }\n",
              "</style>\n",
              "<table border=\"1\" class=\"dataframe\">\n",
              "  <thead>\n",
              "    <tr style=\"text-align: right;\">\n",
              "      <th></th>\n",
              "      <th>user_id</th>\n",
              "      <th>purchase_value</th>\n",
              "      <th>device_id</th>\n",
              "      <th>source</th>\n",
              "      <th>browser</th>\n",
              "      <th>sex</th>\n",
              "      <th>age</th>\n",
              "      <th>ip_address</th>\n",
              "      <th>class</th>\n",
              "      <th>IP_country</th>\n",
              "    </tr>\n",
              "  </thead>\n",
              "  <tbody>\n",
              "    <tr>\n",
              "      <th>0</th>\n",
              "      <td>22058</td>\n",
              "      <td>34.0</td>\n",
              "      <td>53632</td>\n",
              "      <td>2</td>\n",
              "      <td>0</td>\n",
              "      <td>1</td>\n",
              "      <td>39.0</td>\n",
              "      <td>7.327584e+08</td>\n",
              "      <td>0.0</td>\n",
              "      <td>Japan</td>\n",
              "    </tr>\n",
              "    <tr>\n",
              "      <th>1</th>\n",
              "      <td>333320</td>\n",
              "      <td>16.0</td>\n",
              "      <td>14559</td>\n",
              "      <td>0</td>\n",
              "      <td>0</td>\n",
              "      <td>0</td>\n",
              "      <td>53.0</td>\n",
              "      <td>3.503114e+08</td>\n",
              "      <td>0.0</td>\n",
              "      <td>United States</td>\n",
              "    </tr>\n",
              "    <tr>\n",
              "      <th>2</th>\n",
              "      <td>1359</td>\n",
              "      <td>15.0</td>\n",
              "      <td>78723</td>\n",
              "      <td>2</td>\n",
              "      <td>3</td>\n",
              "      <td>1</td>\n",
              "      <td>53.0</td>\n",
              "      <td>2.621474e+09</td>\n",
              "      <td>1.0</td>\n",
              "      <td>United States</td>\n",
              "    </tr>\n",
              "    <tr>\n",
              "      <th>3</th>\n",
              "      <td>150084</td>\n",
              "      <td>44.0</td>\n",
              "      <td>2437</td>\n",
              "      <td>2</td>\n",
              "      <td>4</td>\n",
              "      <td>1</td>\n",
              "      <td>41.0</td>\n",
              "      <td>3.840542e+09</td>\n",
              "      <td>0.0</td>\n",
              "      <td>Unknown</td>\n",
              "    </tr>\n",
              "    <tr>\n",
              "      <th>4</th>\n",
              "      <td>221365</td>\n",
              "      <td>39.0</td>\n",
              "      <td>41318</td>\n",
              "      <td>0</td>\n",
              "      <td>4</td>\n",
              "      <td>1</td>\n",
              "      <td>45.0</td>\n",
              "      <td>4.155831e+08</td>\n",
              "      <td>0.0</td>\n",
              "      <td>United States</td>\n",
              "    </tr>\n",
              "    <tr>\n",
              "      <th>...</th>\n",
              "      <td>...</td>\n",
              "      <td>...</td>\n",
              "      <td>...</td>\n",
              "      <td>...</td>\n",
              "      <td>...</td>\n",
              "      <td>...</td>\n",
              "      <td>...</td>\n",
              "      <td>...</td>\n",
              "      <td>...</td>\n",
              "      <td>...</td>\n",
              "    </tr>\n",
              "    <tr>\n",
              "      <th>88711</th>\n",
              "      <td>254639</td>\n",
              "      <td>12.0</td>\n",
              "      <td>68234</td>\n",
              "      <td>2</td>\n",
              "      <td>0</td>\n",
              "      <td>0</td>\n",
              "      <td>27.0</td>\n",
              "      <td>3.288269e+09</td>\n",
              "      <td>0.0</td>\n",
              "      <td>Italy</td>\n",
              "    </tr>\n",
              "    <tr>\n",
              "      <th>88712</th>\n",
              "      <td>24716</td>\n",
              "      <td>14.0</td>\n",
              "      <td>4850</td>\n",
              "      <td>0</td>\n",
              "      <td>0</td>\n",
              "      <td>0</td>\n",
              "      <td>36.0</td>\n",
              "      <td>2.327731e+09</td>\n",
              "      <td>0.0</td>\n",
              "      <td>Switzerland</td>\n",
              "    </tr>\n",
              "    <tr>\n",
              "      <th>88713</th>\n",
              "      <td>178447</td>\n",
              "      <td>71.0</td>\n",
              "      <td>17479</td>\n",
              "      <td>2</td>\n",
              "      <td>4</td>\n",
              "      <td>1</td>\n",
              "      <td>41.0</td>\n",
              "      <td>4.050620e+09</td>\n",
              "      <td>1.0</td>\n",
              "      <td>Unknown</td>\n",
              "    </tr>\n",
              "    <tr>\n",
              "      <th>88714</th>\n",
              "      <td>3465</td>\n",
              "      <td>40.0</td>\n",
              "      <td>19881</td>\n",
              "      <td>0</td>\n",
              "      <td>0</td>\n",
              "      <td>1</td>\n",
              "      <td>24.0</td>\n",
              "      <td>4.737165e+08</td>\n",
              "      <td>0.0</td>\n",
              "      <td>United States</td>\n",
              "    </tr>\n",
              "    <tr>\n",
              "      <th>88715</th>\n",
              "      <td>62673</td>\n",
              "      <td>34.0</td>\n",
              "      <td>17289</td>\n",
              "      <td>0</td>\n",
              "      <td>0</td>\n",
              "      <td>1</td>\n",
              "      <td>42.0</td>\n",
              "      <td>1.319890e+09</td>\n",
              "      <td>0.0</td>\n",
              "      <td>Turkey</td>\n",
              "    </tr>\n",
              "  </tbody>\n",
              "</table>\n",
              "<p>88716 rows × 10 columns</p>\n",
              "</div>"
            ],
            "text/plain": [
              "       user_id  purchase_value  device_id  ...    ip_address  class     IP_country\n",
              "0        22058            34.0      53632  ...  7.327584e+08    0.0          Japan\n",
              "1       333320            16.0      14559  ...  3.503114e+08    0.0  United States\n",
              "2         1359            15.0      78723  ...  2.621474e+09    1.0  United States\n",
              "3       150084            44.0       2437  ...  3.840542e+09    0.0        Unknown\n",
              "4       221365            39.0      41318  ...  4.155831e+08    0.0  United States\n",
              "...        ...             ...        ...  ...           ...    ...            ...\n",
              "88711   254639            12.0      68234  ...  3.288269e+09    0.0          Italy\n",
              "88712    24716            14.0       4850  ...  2.327731e+09    0.0    Switzerland\n",
              "88713   178447            71.0      17479  ...  4.050620e+09    1.0        Unknown\n",
              "88714     3465            40.0      19881  ...  4.737165e+08    0.0  United States\n",
              "88715    62673            34.0      17289  ...  1.319890e+09    0.0         Turkey\n",
              "\n",
              "[88716 rows x 10 columns]"
            ]
          },
          "metadata": {
            "tags": []
          },
          "execution_count": 10
        }
      ]
    },
    {
      "cell_type": "markdown",
      "metadata": {
        "id": "8zYfcfJAP_8j"
      },
      "source": [
        "# **DATA CLEANING**\n",
        "\n",
        "avec un petit peu de reformatage de donnée"
      ]
    },
    {
      "cell_type": "code",
      "metadata": {
        "id": "P9rBiR5T_B62",
        "outputId": "d7fc4caf-a862-48ee-82b2-cc91784ed889",
        "colab": {
          "base_uri": "https://localhost:8080/",
          "height": 419
        }
      },
      "source": [
        "#On s'aperçoit que certaine ligne possède une valeur appelé \"Unknown\" car l'ip ne faisait partie d'aucune plage de donnée, on va les supprimés\n",
        "fraud_df = fraud_df[fraud_df.IP_country != 'Unknown']\n",
        "fraud_df"
      ],
      "execution_count": 11,
      "outputs": [
        {
          "output_type": "execute_result",
          "data": {
            "text/html": [
              "<div>\n",
              "<style scoped>\n",
              "    .dataframe tbody tr th:only-of-type {\n",
              "        vertical-align: middle;\n",
              "    }\n",
              "\n",
              "    .dataframe tbody tr th {\n",
              "        vertical-align: top;\n",
              "    }\n",
              "\n",
              "    .dataframe thead th {\n",
              "        text-align: right;\n",
              "    }\n",
              "</style>\n",
              "<table border=\"1\" class=\"dataframe\">\n",
              "  <thead>\n",
              "    <tr style=\"text-align: right;\">\n",
              "      <th></th>\n",
              "      <th>user_id</th>\n",
              "      <th>purchase_value</th>\n",
              "      <th>device_id</th>\n",
              "      <th>source</th>\n",
              "      <th>browser</th>\n",
              "      <th>sex</th>\n",
              "      <th>age</th>\n",
              "      <th>ip_address</th>\n",
              "      <th>class</th>\n",
              "      <th>IP_country</th>\n",
              "    </tr>\n",
              "  </thead>\n",
              "  <tbody>\n",
              "    <tr>\n",
              "      <th>0</th>\n",
              "      <td>22058</td>\n",
              "      <td>34.0</td>\n",
              "      <td>53632</td>\n",
              "      <td>2</td>\n",
              "      <td>0</td>\n",
              "      <td>1</td>\n",
              "      <td>39.0</td>\n",
              "      <td>7.327584e+08</td>\n",
              "      <td>0.0</td>\n",
              "      <td>Japan</td>\n",
              "    </tr>\n",
              "    <tr>\n",
              "      <th>1</th>\n",
              "      <td>333320</td>\n",
              "      <td>16.0</td>\n",
              "      <td>14559</td>\n",
              "      <td>0</td>\n",
              "      <td>0</td>\n",
              "      <td>0</td>\n",
              "      <td>53.0</td>\n",
              "      <td>3.503114e+08</td>\n",
              "      <td>0.0</td>\n",
              "      <td>United States</td>\n",
              "    </tr>\n",
              "    <tr>\n",
              "      <th>2</th>\n",
              "      <td>1359</td>\n",
              "      <td>15.0</td>\n",
              "      <td>78723</td>\n",
              "      <td>2</td>\n",
              "      <td>3</td>\n",
              "      <td>1</td>\n",
              "      <td>53.0</td>\n",
              "      <td>2.621474e+09</td>\n",
              "      <td>1.0</td>\n",
              "      <td>United States</td>\n",
              "    </tr>\n",
              "    <tr>\n",
              "      <th>4</th>\n",
              "      <td>221365</td>\n",
              "      <td>39.0</td>\n",
              "      <td>41318</td>\n",
              "      <td>0</td>\n",
              "      <td>4</td>\n",
              "      <td>1</td>\n",
              "      <td>45.0</td>\n",
              "      <td>4.155831e+08</td>\n",
              "      <td>0.0</td>\n",
              "      <td>United States</td>\n",
              "    </tr>\n",
              "    <tr>\n",
              "      <th>5</th>\n",
              "      <td>159135</td>\n",
              "      <td>42.0</td>\n",
              "      <td>1438</td>\n",
              "      <td>0</td>\n",
              "      <td>0</td>\n",
              "      <td>1</td>\n",
              "      <td>18.0</td>\n",
              "      <td>2.809315e+09</td>\n",
              "      <td>0.0</td>\n",
              "      <td>Canada</td>\n",
              "    </tr>\n",
              "    <tr>\n",
              "      <th>...</th>\n",
              "      <td>...</td>\n",
              "      <td>...</td>\n",
              "      <td>...</td>\n",
              "      <td>...</td>\n",
              "      <td>...</td>\n",
              "      <td>...</td>\n",
              "      <td>...</td>\n",
              "      <td>...</td>\n",
              "      <td>...</td>\n",
              "      <td>...</td>\n",
              "    </tr>\n",
              "    <tr>\n",
              "      <th>88709</th>\n",
              "      <td>28399</td>\n",
              "      <td>47.0</td>\n",
              "      <td>41993</td>\n",
              "      <td>2</td>\n",
              "      <td>2</td>\n",
              "      <td>0</td>\n",
              "      <td>22.0</td>\n",
              "      <td>5.202187e+08</td>\n",
              "      <td>0.0</td>\n",
              "      <td>Poland</td>\n",
              "    </tr>\n",
              "    <tr>\n",
              "      <th>88711</th>\n",
              "      <td>254639</td>\n",
              "      <td>12.0</td>\n",
              "      <td>68234</td>\n",
              "      <td>2</td>\n",
              "      <td>0</td>\n",
              "      <td>0</td>\n",
              "      <td>27.0</td>\n",
              "      <td>3.288269e+09</td>\n",
              "      <td>0.0</td>\n",
              "      <td>Italy</td>\n",
              "    </tr>\n",
              "    <tr>\n",
              "      <th>88712</th>\n",
              "      <td>24716</td>\n",
              "      <td>14.0</td>\n",
              "      <td>4850</td>\n",
              "      <td>0</td>\n",
              "      <td>0</td>\n",
              "      <td>0</td>\n",
              "      <td>36.0</td>\n",
              "      <td>2.327731e+09</td>\n",
              "      <td>0.0</td>\n",
              "      <td>Switzerland</td>\n",
              "    </tr>\n",
              "    <tr>\n",
              "      <th>88714</th>\n",
              "      <td>3465</td>\n",
              "      <td>40.0</td>\n",
              "      <td>19881</td>\n",
              "      <td>0</td>\n",
              "      <td>0</td>\n",
              "      <td>1</td>\n",
              "      <td>24.0</td>\n",
              "      <td>4.737165e+08</td>\n",
              "      <td>0.0</td>\n",
              "      <td>United States</td>\n",
              "    </tr>\n",
              "    <tr>\n",
              "      <th>88715</th>\n",
              "      <td>62673</td>\n",
              "      <td>34.0</td>\n",
              "      <td>17289</td>\n",
              "      <td>0</td>\n",
              "      <td>0</td>\n",
              "      <td>1</td>\n",
              "      <td>42.0</td>\n",
              "      <td>1.319890e+09</td>\n",
              "      <td>0.0</td>\n",
              "      <td>Turkey</td>\n",
              "    </tr>\n",
              "  </tbody>\n",
              "</table>\n",
              "<p>75740 rows × 10 columns</p>\n",
              "</div>"
            ],
            "text/plain": [
              "       user_id  purchase_value  device_id  ...    ip_address  class     IP_country\n",
              "0        22058            34.0      53632  ...  7.327584e+08    0.0          Japan\n",
              "1       333320            16.0      14559  ...  3.503114e+08    0.0  United States\n",
              "2         1359            15.0      78723  ...  2.621474e+09    1.0  United States\n",
              "4       221365            39.0      41318  ...  4.155831e+08    0.0  United States\n",
              "5       159135            42.0       1438  ...  2.809315e+09    0.0         Canada\n",
              "...        ...             ...        ...  ...           ...    ...            ...\n",
              "88709    28399            47.0      41993  ...  5.202187e+08    0.0         Poland\n",
              "88711   254639            12.0      68234  ...  3.288269e+09    0.0          Italy\n",
              "88712    24716            14.0       4850  ...  2.327731e+09    0.0    Switzerland\n",
              "88714     3465            40.0      19881  ...  4.737165e+08    0.0  United States\n",
              "88715    62673            34.0      17289  ...  1.319890e+09    0.0         Turkey\n",
              "\n",
              "[75740 rows x 10 columns]"
            ]
          },
          "metadata": {
            "tags": []
          },
          "execution_count": 11
        }
      ]
    },
    {
      "cell_type": "code",
      "metadata": {
        "id": "VJSmxi_6l0r6",
        "outputId": "2f70f21a-ddad-41b1-8714-3fb2e2e07b0c",
        "colab": {
          "base_uri": "https://localhost:8080/",
          "height": 233
        }
      },
      "source": [
        "# J'isole ma target\n",
        "Y = fraud_df['class']\n",
        "Y"
      ],
      "execution_count": 12,
      "outputs": [
        {
          "output_type": "execute_result",
          "data": {
            "text/plain": [
              "0        0.0\n",
              "1        0.0\n",
              "2        1.0\n",
              "4        0.0\n",
              "5        0.0\n",
              "        ... \n",
              "88709    0.0\n",
              "88711    0.0\n",
              "88712    0.0\n",
              "88714    0.0\n",
              "88715    0.0\n",
              "Name: class, Length: 75740, dtype: float64"
            ]
          },
          "metadata": {
            "tags": []
          },
          "execution_count": 12
        }
      ]
    },
    {
      "cell_type": "code",
      "metadata": {
        "id": "UY8keApsmEjH",
        "outputId": "a9b9c1f1-fee1-4bef-efd3-bd43b507dc23",
        "colab": {
          "base_uri": "https://localhost:8080/",
          "height": 419
        }
      },
      "source": [
        "# J'isole mes features en supprimant ma target et l'adresse IP qui n'a plus d'interet ici \n",
        "X = fraud_df.drop(['ip_address','class'], axis = 1)\n",
        "X"
      ],
      "execution_count": 13,
      "outputs": [
        {
          "output_type": "execute_result",
          "data": {
            "text/html": [
              "<div>\n",
              "<style scoped>\n",
              "    .dataframe tbody tr th:only-of-type {\n",
              "        vertical-align: middle;\n",
              "    }\n",
              "\n",
              "    .dataframe tbody tr th {\n",
              "        vertical-align: top;\n",
              "    }\n",
              "\n",
              "    .dataframe thead th {\n",
              "        text-align: right;\n",
              "    }\n",
              "</style>\n",
              "<table border=\"1\" class=\"dataframe\">\n",
              "  <thead>\n",
              "    <tr style=\"text-align: right;\">\n",
              "      <th></th>\n",
              "      <th>user_id</th>\n",
              "      <th>purchase_value</th>\n",
              "      <th>device_id</th>\n",
              "      <th>source</th>\n",
              "      <th>browser</th>\n",
              "      <th>sex</th>\n",
              "      <th>age</th>\n",
              "      <th>IP_country</th>\n",
              "    </tr>\n",
              "  </thead>\n",
              "  <tbody>\n",
              "    <tr>\n",
              "      <th>0</th>\n",
              "      <td>22058</td>\n",
              "      <td>34.0</td>\n",
              "      <td>53632</td>\n",
              "      <td>2</td>\n",
              "      <td>0</td>\n",
              "      <td>1</td>\n",
              "      <td>39.0</td>\n",
              "      <td>Japan</td>\n",
              "    </tr>\n",
              "    <tr>\n",
              "      <th>1</th>\n",
              "      <td>333320</td>\n",
              "      <td>16.0</td>\n",
              "      <td>14559</td>\n",
              "      <td>0</td>\n",
              "      <td>0</td>\n",
              "      <td>0</td>\n",
              "      <td>53.0</td>\n",
              "      <td>United States</td>\n",
              "    </tr>\n",
              "    <tr>\n",
              "      <th>2</th>\n",
              "      <td>1359</td>\n",
              "      <td>15.0</td>\n",
              "      <td>78723</td>\n",
              "      <td>2</td>\n",
              "      <td>3</td>\n",
              "      <td>1</td>\n",
              "      <td>53.0</td>\n",
              "      <td>United States</td>\n",
              "    </tr>\n",
              "    <tr>\n",
              "      <th>4</th>\n",
              "      <td>221365</td>\n",
              "      <td>39.0</td>\n",
              "      <td>41318</td>\n",
              "      <td>0</td>\n",
              "      <td>4</td>\n",
              "      <td>1</td>\n",
              "      <td>45.0</td>\n",
              "      <td>United States</td>\n",
              "    </tr>\n",
              "    <tr>\n",
              "      <th>5</th>\n",
              "      <td>159135</td>\n",
              "      <td>42.0</td>\n",
              "      <td>1438</td>\n",
              "      <td>0</td>\n",
              "      <td>0</td>\n",
              "      <td>1</td>\n",
              "      <td>18.0</td>\n",
              "      <td>Canada</td>\n",
              "    </tr>\n",
              "    <tr>\n",
              "      <th>...</th>\n",
              "      <td>...</td>\n",
              "      <td>...</td>\n",
              "      <td>...</td>\n",
              "      <td>...</td>\n",
              "      <td>...</td>\n",
              "      <td>...</td>\n",
              "      <td>...</td>\n",
              "      <td>...</td>\n",
              "    </tr>\n",
              "    <tr>\n",
              "      <th>88709</th>\n",
              "      <td>28399</td>\n",
              "      <td>47.0</td>\n",
              "      <td>41993</td>\n",
              "      <td>2</td>\n",
              "      <td>2</td>\n",
              "      <td>0</td>\n",
              "      <td>22.0</td>\n",
              "      <td>Poland</td>\n",
              "    </tr>\n",
              "    <tr>\n",
              "      <th>88711</th>\n",
              "      <td>254639</td>\n",
              "      <td>12.0</td>\n",
              "      <td>68234</td>\n",
              "      <td>2</td>\n",
              "      <td>0</td>\n",
              "      <td>0</td>\n",
              "      <td>27.0</td>\n",
              "      <td>Italy</td>\n",
              "    </tr>\n",
              "    <tr>\n",
              "      <th>88712</th>\n",
              "      <td>24716</td>\n",
              "      <td>14.0</td>\n",
              "      <td>4850</td>\n",
              "      <td>0</td>\n",
              "      <td>0</td>\n",
              "      <td>0</td>\n",
              "      <td>36.0</td>\n",
              "      <td>Switzerland</td>\n",
              "    </tr>\n",
              "    <tr>\n",
              "      <th>88714</th>\n",
              "      <td>3465</td>\n",
              "      <td>40.0</td>\n",
              "      <td>19881</td>\n",
              "      <td>0</td>\n",
              "      <td>0</td>\n",
              "      <td>1</td>\n",
              "      <td>24.0</td>\n",
              "      <td>United States</td>\n",
              "    </tr>\n",
              "    <tr>\n",
              "      <th>88715</th>\n",
              "      <td>62673</td>\n",
              "      <td>34.0</td>\n",
              "      <td>17289</td>\n",
              "      <td>0</td>\n",
              "      <td>0</td>\n",
              "      <td>1</td>\n",
              "      <td>42.0</td>\n",
              "      <td>Turkey</td>\n",
              "    </tr>\n",
              "  </tbody>\n",
              "</table>\n",
              "<p>75740 rows × 8 columns</p>\n",
              "</div>"
            ],
            "text/plain": [
              "       user_id  purchase_value  device_id  ...  sex   age     IP_country\n",
              "0        22058            34.0      53632  ...    1  39.0          Japan\n",
              "1       333320            16.0      14559  ...    0  53.0  United States\n",
              "2         1359            15.0      78723  ...    1  53.0  United States\n",
              "4       221365            39.0      41318  ...    1  45.0  United States\n",
              "5       159135            42.0       1438  ...    1  18.0         Canada\n",
              "...        ...             ...        ...  ...  ...   ...            ...\n",
              "88709    28399            47.0      41993  ...    0  22.0         Poland\n",
              "88711   254639            12.0      68234  ...    0  27.0          Italy\n",
              "88712    24716            14.0       4850  ...    0  36.0    Switzerland\n",
              "88714     3465            40.0      19881  ...    1  24.0  United States\n",
              "88715    62673            34.0      17289  ...    1  42.0         Turkey\n",
              "\n",
              "[75740 rows x 8 columns]"
            ]
          },
          "metadata": {
            "tags": []
          },
          "execution_count": 13
        }
      ]
    },
    {
      "cell_type": "code",
      "metadata": {
        "id": "4mbmPrttnTWX",
        "outputId": "d5f8b063-e506-49e3-ace9-d6a68e1a669c",
        "colab": {
          "base_uri": "https://localhost:8080/",
          "height": 419
        }
      },
      "source": [
        "# Ma nouvelle colonne Ip_country est en string je transforme comme pour les autres variables qualitative en variable quantitative\n",
        "X['IP_country'] = labelencoder.fit_transform(X['IP_country'])\n",
        "# Essaie non fructueux de reverse le transform\n",
        "# X['IP_country'] = labelencoder.inverse_transform(X['IP_country'])\n",
        "X"
      ],
      "execution_count": 14,
      "outputs": [
        {
          "output_type": "execute_result",
          "data": {
            "text/html": [
              "<div>\n",
              "<style scoped>\n",
              "    .dataframe tbody tr th:only-of-type {\n",
              "        vertical-align: middle;\n",
              "    }\n",
              "\n",
              "    .dataframe tbody tr th {\n",
              "        vertical-align: top;\n",
              "    }\n",
              "\n",
              "    .dataframe thead th {\n",
              "        text-align: right;\n",
              "    }\n",
              "</style>\n",
              "<table border=\"1\" class=\"dataframe\">\n",
              "  <thead>\n",
              "    <tr style=\"text-align: right;\">\n",
              "      <th></th>\n",
              "      <th>user_id</th>\n",
              "      <th>purchase_value</th>\n",
              "      <th>device_id</th>\n",
              "      <th>source</th>\n",
              "      <th>browser</th>\n",
              "      <th>sex</th>\n",
              "      <th>age</th>\n",
              "      <th>IP_country</th>\n",
              "    </tr>\n",
              "  </thead>\n",
              "  <tbody>\n",
              "    <tr>\n",
              "      <th>0</th>\n",
              "      <td>22058</td>\n",
              "      <td>34.0</td>\n",
              "      <td>53632</td>\n",
              "      <td>2</td>\n",
              "      <td>0</td>\n",
              "      <td>1</td>\n",
              "      <td>39.0</td>\n",
              "      <td>81</td>\n",
              "    </tr>\n",
              "    <tr>\n",
              "      <th>1</th>\n",
              "      <td>333320</td>\n",
              "      <td>16.0</td>\n",
              "      <td>14559</td>\n",
              "      <td>0</td>\n",
              "      <td>0</td>\n",
              "      <td>0</td>\n",
              "      <td>53.0</td>\n",
              "      <td>164</td>\n",
              "    </tr>\n",
              "    <tr>\n",
              "      <th>2</th>\n",
              "      <td>1359</td>\n",
              "      <td>15.0</td>\n",
              "      <td>78723</td>\n",
              "      <td>2</td>\n",
              "      <td>3</td>\n",
              "      <td>1</td>\n",
              "      <td>53.0</td>\n",
              "      <td>164</td>\n",
              "    </tr>\n",
              "    <tr>\n",
              "      <th>4</th>\n",
              "      <td>221365</td>\n",
              "      <td>39.0</td>\n",
              "      <td>41318</td>\n",
              "      <td>0</td>\n",
              "      <td>4</td>\n",
              "      <td>1</td>\n",
              "      <td>45.0</td>\n",
              "      <td>164</td>\n",
              "    </tr>\n",
              "    <tr>\n",
              "      <th>5</th>\n",
              "      <td>159135</td>\n",
              "      <td>42.0</td>\n",
              "      <td>1438</td>\n",
              "      <td>0</td>\n",
              "      <td>0</td>\n",
              "      <td>1</td>\n",
              "      <td>18.0</td>\n",
              "      <td>31</td>\n",
              "    </tr>\n",
              "    <tr>\n",
              "      <th>...</th>\n",
              "      <td>...</td>\n",
              "      <td>...</td>\n",
              "      <td>...</td>\n",
              "      <td>...</td>\n",
              "      <td>...</td>\n",
              "      <td>...</td>\n",
              "      <td>...</td>\n",
              "      <td>...</td>\n",
              "    </tr>\n",
              "    <tr>\n",
              "      <th>88709</th>\n",
              "      <td>28399</td>\n",
              "      <td>47.0</td>\n",
              "      <td>41993</td>\n",
              "      <td>2</td>\n",
              "      <td>2</td>\n",
              "      <td>0</td>\n",
              "      <td>22.0</td>\n",
              "      <td>129</td>\n",
              "    </tr>\n",
              "    <tr>\n",
              "      <th>88711</th>\n",
              "      <td>254639</td>\n",
              "      <td>12.0</td>\n",
              "      <td>68234</td>\n",
              "      <td>2</td>\n",
              "      <td>0</td>\n",
              "      <td>0</td>\n",
              "      <td>27.0</td>\n",
              "      <td>79</td>\n",
              "    </tr>\n",
              "    <tr>\n",
              "      <th>88712</th>\n",
              "      <td>24716</td>\n",
              "      <td>14.0</td>\n",
              "      <td>4850</td>\n",
              "      <td>0</td>\n",
              "      <td>0</td>\n",
              "      <td>0</td>\n",
              "      <td>36.0</td>\n",
              "      <td>151</td>\n",
              "    </tr>\n",
              "    <tr>\n",
              "      <th>88714</th>\n",
              "      <td>3465</td>\n",
              "      <td>40.0</td>\n",
              "      <td>19881</td>\n",
              "      <td>0</td>\n",
              "      <td>0</td>\n",
              "      <td>1</td>\n",
              "      <td>24.0</td>\n",
              "      <td>164</td>\n",
              "    </tr>\n",
              "    <tr>\n",
              "      <th>88715</th>\n",
              "      <td>62673</td>\n",
              "      <td>34.0</td>\n",
              "      <td>17289</td>\n",
              "      <td>0</td>\n",
              "      <td>0</td>\n",
              "      <td>1</td>\n",
              "      <td>42.0</td>\n",
              "      <td>158</td>\n",
              "    </tr>\n",
              "  </tbody>\n",
              "</table>\n",
              "<p>75740 rows × 8 columns</p>\n",
              "</div>"
            ],
            "text/plain": [
              "       user_id  purchase_value  device_id  ...  sex   age  IP_country\n",
              "0        22058            34.0      53632  ...    1  39.0          81\n",
              "1       333320            16.0      14559  ...    0  53.0         164\n",
              "2         1359            15.0      78723  ...    1  53.0         164\n",
              "4       221365            39.0      41318  ...    1  45.0         164\n",
              "5       159135            42.0       1438  ...    1  18.0          31\n",
              "...        ...             ...        ...  ...  ...   ...         ...\n",
              "88709    28399            47.0      41993  ...    0  22.0         129\n",
              "88711   254639            12.0      68234  ...    0  27.0          79\n",
              "88712    24716            14.0       4850  ...    0  36.0         151\n",
              "88714     3465            40.0      19881  ...    1  24.0         164\n",
              "88715    62673            34.0      17289  ...    1  42.0         158\n",
              "\n",
              "[75740 rows x 8 columns]"
            ]
          },
          "metadata": {
            "tags": []
          },
          "execution_count": 14
        }
      ]
    },
    {
      "cell_type": "code",
      "metadata": {
        "id": "5nBaEOqKo6RJ"
      },
      "source": [
        "# A cause du temps de merging j'ai décidé de faire un export du dataset mergé\n",
        "fraud_df.to_csv(\"/content/Final_df.csv\")"
      ],
      "execution_count": null,
      "outputs": []
    },
    {
      "cell_type": "code",
      "metadata": {
        "id": "T2aXzQpWmRXV",
        "outputId": "f16cf5e2-ea92-45db-a529-8eed3fef8b6f",
        "colab": {
          "base_uri": "https://localhost:8080/",
          "height": 89
        }
      },
      "source": [
        "# On vas split notre environnement de travail en 2 grandes parties : L'environnement de prod (test) et d'entrainement (train)\n",
        "# On vérifie la shape de nos variables afin de s'assurer de possèder le bon nombre de colonnes et de lignes\n",
        "splits = train_test_split(X,Y,\n",
        "                          random_state=0)\n",
        "\n",
        "for each in splits:\n",
        "  print(each.shape)\n",
        "X_train, X_test, Y_train, Y_test = splits\n",
        "scaler = StandardScaler()"
      ],
      "execution_count": 15,
      "outputs": [
        {
          "output_type": "stream",
          "text": [
            "(56805, 8)\n",
            "(18935, 8)\n",
            "(56805,)\n",
            "(18935,)\n"
          ],
          "name": "stdout"
        }
      ]
    },
    {
      "cell_type": "code",
      "metadata": {
        "id": "Q4ifn2l5mWeI"
      },
      "source": [
        "# Petite fonction permettant de calculer l'accuracy et ensuite de le mettre en %\n",
        "def accuracy(preds, Y):\n",
        "  return ((preds == Y).sum() / len(Y)* 100)"
      ],
      "execution_count": 16,
      "outputs": []
    },
    {
      "cell_type": "markdown",
      "metadata": {
        "id": "ss-dybHuQL21"
      },
      "source": [
        "# **ENTRAINEMENT DE NOTRE MODELE**"
      ]
    },
    {
      "cell_type": "code",
      "metadata": {
        "id": "Mdx4USsAmYkn",
        "outputId": "7be58c3e-be78-464e-f473-5534b8d6a72d",
        "colab": {
          "base_uri": "https://localhost:8080/",
          "height": 161
        }
      },
      "source": [
        "# On applique l'algorithme RandomForest\n",
        "rf = RF()\n",
        "rf.fit(X_train,Y_train)\n",
        "prediction = rf.predict(X_test)\n",
        "proba = rf.predict_proba(X_test)\n",
        "print(prediction)\n",
        "print(proba)"
      ],
      "execution_count": 108,
      "outputs": [
        {
          "output_type": "stream",
          "text": [
            "[0. 0. 0. ... 0. 0. 0.]\n",
            "[[0.96 0.04]\n",
            " [0.84 0.16]\n",
            " [0.97 0.03]\n",
            " ...\n",
            " [0.9  0.1 ]\n",
            " [0.96 0.04]\n",
            " [0.98 0.02]]\n"
          ],
          "name": "stdout"
        }
      ]
    },
    {
      "cell_type": "markdown",
      "metadata": {
        "id": "Fkhw043aQVKt"
      },
      "source": [
        "**Accuracy**"
      ]
    },
    {
      "cell_type": "code",
      "metadata": {
        "id": "NgywxZxoqmrL",
        "outputId": "78c28e1e-7926-49fd-82f1-afd09d388f3e",
        "colab": {
          "base_uri": "https://localhost:8080/",
          "height": 35
        }
      },
      "source": [
        "# On observe une accuracy de 94% dans ce test avec comme hyperparamètre random_state=0\n",
        "accuracy(prediction,Y_test)"
      ],
      "execution_count": 18,
      "outputs": [
        {
          "output_type": "execute_result",
          "data": {
            "text/plain": [
              "93.41431212041194"
            ]
          },
          "metadata": {
            "tags": []
          },
          "execution_count": 18
        }
      ]
    },
    {
      "cell_type": "markdown",
      "metadata": {
        "id": "RMBzqnq5QhYI"
      },
      "source": [
        "**L'importance de chaque feature**"
      ]
    },
    {
      "cell_type": "code",
      "metadata": {
        "id": "6Djw9aguyEvP",
        "outputId": "34611eba-7829-4a1c-d9a0-fb385cfb9058",
        "colab": {
          "base_uri": "https://localhost:8080/",
          "height": 53
        }
      },
      "source": [
        "# Ici on vas réentrainer notre model pour faire un test d'importance sur nos features\n",
        "rf.fit(X_train, Y_train)\n",
        "importance = rf.feature_importances_\n",
        "importance"
      ],
      "execution_count": 19,
      "outputs": [
        {
          "output_type": "execute_result",
          "data": {
            "text/plain": [
              "array([0.2230858 , 0.17648937, 0.26543175, 0.02996117, 0.03275044,\n",
              "       0.01950265, 0.15217709, 0.10060173])"
            ]
          },
          "metadata": {
            "tags": []
          },
          "execution_count": 19
        }
      ]
    },
    {
      "cell_type": "markdown",
      "metadata": {
        "id": "Dtt8oMLUREk0"
      },
      "source": [
        "**Affichage en %/100 de l'importance de nos features**"
      ]
    },
    {
      "cell_type": "code",
      "metadata": {
        "id": "AKmF18dGyQ7s",
        "outputId": "0d83ac6e-a994-4574-d350-357591d87e9d",
        "colab": {
          "base_uri": "https://localhost:8080/",
          "height": 314
        }
      },
      "source": [
        "# Une fois l'importance réalisé on vas la plot afin mieux observer à quel point une feature peut faire varier notre accuracy\n",
        "# Je crée un nouveau dataframe pour pouvoir stocker seulement les colonnes qui m'intéresse\n",
        "\n",
        "d = pd.DataFrame()\n",
        "d['features'] = X_train.columns\n",
        "d['pouvoir_predictif'] = importance\n",
        "print('Somme des pouvoirs predictif : {}'.format(d['pouvoir_predictif'].sum()))\n",
        "d['pouvoir_predictif'] = d['pouvoir_predictif'].apply(lambda v : v*100)\n",
        "d = d.sort_values(by='pouvoir_predictif', ascending=True)\n",
        "sns.barplot(d['pouvoir_predictif'], d['features']).set_title('Pouvoir predictif des features');"
      ],
      "execution_count": 20,
      "outputs": [
        {
          "output_type": "stream",
          "text": [
            "Somme des pouvoirs predictif : 1.0\n"
          ],
          "name": "stdout"
        },
        {
          "output_type": "display_data",
          "data": {
            "image/png": "[encoded data removed]",
            "text/plain": [
              "<Figure size 432x288 with 1 Axes>"
            ]
          },
          "metadata": {
            "tags": [],
            "needs_background": "light"
          }
        }
      ]
    },
    {
      "cell_type": "markdown",
      "metadata": {
        "id": "66-PgMtSG9t8"
      },
      "source": [
        "# **Explication du graphique ci-dessus**\n",
        "Dans ce graphique on peut observer en abscisse le pouvoir prédictif qui correspond à l'influence que peut avoir une feature sur notre accuracy\n",
        "En ordonnée ce sont toutes nos features utilisés pour faire nos prédictions et teste d'accuracy.\n",
        "\n",
        "L'unité de l'abscisse est un % qui lorsque l'on cumule chaque feature arrive à 100.\n",
        "\n",
        "On peut clairement voir que la feature qui impacte le plus notre accuracy  est le device_id qui correspond au nom de la machine qu'utilise le fraudeur. Il est donc censé de ce dire que lorsque l'on identifie le device d'un fraudeur celui-ci vas probablement recommencé avec la même machine. On peut doncre prendre des mesures contre ce genre de fraudeur."
      ]
    },
    {
      "cell_type": "code",
      "metadata": {
        "id": "CcP9K-XftScJ",
        "outputId": "15e911c9-3592-430c-cb7e-a6cf56e430bf",
        "colab": {
          "base_uri": "https://localhost:8080/",
          "height": 297
        }
      },
      "source": [
        "d"
      ],
      "execution_count": 21,
      "outputs": [
        {
          "output_type": "execute_result",
          "data": {
            "text/html": [
              "<div>\n",
              "<style scoped>\n",
              "    .dataframe tbody tr th:only-of-type {\n",
              "        vertical-align: middle;\n",
              "    }\n",
              "\n",
              "    .dataframe tbody tr th {\n",
              "        vertical-align: top;\n",
              "    }\n",
              "\n",
              "    .dataframe thead th {\n",
              "        text-align: right;\n",
              "    }\n",
              "</style>\n",
              "<table border=\"1\" class=\"dataframe\">\n",
              "  <thead>\n",
              "    <tr style=\"text-align: right;\">\n",
              "      <th></th>\n",
              "      <th>features</th>\n",
              "      <th>pouvoir_predictif</th>\n",
              "    </tr>\n",
              "  </thead>\n",
              "  <tbody>\n",
              "    <tr>\n",
              "      <th>5</th>\n",
              "      <td>sex</td>\n",
              "      <td>1.950265</td>\n",
              "    </tr>\n",
              "    <tr>\n",
              "      <th>3</th>\n",
              "      <td>source</td>\n",
              "      <td>2.996117</td>\n",
              "    </tr>\n",
              "    <tr>\n",
              "      <th>4</th>\n",
              "      <td>browser</td>\n",
              "      <td>3.275044</td>\n",
              "    </tr>\n",
              "    <tr>\n",
              "      <th>7</th>\n",
              "      <td>IP_country</td>\n",
              "      <td>10.060173</td>\n",
              "    </tr>\n",
              "    <tr>\n",
              "      <th>6</th>\n",
              "      <td>age</td>\n",
              "      <td>15.217709</td>\n",
              "    </tr>\n",
              "    <tr>\n",
              "      <th>1</th>\n",
              "      <td>purchase_value</td>\n",
              "      <td>17.648937</td>\n",
              "    </tr>\n",
              "    <tr>\n",
              "      <th>0</th>\n",
              "      <td>user_id</td>\n",
              "      <td>22.308580</td>\n",
              "    </tr>\n",
              "    <tr>\n",
              "      <th>2</th>\n",
              "      <td>device_id</td>\n",
              "      <td>26.543175</td>\n",
              "    </tr>\n",
              "  </tbody>\n",
              "</table>\n",
              "</div>"
            ],
            "text/plain": [
              "         features  pouvoir_predictif\n",
              "5             sex           1.950265\n",
              "3          source           2.996117\n",
              "4         browser           3.275044\n",
              "7      IP_country          10.060173\n",
              "6             age          15.217709\n",
              "1  purchase_value          17.648937\n",
              "0         user_id          22.308580\n",
              "2       device_id          26.543175"
            ]
          },
          "metadata": {
            "tags": []
          },
          "execution_count": 21
        }
      ]
    },
    {
      "cell_type": "code",
      "metadata": {
        "id": "IrOaiTofqrBe",
        "outputId": "3b3ef8ef-2667-4875-9853-a797314451da",
        "colab": {
          "base_uri": "https://localhost:8080/",
          "height": 53
        }
      },
      "source": [
        "# Ici on fait une matrice de confusion nous permettant d'observer le nombre de faux positif ou faux négatif.\n",
        "from sklearn.metrics import confusion_matrix\n",
        "proba = confusion_matrix(Y_test,prediction)\n",
        "proba"
      ],
      "execution_count": 22,
      "outputs": [
        {
          "output_type": "execute_result",
          "data": {
            "text/plain": [
              "array([[17062,    70],\n",
              "       [ 1177,   626]])"
            ]
          },
          "metadata": {
            "tags": []
          },
          "execution_count": 22
        }
      ]
    },
    {
      "cell_type": "code",
      "metadata": {
        "id": "5IgXfSZh2-TR",
        "outputId": "4e631b5a-7297-4444-d297-3811df22a91d",
        "colab": {
          "base_uri": "https://localhost:8080/",
          "height": 313
        }
      },
      "source": [
        "# J'affiche le nombre de fraude en fonction des 10premiers pays\n",
        "# Pour ça je récupère les colonnes class et ip country et en fait un nouveau dataframe\n",
        "# Je ne souhaite garder que les cas ou la fraude à été prédit.\n",
        "\n",
        "#Je groupby pour sur ip_country et additionne la colonne class en fonction des pays\n",
        "\n",
        "attack_df = fraud_df[fraud_df['class'] == 1]\n",
        "attack_df = attack_df[['class','IP_country']]\n",
        "attack_df = attack_df[attack_df.IP_country != 'Unknown']\n",
        "\n",
        "attack_df\n",
        "\n",
        "total_attack = attack_df.groupby(by='IP_country', as_index=False).sum().sort_values(by='class', ascending = False)\n",
        "total_attack.head(15)\n",
        "\n",
        "sns.barplot(total_attack['class'], total_attack['IP_country'][:10]).set_title('Nombre de fraude en fonction du pays')"
      ],
      "execution_count": 23,
      "outputs": [
        {
          "output_type": "execute_result",
          "data": {
            "text/plain": [
              "Text(0.5, 1.0, 'Nombre de fraude en fonction du pays')"
            ]
          },
          "metadata": {
            "tags": []
          },
          "execution_count": 23
        },
        {
          "output_type": "display_data",
          "data": {
            "image/png": "[encoded data removed]",
            "text/plain": [
              "<Figure size 432x288 with 1 Axes>"
            ]
          },
          "metadata": {
            "tags": [],
            "needs_background": "light"
          }
        }
      ]
    },
    {
      "cell_type": "markdown",
      "metadata": {
        "id": "lYlqW0RdTwBo"
      },
      "source": [
        "# **Courbe ROC et AUC score**"
      ]
    },
    {
      "cell_type": "code",
      "metadata": {
        "id": "DKbrnIdWT6Ab"
      },
      "source": [
        "from sklearn.metrics import roc_auc_score\n",
        "from sklearn.metrics import roc_curve, auc\n",
        "from scipy import interp\n",
        "from itertools import cycle\n",
        "import numpy as np"
      ],
      "execution_count": 102,
      "outputs": []
    },
    {
      "cell_type": "code",
      "metadata": {
        "id": "k7AjsGNRGWOG"
      },
      "source": [
        "n_classes = 2\n",
        "fpr = dict()\n",
        "tpr = dict()\n",
        "roc_auc = dict()\n",
        "for i in range(n_classes):\n",
        "    fpr[i], tpr[i], _ = roc_curve(Y_test, proba[:, i])\n",
        "    roc_auc[i] = auc(fpr[i], tpr[i])"
      ],
      "execution_count": 103,
      "outputs": []
    },
    {
      "cell_type": "code",
      "metadata": {
        "id": "7nFQykTlWCJJ"
      },
      "source": [
        "fpr[\"micro\"], tpr[\"micro\"], _ = roc_curve(Y_test.ravel(), proba[:, i].ravel())\n",
        "roc_auc[\"micro\"] = auc(fpr[\"micro\"], tpr[\"micro\"])"
      ],
      "execution_count": 104,
      "outputs": []
    },
    {
      "cell_type": "code",
      "metadata": {
        "id": "knQWHlBgWRgt",
        "outputId": "575abbca-ea3b-4118-ae12-243a6bd48293",
        "colab": {
          "base_uri": "https://localhost:8080/",
          "height": 295
        }
      },
      "source": [
        "\n",
        "plt.figure()\n",
        "lw = 2\n",
        "plt.plot(fpr[1], tpr[1], color='darkorange', lw=lw, label='ROC curve (area = %0.2f)' % roc_auc[1])\n",
        "plt.plot([0, 1], [0, 1], color='navy', lw=lw, linestyle='--')\n",
        "plt.xlim([0.0, 1.0])\n",
        "plt.ylim([0.0, 1.05])\n",
        "plt.xlabel('False Positive Rate')\n",
        "plt.ylabel('True Positive Rate')\n",
        "plt.title('Receiver operating characteristic example')\n",
        "plt.legend(loc=\"lower right\")\n",
        "plt.show()"
      ],
      "execution_count": 105,
      "outputs": [
        {
          "output_type": "display_data",
          "data": {
            "image/png": "[encoded data removed]",
            "text/plain": [
              "<Figure size 432x288 with 1 Axes>"
            ]
          },
          "metadata": {
            "tags": [],
            "needs_background": "light"
          }
        }
      ]
    },
    {
      "cell_type": "code",
      "metadata": {
        "id": "015p_bO3WgJA"
      },
      "source": [
        "# First aggregate all false positive rates\n",
        "all_fpr = np.unique(np.concatenate([fpr[i] for i in range(n_classes)]))\n",
        "\n",
        "# Then interpolate all ROC curves at this points\n",
        "mean_tpr = np.zeros_like(all_fpr)\n",
        "for i in range(n_classes):\n",
        "    mean_tpr += interp(all_fpr, fpr[i], tpr[i])\n",
        "\n",
        "# Finally average it and compute AUC\n",
        "mean_tpr /= n_classes\n",
        "\n",
        "fpr[\"macro\"] = all_fpr\n",
        "tpr[\"macro\"] = mean_tpr\n",
        "roc_auc[\"macro\"] = auc(fpr[\"macro\"], tpr[\"macro\"])"
      ],
      "execution_count": 106,
      "outputs": []
    },
    {
      "cell_type": "code",
      "metadata": {
        "id": "QLByf8vFWuQH",
        "outputId": "ee05a433-0178-40fb-da54-ffd93cdc20e7",
        "colab": {
          "base_uri": "https://localhost:8080/",
          "height": 295
        }
      },
      "source": [
        "# Plot all ROC curves\n",
        "plt.figure()\n",
        "plt.plot(fpr[\"micro\"], tpr[\"micro\"],\n",
        "         label='micro-average ROC curve (area = {0:0.2f})'\n",
        "               ''.format(roc_auc[\"micro\"]),\n",
        "         color='deeppink', linestyle=':', linewidth=4)\n",
        "\n",
        "plt.plot(fpr[\"macro\"], tpr[\"macro\"],\n",
        "         label='macro-average ROC curve (area = {0:0.2f})'\n",
        "               ''.format(roc_auc[\"macro\"]),\n",
        "         color='navy', linestyle=':', linewidth=4)\n",
        "\n",
        "colors = cycle(['aqua', 'darkorange', 'cornflowerblue'])\n",
        "for i, color in zip(range(n_classes), colors):\n",
        "    plt.plot(fpr[i], tpr[i], color=color, lw=lw,\n",
        "             label='ROC curve of class {0} (area = {1:0.2f})'\n",
        "             ''.format(i, roc_auc[i]))\n",
        "\n",
        "plt.plot([0, 1], [0, 1], 'k--', lw=lw)\n",
        "plt.xlim([0.0, 1.0])\n",
        "plt.ylim([0.0, 1.05])\n",
        "plt.xlabel('False Positive Rate')\n",
        "plt.ylabel('True Positive Rate')\n",
        "plt.title('Some extension of Receiver operating characteristic to multi-class')\n",
        "plt.legend(loc=\"lower right\")\n",
        "plt.show()"
      ],
      "execution_count": 107,
      "outputs": [
        {
          "output_type": "display_data",
          "data": {
            "image/png": "[encoded data removed]",
            "text/plain": [
              "<Figure size 432x288 with 1 Axes>"
            ]
          },
          "metadata": {
            "tags": [],
            "needs_background": "light"
          }
        }
      ]
    },
    {
      "cell_type": "code",
      "metadata": {
        "id": "VG7WzJuhDNAj"
      },
      "source": [
        "fpr0, tpr0, thresholds0 = metrics.roc_curve(Y_test, proba[:, i])"
      ],
      "execution_count": 93,
      "outputs": []
    },
    {
      "cell_type": "code",
      "metadata": {
        "id": "Lb_XjlZMNsyM",
        "outputId": "1f98d62e-5294-4ef3-9692-e98c3519adb1",
        "colab": {
          "base_uri": "https://localhost:8080/",
          "height": 35
        }
      },
      "source": [
        "roc_auc_scores = metrics.roc_auc_score(Y_test, proba[:, i])\n",
        "roc_auc_scores"
      ],
      "execution_count": 96,
      "outputs": [
        {
          "output_type": "execute_result",
          "data": {
            "text/plain": [
              "0.7599938826111409"
            ]
          },
          "metadata": {
            "tags": []
          },
          "execution_count": 96
        }
      ]
    },
    {
      "cell_type": "code",
      "metadata": {
        "id": "5j2-9KhpKCVO",
        "outputId": "36789e6d-aefd-41fa-97ca-2036e6a0530a",
        "colab": {
          "base_uri": "https://localhost:8080/",
          "height": 111
        }
      },
      "source": [
        "dftp = pd.DataFrame(dict(fpr=fpr0, tpr=tpr0, threshold=thresholds0)).copy()\n",
        "dftp.head(n=2)"
      ],
      "execution_count": 97,
      "outputs": [
        {
          "output_type": "execute_result",
          "data": {
            "text/html": [
              "<div>\n",
              "<style scoped>\n",
              "    .dataframe tbody tr th:only-of-type {\n",
              "        vertical-align: middle;\n",
              "    }\n",
              "\n",
              "    .dataframe tbody tr th {\n",
              "        vertical-align: top;\n",
              "    }\n",
              "\n",
              "    .dataframe thead th {\n",
              "        text-align: right;\n",
              "    }\n",
              "</style>\n",
              "<table border=\"1\" class=\"dataframe\">\n",
              "  <thead>\n",
              "    <tr style=\"text-align: right;\">\n",
              "      <th></th>\n",
              "      <th>fpr</th>\n",
              "      <th>tpr</th>\n",
              "      <th>threshold</th>\n",
              "    </tr>\n",
              "  </thead>\n",
              "  <tbody>\n",
              "    <tr>\n",
              "      <th>0</th>\n",
              "      <td>0.0</td>\n",
              "      <td>0.000000</td>\n",
              "      <td>2.0</td>\n",
              "    </tr>\n",
              "    <tr>\n",
              "      <th>1</th>\n",
              "      <td>0.0</td>\n",
              "      <td>0.000555</td>\n",
              "      <td>1.0</td>\n",
              "    </tr>\n",
              "  </tbody>\n",
              "</table>\n",
              "</div>"
            ],
            "text/plain": [
              "   fpr       tpr  threshold\n",
              "0  0.0  0.000000        2.0\n",
              "1  0.0  0.000555        1.0"
            ]
          },
          "metadata": {
            "tags": []
          },
          "execution_count": 97
        }
      ]
    },
    {
      "cell_type": "code",
      "metadata": {
        "id": "O9kGx5qiKvO9",
        "outputId": "b02f0439-df9f-4364-f23f-132b9ad8f29a",
        "colab": {
          "base_uri": "https://localhost:8080/",
          "height": 651
        }
      },
      "source": [
        "ax = dftp.plot(x=\"threshold\", y=['fpr', 'tpr'], figsize=(10, 10))\n",
        "ax.set_title(\"Evolution de FPR, TPR\\nen fonction du seuil au delà duquel\\n\" +\n",
        "             \"la réponse du classifieur est validée\");"
      ],
      "execution_count": 98,
      "outputs": [
        {
          "output_type": "display_data",
          "data": {
            "image/png": "[encoded data removed]",
            "text/plain": [
              "<Figure size 720x720 with 1 Axes>"
            ]
          },
          "metadata": {
            "tags": [],
            "needs_background": "light"
          }
        }
      ]
    },
    {
      "cell_type": "markdown",
      "metadata": {
        "id": "Rc2-zc1VAPne"
      },
      "source": [
        "# **Conclusion**\n",
        "Au vu de l'étude faite sur les deux datasets, notre algorithme peut prédire à 94% si une personne fraude. Il est possible d'identifier sur quel device et quel utilisateur fraude. \n",
        "Une très grande majorité des fraudeurs sont basé aux États-Unis, je recommande donc de vérifier si le marché américain est celui que l'application vise ou alors de prendre des mesures de précautions plus grande lorsqu'un utilisateur s'enregistre depuis une IP américaine afin de prévenir d'éventuel fraude."
      ]
    }
  ]
}