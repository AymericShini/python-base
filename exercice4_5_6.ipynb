{
  "nbformat": 4,
  "nbformat_minor": 0,
  "metadata": {
    "colab": {
      "name": "exercice4-5-6.ipynb",
      "provenance": [],
      "authorship_tag": "ABX9TyMsTs04HSUkCa+2+YvV45f4",
      "include_colab_link": true
    },
    "kernelspec": {
      "name": "python3",
      "display_name": "Python 3"
    }
  },
  "cells": [
    {
      "cell_type": "markdown",
      "metadata": {
        "id": "view-in-github",
        "colab_type": "text"
      },
      "source": [
        "<a href=\"https://colab.research.google.com/github/AymericShini/python-base/blob/master/exercice4_5_6.ipynb\" target=\"_parent\"><img src=\"https://colab.research.google.com/assets/colab-badge.svg\" alt=\"Open In Colab\"/></a>"
      ]
    },
    {
      "cell_type": "code",
      "metadata": {
        "id": "IFOi72joz9ij",
        "colab_type": "code",
        "colab": {
          "base_uri": "https://localhost:8080/",
          "height": 251
        },
        "outputId": "26a3c4ca-184d-4ac7-d4c7-44afb7e44c7d"
      },
      "source": [
        "!pip install numpy matplotlib pandas seaborn\n",
        "import pandas as pd\n",
        "pd.set_option('display.max_rows', 500)\n",
        "pd.set_option('display.max_columns', 500)\n",
        "pd.set_option('display.width', 1000)\n",
        "import seaborn as sns\n",
        "import matplotlib.pyplot as plt"
      ],
      "execution_count": 1,
      "outputs": [
        {
          "output_type": "stream",
          "text": [
            "Requirement already satisfied: numpy in /usr/local/lib/python3.6/dist-packages (1.18.5)\n",
            "Requirement already satisfied: matplotlib in /usr/local/lib/python3.6/dist-packages (3.2.2)\n",
            "Requirement already satisfied: pandas in /usr/local/lib/python3.6/dist-packages (1.0.5)\n",
            "Requirement already satisfied: seaborn in /usr/local/lib/python3.6/dist-packages (0.10.1)\n",
            "Requirement already satisfied: cycler>=0.10 in /usr/local/lib/python3.6/dist-packages (from matplotlib) (0.10.0)\n",
            "Requirement already satisfied: pyparsing!=2.0.4,!=2.1.2,!=2.1.6,>=2.0.1 in /usr/local/lib/python3.6/dist-packages (from matplotlib) (2.4.7)\n",
            "Requirement already satisfied: python-dateutil>=2.1 in /usr/local/lib/python3.6/dist-packages (from matplotlib) (2.8.1)\n",
            "Requirement already satisfied: kiwisolver>=1.0.1 in /usr/local/lib/python3.6/dist-packages (from matplotlib) (1.2.0)\n",
            "Requirement already satisfied: pytz>=2017.2 in /usr/local/lib/python3.6/dist-packages (from pandas) (2018.9)\n",
            "Requirement already satisfied: scipy>=1.0.1 in /usr/local/lib/python3.6/dist-packages (from seaborn) (1.4.1)\n",
            "Requirement already satisfied: six in /usr/local/lib/python3.6/dist-packages (from cycler>=0.10->matplotlib) (1.15.0)\n"
          ],
          "name": "stdout"
        },
        {
          "output_type": "stream",
          "text": [
            "/usr/local/lib/python3.6/dist-packages/statsmodels/tools/_testing.py:19: FutureWarning: pandas.util.testing is deprecated. Use the functions in the public API at pandas.testing instead.\n",
            "  import pandas.util.testing as tm\n"
          ],
          "name": "stderr"
        }
      ]
    },
    {
      "cell_type": "code",
      "metadata": {
        "id": "x809Ey_60bG-",
        "colab_type": "code",
        "colab": {}
      },
      "source": [
        "df = pd.read_csv(r\"/content/IBM_HR_ATTRITION.csv\")"
      ],
      "execution_count": 61,
      "outputs": []
    },
    {
      "cell_type": "code",
      "metadata": {
        "id": "ZIpcS2PM1ueS",
        "colab_type": "code",
        "colab": {
          "base_uri": "https://localhost:8080/",
          "height": 773
        },
        "outputId": "b3266cd9-66b5-4009-9ac4-bf1086c39b4a"
      },
      "source": [
        "df.info()"
      ],
      "execution_count": 62,
      "outputs": [
        {
          "output_type": "stream",
          "text": [
            "<class 'pandas.core.frame.DataFrame'>\n",
            "RangeIndex: 1470 entries, 0 to 1469\n",
            "Data columns (total 35 columns):\n",
            " #   Column                    Non-Null Count  Dtype \n",
            "---  ------                    --------------  ----- \n",
            " 0   Age                       1470 non-null   int64 \n",
            " 1   Attrition                 1470 non-null   object\n",
            " 2   BusinessTravel            1470 non-null   object\n",
            " 3   DailyRate                 1470 non-null   int64 \n",
            " 4   Department                1470 non-null   object\n",
            " 5   DistanceFromHome          1470 non-null   int64 \n",
            " 6   Education                 1470 non-null   int64 \n",
            " 7   EducationField            1470 non-null   object\n",
            " 8   EmployeeCount             1470 non-null   int64 \n",
            " 9   EmployeeNumber            1470 non-null   int64 \n",
            " 10  EnvironmentSatisfaction   1470 non-null   int64 \n",
            " 11  Gender                    1470 non-null   object\n",
            " 12  HourlyRate                1470 non-null   int64 \n",
            " 13  JobInvolvement            1470 non-null   int64 \n",
            " 14  JobLevel                  1470 non-null   int64 \n",
            " 15  JobRole                   1470 non-null   object\n",
            " 16  JobSatisfaction           1470 non-null   int64 \n",
            " 17  MaritalStatus             1470 non-null   object\n",
            " 18  MonthlyIncome             1470 non-null   int64 \n",
            " 19  MonthlyRate               1470 non-null   int64 \n",
            " 20  NumCompaniesWorked        1470 non-null   int64 \n",
            " 21  Over18                    1470 non-null   object\n",
            " 22  OverTime                  1470 non-null   object\n",
            " 23  PercentSalaryHike         1470 non-null   int64 \n",
            " 24  PerformanceRating         1470 non-null   int64 \n",
            " 25  RelationshipSatisfaction  1470 non-null   int64 \n",
            " 26  StandardHours             1470 non-null   int64 \n",
            " 27  StockOptionLevel          1470 non-null   int64 \n",
            " 28  TotalWorkingYears         1470 non-null   int64 \n",
            " 29  TrainingTimesLastYear     1470 non-null   int64 \n",
            " 30  WorkLifeBalance           1470 non-null   int64 \n",
            " 31  YearsAtCompany            1470 non-null   int64 \n",
            " 32  YearsInCurrentRole        1470 non-null   int64 \n",
            " 33  YearsSinceLastPromotion   1470 non-null   int64 \n",
            " 34  YearsWithCurrManager      1470 non-null   int64 \n",
            "dtypes: int64(26), object(9)\n",
            "memory usage: 402.1+ KB\n"
          ],
          "name": "stdout"
        }
      ]
    },
    {
      "cell_type": "code",
      "metadata": {
        "id": "LMGEb7xE2RlG",
        "colab_type": "code",
        "colab": {
          "base_uri": "https://localhost:8080/",
          "height": 322
        },
        "outputId": "9bed4501-47f0-4cbb-ae23-128e56f5ea2e"
      },
      "source": [
        "sns.relplot(x=\"date\", y=\"item_price\", data=df)"
      ],
      "execution_count": 19,
      "outputs": [
        {
          "output_type": "error",
          "ename": "ValueError",
          "evalue": "ignored",
          "traceback": [
            "\u001b[0;31m---------------------------------------------------------------------------\u001b[0m",
            "\u001b[0;31mValueError\u001b[0m                                Traceback (most recent call last)",
            "\u001b[0;32m<ipython-input-19-75a45cf25dd4>\u001b[0m in \u001b[0;36m<module>\u001b[0;34m()\u001b[0m\n\u001b[0;32m----> 1\u001b[0;31m \u001b[0msns\u001b[0m\u001b[0;34m.\u001b[0m\u001b[0mrelplot\u001b[0m\u001b[0;34m(\u001b[0m\u001b[0mx\u001b[0m\u001b[0;34m=\u001b[0m\u001b[0;34m\"date\"\u001b[0m\u001b[0;34m,\u001b[0m \u001b[0my\u001b[0m\u001b[0;34m=\u001b[0m\u001b[0;34m\"item_price\"\u001b[0m\u001b[0;34m,\u001b[0m \u001b[0mdata\u001b[0m\u001b[0;34m=\u001b[0m\u001b[0mdf\u001b[0m\u001b[0;34m)\u001b[0m\u001b[0;34m\u001b[0m\u001b[0;34m\u001b[0m\u001b[0m\n\u001b[0m",
            "\u001b[0;32m/usr/local/lib/python3.6/dist-packages/seaborn/relational.py\u001b[0m in \u001b[0;36mrelplot\u001b[0;34m(x, y, hue, size, style, data, row, col, col_wrap, row_order, col_order, palette, hue_order, hue_norm, sizes, size_order, size_norm, markers, dashes, style_order, legend, kind, height, aspect, facet_kws, **kwargs)\u001b[0m\n\u001b[1;32m   1658\u001b[0m         \u001b[0msizes\u001b[0m\u001b[0;34m=\u001b[0m\u001b[0msizes\u001b[0m\u001b[0;34m,\u001b[0m \u001b[0msize_order\u001b[0m\u001b[0;34m=\u001b[0m\u001b[0msize_order\u001b[0m\u001b[0;34m,\u001b[0m \u001b[0msize_norm\u001b[0m\u001b[0;34m=\u001b[0m\u001b[0msize_norm\u001b[0m\u001b[0;34m,\u001b[0m\u001b[0;34m\u001b[0m\u001b[0;34m\u001b[0m\u001b[0m\n\u001b[1;32m   1659\u001b[0m         \u001b[0mmarkers\u001b[0m\u001b[0;34m=\u001b[0m\u001b[0mmarkers\u001b[0m\u001b[0;34m,\u001b[0m \u001b[0mdashes\u001b[0m\u001b[0;34m=\u001b[0m\u001b[0mdashes\u001b[0m\u001b[0;34m,\u001b[0m \u001b[0mstyle_order\u001b[0m\u001b[0;34m=\u001b[0m\u001b[0mstyle_order\u001b[0m\u001b[0;34m,\u001b[0m\u001b[0;34m\u001b[0m\u001b[0;34m\u001b[0m\u001b[0m\n\u001b[0;32m-> 1660\u001b[0;31m         \u001b[0mlegend\u001b[0m\u001b[0;34m=\u001b[0m\u001b[0mlegend\u001b[0m\u001b[0;34m,\u001b[0m\u001b[0;34m\u001b[0m\u001b[0;34m\u001b[0m\u001b[0m\n\u001b[0m\u001b[1;32m   1661\u001b[0m     )\n\u001b[1;32m   1662\u001b[0m \u001b[0;34m\u001b[0m\u001b[0m\n",
            "\u001b[0;32m/usr/local/lib/python3.6/dist-packages/seaborn/relational.py\u001b[0m in \u001b[0;36m__init__\u001b[0;34m(self, x, y, hue, size, style, data, palette, hue_order, hue_norm, sizes, size_order, size_norm, dashes, markers, style_order, x_bins, y_bins, units, estimator, ci, n_boot, alpha, x_jitter, y_jitter, legend)\u001b[0m\n\u001b[1;32m    884\u001b[0m \u001b[0;34m\u001b[0m\u001b[0m\n\u001b[1;32m    885\u001b[0m         plot_data = self.establish_variables(\n\u001b[0;32m--> 886\u001b[0;31m             \u001b[0mx\u001b[0m\u001b[0;34m,\u001b[0m \u001b[0my\u001b[0m\u001b[0;34m,\u001b[0m \u001b[0mhue\u001b[0m\u001b[0;34m,\u001b[0m \u001b[0msize\u001b[0m\u001b[0;34m,\u001b[0m \u001b[0mstyle\u001b[0m\u001b[0;34m,\u001b[0m \u001b[0munits\u001b[0m\u001b[0;34m,\u001b[0m \u001b[0mdata\u001b[0m\u001b[0;34m\u001b[0m\u001b[0;34m\u001b[0m\u001b[0m\n\u001b[0m\u001b[1;32m    887\u001b[0m         )\n\u001b[1;32m    888\u001b[0m \u001b[0;34m\u001b[0m\u001b[0m\n",
            "\u001b[0;32m/usr/local/lib/python3.6/dist-packages/seaborn/relational.py\u001b[0m in \u001b[0;36mestablish_variables\u001b[0;34m(self, x, y, hue, size, style, units, data)\u001b[0m\n\u001b[1;32m    135\u001b[0m                 \u001b[0;32mif\u001b[0m \u001b[0misinstance\u001b[0m\u001b[0;34m(\u001b[0m\u001b[0mvar\u001b[0m\u001b[0;34m,\u001b[0m \u001b[0mstr\u001b[0m\u001b[0;34m)\u001b[0m\u001b[0;34m:\u001b[0m\u001b[0;34m\u001b[0m\u001b[0;34m\u001b[0m\u001b[0m\n\u001b[1;32m    136\u001b[0m                     \u001b[0merr\u001b[0m \u001b[0;34m=\u001b[0m \u001b[0;34m\"Could not interpret input '{}'\"\u001b[0m\u001b[0;34m.\u001b[0m\u001b[0mformat\u001b[0m\u001b[0;34m(\u001b[0m\u001b[0mvar\u001b[0m\u001b[0;34m)\u001b[0m\u001b[0;34m\u001b[0m\u001b[0;34m\u001b[0m\u001b[0m\n\u001b[0;32m--> 137\u001b[0;31m                     \u001b[0;32mraise\u001b[0m \u001b[0mValueError\u001b[0m\u001b[0;34m(\u001b[0m\u001b[0merr\u001b[0m\u001b[0;34m)\u001b[0m\u001b[0;34m\u001b[0m\u001b[0;34m\u001b[0m\u001b[0m\n\u001b[0m\u001b[1;32m    138\u001b[0m \u001b[0;34m\u001b[0m\u001b[0m\n\u001b[1;32m    139\u001b[0m             \u001b[0;31m# Extract variable names\u001b[0m\u001b[0;34m\u001b[0m\u001b[0;34m\u001b[0m\u001b[0;34m\u001b[0m\u001b[0m\n",
            "\u001b[0;31mValueError\u001b[0m: Could not interpret input 'date'"
          ]
        }
      ]
    },
    {
      "cell_type": "code",
      "metadata": {
        "id": "MleQgsvV2rWl",
        "colab_type": "code",
        "colab": {}
      },
      "source": [
        "df2= df.sample(n=50)"
      ],
      "execution_count": null,
      "outputs": []
    },
    {
      "cell_type": "code",
      "metadata": {
        "id": "kSUAcA036NpS",
        "colab_type": "code",
        "colab": {
          "base_uri": "https://localhost:8080/",
          "height": 387
        },
        "outputId": "e7058869-3656-435b-f7e5-ce045293a5cb"
      },
      "source": [
        "sns.relplot(x=\"date\", y=\"item_price\", data=df2)"
      ],
      "execution_count": null,
      "outputs": [
        {
          "output_type": "execute_result",
          "data": {
            "text/plain": [
              "<seaborn.axisgrid.FacetGrid at 0x7f01b0186d68>"
            ]
          },
          "metadata": {
            "tags": []
          },
          "execution_count": 27
        },
        {
          "output_type": "display_data",
          "data": {
            "image/png": "[encoded data removed]",
            "text/plain": [
              "<Figure size 360x360 with 1 Axes>"
            ]
          },
          "metadata": {
            "tags": [],
            "needs_background": "light"
          }
        }
      ]
    },
    {
      "cell_type": "code",
      "metadata": {
        "id": "FtjbpD9h4Z9s",
        "colab_type": "code",
        "colab": {}
      },
      "source": [
        "df2.date =  pd.to_datetime(df2.date)"
      ],
      "execution_count": null,
      "outputs": []
    },
    {
      "cell_type": "code",
      "metadata": {
        "id": "2t1JaJNA6n9u",
        "colab_type": "code",
        "colab": {
          "base_uri": "https://localhost:8080/",
          "height": 251
        },
        "outputId": "e70472a2-4bc3-45be-fdef-ade1433f32e0"
      },
      "source": [
        "df2.info()"
      ],
      "execution_count": null,
      "outputs": [
        {
          "output_type": "stream",
          "text": [
            "<class 'pandas.core.frame.DataFrame'>\n",
            "Int64Index: 50 entries, 797044 to 649156\n",
            "Data columns (total 6 columns):\n",
            " #   Column          Non-Null Count  Dtype         \n",
            "---  ------          --------------  -----         \n",
            " 0   date            50 non-null     datetime64[ns]\n",
            " 1   date_block_num  50 non-null     float64       \n",
            " 2   shop_id         50 non-null     float64       \n",
            " 3   item_id         50 non-null     float64       \n",
            " 4   item_price      50 non-null     float64       \n",
            " 5   item_cnt_day    50 non-null     float64       \n",
            "dtypes: datetime64[ns](1), float64(5)\n",
            "memory usage: 2.7 KB\n"
          ],
          "name": "stdout"
        }
      ]
    },
    {
      "cell_type": "code",
      "metadata": {
        "id": "YiOLYUiltYaR",
        "colab_type": "code",
        "colab": {}
      },
      "source": [
        "sns.set()"
      ],
      "execution_count": 68,
      "outputs": []
    },
    {
      "cell_type": "code",
      "metadata": {
        "id": "Ea2nLq8Ht0Y8",
        "colab_type": "code",
        "colab": {}
      },
      "source": [
        "df3 = pd.Series(df.MonthlyIncome, name=\"MonthlyIncome\")"
      ],
      "execution_count": 20,
      "outputs": []
    },
    {
      "cell_type": "code",
      "metadata": {
        "id": "IZBsEwJax_Ey",
        "colab_type": "code",
        "colab": {
          "base_uri": "https://localhost:8080/",
          "height": 279
        },
        "outputId": "796b983f-a98b-46ad-e02c-5784b8b10c97"
      },
      "source": [
        "ax = sns.distplot(df3)"
      ],
      "execution_count": 21,
      "outputs": [
        {
          "output_type": "display_data",
          "data": {
            "image/png": "[encoded data removed]",
            "text/plain": [
              "<Figure size 432x288 with 1 Axes>"
            ]
          },
          "metadata": {
            "tags": [],
            "needs_background": "light"
          }
        }
      ]
    },
    {
      "cell_type": "code",
      "metadata": {
        "id": "dIRDwS_lz4xA",
        "colab_type": "code",
        "colab": {}
      },
      "source": [
        "df4 = df.query(\"MonthlyIncome <= 5000 & MonthlyIncome > 0\").MonthlyIncome"
      ],
      "execution_count": 24,
      "outputs": []
    },
    {
      "cell_type": "code",
      "metadata": {
        "id": "GOmtzmtAzos8",
        "colab_type": "code",
        "colab": {
          "base_uri": "https://localhost:8080/",
          "height": 279
        },
        "outputId": "84975c44-4281-47af-836b-239714d23ae2"
      },
      "source": [
        "ax2 = sns.distplot(df4)"
      ],
      "execution_count": 25,
      "outputs": [
        {
          "output_type": "display_data",
          "data": {
            "image/png": "[encoded data removed]",
            "text/plain": [
              "<Figure size 432x288 with 1 Axes>"
            ]
          },
          "metadata": {
            "tags": [],
            "needs_background": "light"
          }
        }
      ]
    },
    {
      "cell_type": "code",
      "metadata": {
        "id": "_wvBtaAA9pc0",
        "colab_type": "code",
        "colab": {}
      },
      "source": [
        "df.Attrition = df.Attrition.map(dict(Yes=1, No=0))"
      ],
      "execution_count": 63,
      "outputs": []
    },
    {
      "cell_type": "code",
      "metadata": {
        "id": "c0jDl9iR98cw",
        "colab_type": "code",
        "colab": {
          "base_uri": "https://localhost:8080/",
          "height": 233
        },
        "outputId": "9c9b4b2c-e301-4d2d-e139-dffddd19c63b"
      },
      "source": [
        "df.Attrition"
      ],
      "execution_count": 65,
      "outputs": [
        {
          "output_type": "execute_result",
          "data": {
            "text/plain": [
              "0       1\n",
              "1       0\n",
              "2       1\n",
              "3       0\n",
              "4       0\n",
              "       ..\n",
              "1465    0\n",
              "1466    0\n",
              "1467    0\n",
              "1468    0\n",
              "1469    0\n",
              "Name: Attrition, Length: 1470, dtype: int64"
            ]
          },
          "metadata": {
            "tags": []
          },
          "execution_count": 65
        }
      ]
    },
    {
      "cell_type": "code",
      "metadata": {
        "id": "8i0nP_Xk5t7i",
        "colab_type": "code",
        "colab": {
          "base_uri": "https://localhost:8080/",
          "height": 383
        },
        "outputId": "88c70688-9baa-4971-bc54-323661caaa9c"
      },
      "source": [
        "sns.lmplot(y=\"Attrition\", x=\"DistanceFromHome\", data=df)"
      ],
      "execution_count": 69,
      "outputs": [
        {
          "output_type": "execute_result",
          "data": {
            "text/plain": [
              "<seaborn.axisgrid.FacetGrid at 0x7fae30a48908>"
            ]
          },
          "metadata": {
            "tags": []
          },
          "execution_count": 69
        },
        {
          "output_type": "display_data",
          "data": {
            "image/png": "[encoded data removed]",
            "text/plain": [
              "<Figure size 360x360 with 1 Axes>"
            ]
          },
          "metadata": {
            "tags": []
          }
        }
      ]
    },
    {
      "cell_type": "code",
      "metadata": {
        "id": "JlX0ieiI9FuZ",
        "colab_type": "code",
        "colab": {
          "base_uri": "https://localhost:8080/",
          "height": 365
        },
        "outputId": "03943150-fd0d-409c-b044-8dd865482451"
      },
      "source": [
        "df5 = sns.lmplot(y=\"YearsWithCurrManager\", x=\"DistanceFromHome\", data=df)"
      ],
      "execution_count": 70,
      "outputs": [
        {
          "output_type": "display_data",
          "data": {
            "image/png": "[encoded data removed]",
            "text/plain": [
              "<Figure size 360x360 with 1 Axes>"
            ]
          },
          "metadata": {
            "tags": []
          }
        }
      ]
    },
    {
      "cell_type": "code",
      "metadata": {
        "id": "SbNLW-W8_JYJ",
        "colab_type": "code",
        "colab": {}
      },
      "source": [
        "pricing = pd.read_csv(r\"/content/house_pricing.csv\")"
      ],
      "execution_count": 72,
      "outputs": []
    },
    {
      "cell_type": "code",
      "metadata": {
        "id": "i-z-FSgu_4t0",
        "colab_type": "code",
        "colab": {
          "base_uri": "https://localhost:8080/",
          "height": 1000
        },
        "outputId": "8544f609-366e-4cd3-d2e1-b00855dc407a"
      },
      "source": [
        "pricing.info()"
      ],
      "execution_count": 73,
      "outputs": [
        {
          "output_type": "stream",
          "text": [
            "<class 'pandas.core.frame.DataFrame'>\n",
            "RangeIndex: 1460 entries, 0 to 1459\n",
            "Data columns (total 81 columns):\n",
            " #   Column         Non-Null Count  Dtype  \n",
            "---  ------         --------------  -----  \n",
            " 0   Id             1460 non-null   int64  \n",
            " 1   MSSubClass     1460 non-null   int64  \n",
            " 2   MSZoning       1460 non-null   object \n",
            " 3   LotFrontage    1201 non-null   float64\n",
            " 4   LotArea        1460 non-null   int64  \n",
            " 5   Street         1460 non-null   object \n",
            " 6   Alley          91 non-null     object \n",
            " 7   LotShape       1460 non-null   object \n",
            " 8   LandContour    1460 non-null   object \n",
            " 9   Utilities      1460 non-null   object \n",
            " 10  LotConfig      1460 non-null   object \n",
            " 11  LandSlope      1460 non-null   object \n",
            " 12  Neighborhood   1460 non-null   object \n",
            " 13  Condition1     1460 non-null   object \n",
            " 14  Condition2     1460 non-null   object \n",
            " 15  BldgType       1460 non-null   object \n",
            " 16  HouseStyle     1460 non-null   object \n",
            " 17  OverallQual    1460 non-null   int64  \n",
            " 18  OverallCond    1460 non-null   int64  \n",
            " 19  YearBuilt      1460 non-null   int64  \n",
            " 20  YearRemodAdd   1460 non-null   int64  \n",
            " 21  RoofStyle      1460 non-null   object \n",
            " 22  RoofMatl       1460 non-null   object \n",
            " 23  Exterior1st    1460 non-null   object \n",
            " 24  Exterior2nd    1460 non-null   object \n",
            " 25  MasVnrType     1452 non-null   object \n",
            " 26  MasVnrArea     1452 non-null   float64\n",
            " 27  ExterQual      1460 non-null   object \n",
            " 28  ExterCond      1460 non-null   object \n",
            " 29  Foundation     1460 non-null   object \n",
            " 30  BsmtQual       1423 non-null   object \n",
            " 31  BsmtCond       1423 non-null   object \n",
            " 32  BsmtExposure   1422 non-null   object \n",
            " 33  BsmtFinType1   1423 non-null   object \n",
            " 34  BsmtFinSF1     1460 non-null   int64  \n",
            " 35  BsmtFinType2   1422 non-null   object \n",
            " 36  BsmtFinSF2     1460 non-null   int64  \n",
            " 37  BsmtUnfSF      1460 non-null   int64  \n",
            " 38  TotalBsmtSF    1460 non-null   int64  \n",
            " 39  Heating        1460 non-null   object \n",
            " 40  HeatingQC      1460 non-null   object \n",
            " 41  CentralAir     1460 non-null   object \n",
            " 42  Electrical     1459 non-null   object \n",
            " 43  1stFlrSF       1460 non-null   int64  \n",
            " 44  2ndFlrSF       1460 non-null   int64  \n",
            " 45  LowQualFinSF   1460 non-null   int64  \n",
            " 46  GrLivArea      1460 non-null   int64  \n",
            " 47  BsmtFullBath   1460 non-null   int64  \n",
            " 48  BsmtHalfBath   1460 non-null   int64  \n",
            " 49  FullBath       1460 non-null   int64  \n",
            " 50  HalfBath       1460 non-null   int64  \n",
            " 51  BedroomAbvGr   1460 non-null   int64  \n",
            " 52  KitchenAbvGr   1460 non-null   int64  \n",
            " 53  KitchenQual    1460 non-null   object \n",
            " 54  TotRmsAbvGrd   1460 non-null   int64  \n",
            " 55  Functional     1460 non-null   object \n",
            " 56  Fireplaces     1460 non-null   int64  \n",
            " 57  FireplaceQu    770 non-null    object \n",
            " 58  GarageType     1379 non-null   object \n",
            " 59  GarageYrBlt    1379 non-null   float64\n",
            " 60  GarageFinish   1379 non-null   object \n",
            " 61  GarageCars     1460 non-null   int64  \n",
            " 62  GarageArea     1460 non-null   int64  \n",
            " 63  GarageQual     1379 non-null   object \n",
            " 64  GarageCond     1379 non-null   object \n",
            " 65  PavedDrive     1460 non-null   object \n",
            " 66  WoodDeckSF     1460 non-null   int64  \n",
            " 67  OpenPorchSF    1460 non-null   int64  \n",
            " 68  EnclosedPorch  1460 non-null   int64  \n",
            " 69  3SsnPorch      1460 non-null   int64  \n",
            " 70  ScreenPorch    1460 non-null   int64  \n",
            " 71  PoolArea       1460 non-null   int64  \n",
            " 72  PoolQC         7 non-null      object \n",
            " 73  Fence          281 non-null    object \n",
            " 74  MiscFeature    54 non-null     object \n",
            " 75  MiscVal        1460 non-null   int64  \n",
            " 76  MoSold         1460 non-null   int64  \n",
            " 77  YrSold         1460 non-null   int64  \n",
            " 78  SaleType       1460 non-null   object \n",
            " 79  SaleCondition  1460 non-null   object \n",
            " 80  SalePrice      1460 non-null   int64  \n",
            "dtypes: float64(3), int64(35), object(43)\n",
            "memory usage: 924.0+ KB\n"
          ],
          "name": "stdout"
        }
      ]
    },
    {
      "cell_type": "code",
      "metadata": {
        "id": "U30cw-2MAKVn",
        "colab_type": "code",
        "colab": {}
      },
      "source": [
        "pricing = pricing[pricing.columns[66:81]] "
      ],
      "execution_count": 83,
      "outputs": []
    },
    {
      "cell_type": "code",
      "metadata": {
        "id": "JIPFRmUPAuXH",
        "colab_type": "code",
        "colab": {}
      },
      "source": [
        "pricingCorr = pricing.corr()"
      ],
      "execution_count": 84,
      "outputs": []
    },
    {
      "cell_type": "code",
      "metadata": {
        "id": "CDCNkfyIBOAp",
        "colab_type": "code",
        "colab": {
          "base_uri": "https://localhost:8080/",
          "height": 360
        },
        "outputId": "2896bf3b-7c7f-4193-a0ad-eed7f1fe642e"
      },
      "source": [
        "sns.heatmap(pricingCorr, \n",
        "        xticklabels=pricingCorr.columns,\n",
        "        yticklabels=pricingCorr.columns)"
      ],
      "execution_count": 85,
      "outputs": [
        {
          "output_type": "execute_result",
          "data": {
            "text/plain": [
              "<matplotlib.axes._subplots.AxesSubplot at 0x7fae350683c8>"
            ]
          },
          "metadata": {
            "tags": []
          },
          "execution_count": 85
        },
        {
          "output_type": "display_data",
          "data": {
            "image/png": "[encoded data removed]",
            "text/plain": [
              "<Figure size 432x288 with 2 Axes>"
            ]
          },
          "metadata": {
            "tags": []
          }
        }
      ]
    },
    {
      "cell_type": "code",
      "metadata": {
        "id": "n2YufImYCM77",
        "colab_type": "code",
        "colab": {
          "base_uri": "https://localhost:8080/",
          "height": 231
        },
        "outputId": "f3bb10aa-d4a2-4e96-fff7-0a9088695083"
      },
      "source": [
        "cmap = cmap=sns.diverging_palette(5, 250, as_cmap=True)\n",
        "\n",
        "def magnify():\n",
        "    return [dict(selector=\"th\",\n",
        "                 props=[(\"font-size\", \"7pt\")]),\n",
        "            dict(selector=\"td\",\n",
        "                 props=[('padding', \"0em 0em\")]),\n",
        "            dict(selector=\"th:hover\",\n",
        "                 props=[(\"font-size\", \"12pt\")]),\n",
        "            dict(selector=\"tr:hover td:hover\",\n",
        "                 props=[('max-width', '200px'),\n",
        "                        ('font-size', '12pt')])\n",
        "]\n",
        "\n",
        "pricingCorr.style.background_gradient(cmap, axis=1)\\\n",
        "    .set_properties(**{'max-width': '80px', 'font-size': '10pt'})\\\n",
        "    .set_caption(\"Hover to magify\")\\\n",
        "    .set_precision(2)\\\n",
        "    .set_table_styles(magnify())"
      ],
      "execution_count": 86,
      "outputs": [
        {
          "output_type": "execute_result",
          "data": {
            "text/html": [
              "<style  type=\"text/css\" >\n",
              "    #T_9307f0f4_f278_11ea_a9a7_0242ac1c0002 th {\n",
              "          font-size: 7pt;\n",
              "    }    #T_9307f0f4_f278_11ea_a9a7_0242ac1c0002 td {\n",
              "          padding: 0em 0em;\n",
              "    }    #T_9307f0f4_f278_11ea_a9a7_0242ac1c0002 th:hover {\n",
              "          font-size: 12pt;\n",
              "    }    #T_9307f0f4_f278_11ea_a9a7_0242ac1c0002 tr:hover td:hover {\n",
              "          max-width: 200px;\n",
              "          font-size: 12pt;\n",
              "    }    #T_9307f0f4_f278_11ea_a9a7_0242ac1c0002row0_col0 {\n",
              "            background-color:  #4479bb;\n",
              "            color:  #000000;\n",
              "            max-width:  80px;\n",
              "            font-size:  10pt;\n",
              "        }    #T_9307f0f4_f278_11ea_a9a7_0242ac1c0002row0_col1 {\n",
              "            background-color:  #e3768c;\n",
              "            color:  #000000;\n",
              "            max-width:  80px;\n",
              "            font-size:  10pt;\n",
              "        }    #T_9307f0f4_f278_11ea_a9a7_0242ac1c0002row0_col2 {\n",
              "            background-color:  #d73c5b;\n",
              "            color:  #f1f1f1;\n",
              "            max-width:  80px;\n",
              "            font-size:  10pt;\n",
              "        }    #T_9307f0f4_f278_11ea_a9a7_0242ac1c0002row0_col3 {\n",
              "            background-color:  #dd5a74;\n",
              "            color:  #000000;\n",
              "            max-width:  80px;\n",
              "            font-size:  10pt;\n",
              "        }    #T_9307f0f4_f278_11ea_a9a7_0242ac1c0002row0_col4 {\n",
              "            background-color:  #da4b68;\n",
              "            color:  #000000;\n",
              "            max-width:  80px;\n",
              "            font-size:  10pt;\n",
              "        }    #T_9307f0f4_f278_11ea_a9a7_0242ac1c0002row0_col5 {\n",
              "            background-color:  #e47c91;\n",
              "            color:  #000000;\n",
              "            max-width:  80px;\n",
              "            font-size:  10pt;\n",
              "        }    #T_9307f0f4_f278_11ea_a9a7_0242ac1c0002row0_col6 {\n",
              "            background-color:  #df617a;\n",
              "            color:  #000000;\n",
              "            max-width:  80px;\n",
              "            font-size:  10pt;\n",
              "        }    #T_9307f0f4_f278_11ea_a9a7_0242ac1c0002row0_col7 {\n",
              "            background-color:  #e16b82;\n",
              "            color:  #000000;\n",
              "            max-width:  80px;\n",
              "            font-size:  10pt;\n",
              "        }    #T_9307f0f4_f278_11ea_a9a7_0242ac1c0002row0_col8 {\n",
              "            background-color:  #e16b82;\n",
              "            color:  #000000;\n",
              "            max-width:  80px;\n",
              "            font-size:  10pt;\n",
              "        }    #T_9307f0f4_f278_11ea_a9a7_0242ac1c0002row0_col9 {\n",
              "            background-color:  #f5ced6;\n",
              "            color:  #000000;\n",
              "            max-width:  80px;\n",
              "            font-size:  10pt;\n",
              "        }    #T_9307f0f4_f278_11ea_a9a7_0242ac1c0002row1_col0 {\n",
              "            background-color:  #e16d85;\n",
              "            color:  #000000;\n",
              "            max-width:  80px;\n",
              "            font-size:  10pt;\n",
              "        }    #T_9307f0f4_f278_11ea_a9a7_0242ac1c0002row1_col1 {\n",
              "            background-color:  #4479bb;\n",
              "            color:  #000000;\n",
              "            max-width:  80px;\n",
              "            font-size:  10pt;\n",
              "        }    #T_9307f0f4_f278_11ea_a9a7_0242ac1c0002row1_col2 {\n",
              "            background-color:  #d73c5b;\n",
              "            color:  #f1f1f1;\n",
              "            max-width:  80px;\n",
              "            font-size:  10pt;\n",
              "        }    #T_9307f0f4_f278_11ea_a9a7_0242ac1c0002row1_col3 {\n",
              "            background-color:  #dd5872;\n",
              "            color:  #000000;\n",
              "            max-width:  80px;\n",
              "            font-size:  10pt;\n",
              "        }    #T_9307f0f4_f278_11ea_a9a7_0242ac1c0002row1_col4 {\n",
              "            background-color:  #e27389;\n",
              "            color:  #000000;\n",
              "            max-width:  80px;\n",
              "            font-size:  10pt;\n",
              "        }    #T_9307f0f4_f278_11ea_a9a7_0242ac1c0002row1_col5 {\n",
              "            background-color:  #e26f86;\n",
              "            color:  #000000;\n",
              "            max-width:  80px;\n",
              "            font-size:  10pt;\n",
              "        }    #T_9307f0f4_f278_11ea_a9a7_0242ac1c0002row1_col6 {\n",
              "            background-color:  #dc546f;\n",
              "            color:  #000000;\n",
              "            max-width:  80px;\n",
              "            font-size:  10pt;\n",
              "        }    #T_9307f0f4_f278_11ea_a9a7_0242ac1c0002row1_col7 {\n",
              "            background-color:  #e27288;\n",
              "            color:  #000000;\n",
              "            max-width:  80px;\n",
              "            font-size:  10pt;\n",
              "        }    #T_9307f0f4_f278_11ea_a9a7_0242ac1c0002row1_col8 {\n",
              "            background-color:  #d94764;\n",
              "            color:  #f1f1f1;\n",
              "            max-width:  80px;\n",
              "            font-size:  10pt;\n",
              "        }    #T_9307f0f4_f278_11ea_a9a7_0242ac1c0002row1_col9 {\n",
              "            background-color:  #f3c4cd;\n",
              "            color:  #000000;\n",
              "            max-width:  80px;\n",
              "            font-size:  10pt;\n",
              "        }    #T_9307f0f4_f278_11ea_a9a7_0242ac1c0002row2_col0 {\n",
              "            background-color:  #d73c5b;\n",
              "            color:  #f1f1f1;\n",
              "            max-width:  80px;\n",
              "            font-size:  10pt;\n",
              "        }    #T_9307f0f4_f278_11ea_a9a7_0242ac1c0002row2_col1 {\n",
              "            background-color:  #d94764;\n",
              "            color:  #f1f1f1;\n",
              "            max-width:  80px;\n",
              "            font-size:  10pt;\n",
              "        }    #T_9307f0f4_f278_11ea_a9a7_0242ac1c0002row2_col2 {\n",
              "            background-color:  #4479bb;\n",
              "            color:  #000000;\n",
              "            max-width:  80px;\n",
              "            font-size:  10pt;\n",
              "        }    #T_9307f0f4_f278_11ea_a9a7_0242ac1c0002row2_col3 {\n",
              "            background-color:  #dd5872;\n",
              "            color:  #000000;\n",
              "            max-width:  80px;\n",
              "            font-size:  10pt;\n",
              "        }    #T_9307f0f4_f278_11ea_a9a7_0242ac1c0002row2_col4 {\n",
              "            background-color:  #da4966;\n",
              "            color:  #000000;\n",
              "            max-width:  80px;\n",
              "            font-size:  10pt;\n",
              "        }    #T_9307f0f4_f278_11ea_a9a7_0242ac1c0002row2_col5 {\n",
              "            background-color:  #e3768c;\n",
              "            color:  #000000;\n",
              "            max-width:  80px;\n",
              "            font-size:  10pt;\n",
              "        }    #T_9307f0f4_f278_11ea_a9a7_0242ac1c0002row2_col6 {\n",
              "            background-color:  #e16b82;\n",
              "            color:  #000000;\n",
              "            max-width:  80px;\n",
              "            font-size:  10pt;\n",
              "        }    #T_9307f0f4_f278_11ea_a9a7_0242ac1c0002row2_col7 {\n",
              "            background-color:  #de5b75;\n",
              "            color:  #000000;\n",
              "            max-width:  80px;\n",
              "            font-size:  10pt;\n",
              "        }    #T_9307f0f4_f278_11ea_a9a7_0242ac1c0002row2_col8 {\n",
              "            background-color:  #df617a;\n",
              "            color:  #000000;\n",
              "            max-width:  80px;\n",
              "            font-size:  10pt;\n",
              "        }    #T_9307f0f4_f278_11ea_a9a7_0242ac1c0002row2_col9 {\n",
              "            background-color:  #d73c5b;\n",
              "            color:  #f1f1f1;\n",
              "            max-width:  80px;\n",
              "            font-size:  10pt;\n",
              "        }    #T_9307f0f4_f278_11ea_a9a7_0242ac1c0002row3_col0 {\n",
              "            background-color:  #d73d5c;\n",
              "            color:  #f1f1f1;\n",
              "            max-width:  80px;\n",
              "            font-size:  10pt;\n",
              "        }    #T_9307f0f4_f278_11ea_a9a7_0242ac1c0002row3_col1 {\n",
              "            background-color:  #d94563;\n",
              "            color:  #f1f1f1;\n",
              "            max-width:  80px;\n",
              "            font-size:  10pt;\n",
              "        }    #T_9307f0f4_f278_11ea_a9a7_0242ac1c0002row3_col2 {\n",
              "            background-color:  #d73c5b;\n",
              "            color:  #f1f1f1;\n",
              "            max-width:  80px;\n",
              "            font-size:  10pt;\n",
              "        }    #T_9307f0f4_f278_11ea_a9a7_0242ac1c0002row3_col3 {\n",
              "            background-color:  #4479bb;\n",
              "            color:  #000000;\n",
              "            max-width:  80px;\n",
              "            font-size:  10pt;\n",
              "        }    #T_9307f0f4_f278_11ea_a9a7_0242ac1c0002row3_col4 {\n",
              "            background-color:  #d73d5c;\n",
              "            color:  #f1f1f1;\n",
              "            max-width:  80px;\n",
              "            font-size:  10pt;\n",
              "        }    #T_9307f0f4_f278_11ea_a9a7_0242ac1c0002row3_col5 {\n",
              "            background-color:  #d94563;\n",
              "            color:  #f1f1f1;\n",
              "            max-width:  80px;\n",
              "            font-size:  10pt;\n",
              "        }    #T_9307f0f4_f278_11ea_a9a7_0242ac1c0002row3_col6 {\n",
              "            background-color:  #da4865;\n",
              "            color:  #000000;\n",
              "            max-width:  80px;\n",
              "            font-size:  10pt;\n",
              "        }    #T_9307f0f4_f278_11ea_a9a7_0242ac1c0002row3_col7 {\n",
              "            background-color:  #dc526e;\n",
              "            color:  #000000;\n",
              "            max-width:  80px;\n",
              "            font-size:  10pt;\n",
              "        }    #T_9307f0f4_f278_11ea_a9a7_0242ac1c0002row3_col8 {\n",
              "            background-color:  #db4e6a;\n",
              "            color:  #000000;\n",
              "            max-width:  80px;\n",
              "            font-size:  10pt;\n",
              "        }    #T_9307f0f4_f278_11ea_a9a7_0242ac1c0002row3_col9 {\n",
              "            background-color:  #dd5872;\n",
              "            color:  #000000;\n",
              "            max-width:  80px;\n",
              "            font-size:  10pt;\n",
              "        }    #T_9307f0f4_f278_11ea_a9a7_0242ac1c0002row4_col0 {\n",
              "            background-color:  #d83e5d;\n",
              "            color:  #f1f1f1;\n",
              "            max-width:  80px;\n",
              "            font-size:  10pt;\n",
              "        }    #T_9307f0f4_f278_11ea_a9a7_0242ac1c0002row4_col1 {\n",
              "            background-color:  #e27087;\n",
              "            color:  #000000;\n",
              "            max-width:  80px;\n",
              "            font-size:  10pt;\n",
              "        }    #T_9307f0f4_f278_11ea_a9a7_0242ac1c0002row4_col2 {\n",
              "            background-color:  #d73c5b;\n",
              "            color:  #f1f1f1;\n",
              "            max-width:  80px;\n",
              "            font-size:  10pt;\n",
              "        }    #T_9307f0f4_f278_11ea_a9a7_0242ac1c0002row4_col3 {\n",
              "            background-color:  #db4d69;\n",
              "            color:  #000000;\n",
              "            max-width:  80px;\n",
              "            font-size:  10pt;\n",
              "        }    #T_9307f0f4_f278_11ea_a9a7_0242ac1c0002row4_col4 {\n",
              "            background-color:  #4479bb;\n",
              "            color:  #000000;\n",
              "            max-width:  80px;\n",
              "            font-size:  10pt;\n",
              "        }    #T_9307f0f4_f278_11ea_a9a7_0242ac1c0002row4_col5 {\n",
              "            background-color:  #e06880;\n",
              "            color:  #000000;\n",
              "            max-width:  80px;\n",
              "            font-size:  10pt;\n",
              "        }    #T_9307f0f4_f278_11ea_a9a7_0242ac1c0002row4_col6 {\n",
              "            background-color:  #df627b;\n",
              "            color:  #000000;\n",
              "            max-width:  80px;\n",
              "            font-size:  10pt;\n",
              "        }    #T_9307f0f4_f278_11ea_a9a7_0242ac1c0002row4_col7 {\n",
              "            background-color:  #de5f79;\n",
              "            color:  #000000;\n",
              "            max-width:  80px;\n",
              "            font-size:  10pt;\n",
              "        }    #T_9307f0f4_f278_11ea_a9a7_0242ac1c0002row4_col8 {\n",
              "            background-color:  #de5b75;\n",
              "            color:  #000000;\n",
              "            max-width:  80px;\n",
              "            font-size:  10pt;\n",
              "        }    #T_9307f0f4_f278_11ea_a9a7_0242ac1c0002row4_col9 {\n",
              "            background-color:  #e47c91;\n",
              "            color:  #000000;\n",
              "            max-width:  80px;\n",
              "            font-size:  10pt;\n",
              "        }    #T_9307f0f4_f278_11ea_a9a7_0242ac1c0002row5_col0 {\n",
              "            background-color:  #e16981;\n",
              "            color:  #000000;\n",
              "            max-width:  80px;\n",
              "            font-size:  10pt;\n",
              "        }    #T_9307f0f4_f278_11ea_a9a7_0242ac1c0002row5_col1 {\n",
              "            background-color:  #e0657d;\n",
              "            color:  #000000;\n",
              "            max-width:  80px;\n",
              "            font-size:  10pt;\n",
              "        }    #T_9307f0f4_f278_11ea_a9a7_0242ac1c0002row5_col2 {\n",
              "            background-color:  #df627b;\n",
              "            color:  #000000;\n",
              "            max-width:  80px;\n",
              "            font-size:  10pt;\n",
              "        }    #T_9307f0f4_f278_11ea_a9a7_0242ac1c0002row5_col3 {\n",
              "            background-color:  #db4d69;\n",
              "            color:  #000000;\n",
              "            max-width:  80px;\n",
              "            font-size:  10pt;\n",
              "        }    #T_9307f0f4_f278_11ea_a9a7_0242ac1c0002row5_col4 {\n",
              "            background-color:  #df617a;\n",
              "            color:  #000000;\n",
              "            max-width:  80px;\n",
              "            font-size:  10pt;\n",
              "        }    #T_9307f0f4_f278_11ea_a9a7_0242ac1c0002row5_col5 {\n",
              "            background-color:  #4479bb;\n",
              "            color:  #000000;\n",
              "            max-width:  80px;\n",
              "            font-size:  10pt;\n",
              "        }    #T_9307f0f4_f278_11ea_a9a7_0242ac1c0002row5_col6 {\n",
              "            background-color:  #dd5a74;\n",
              "            color:  #000000;\n",
              "            max-width:  80px;\n",
              "            font-size:  10pt;\n",
              "        }    #T_9307f0f4_f278_11ea_a9a7_0242ac1c0002row5_col7 {\n",
              "            background-color:  #d94462;\n",
              "            color:  #f1f1f1;\n",
              "            max-width:  80px;\n",
              "            font-size:  10pt;\n",
              "        }    #T_9307f0f4_f278_11ea_a9a7_0242ac1c0002row5_col8 {\n",
              "            background-color:  #d73c5b;\n",
              "            color:  #f1f1f1;\n",
              "            max-width:  80px;\n",
              "            font-size:  10pt;\n",
              "        }    #T_9307f0f4_f278_11ea_a9a7_0242ac1c0002row5_col9 {\n",
              "            background-color:  #e26f86;\n",
              "            color:  #000000;\n",
              "            max-width:  80px;\n",
              "            font-size:  10pt;\n",
              "        }    #T_9307f0f4_f278_11ea_a9a7_0242ac1c0002row6_col0 {\n",
              "            background-color:  #d83e5d;\n",
              "            color:  #f1f1f1;\n",
              "            max-width:  80px;\n",
              "            font-size:  10pt;\n",
              "        }    #T_9307f0f4_f278_11ea_a9a7_0242ac1c0002row6_col1 {\n",
              "            background-color:  #d73c5b;\n",
              "            color:  #f1f1f1;\n",
              "            max-width:  80px;\n",
              "            font-size:  10pt;\n",
              "        }    #T_9307f0f4_f278_11ea_a9a7_0242ac1c0002row6_col2 {\n",
              "            background-color:  #da4865;\n",
              "            color:  #000000;\n",
              "            max-width:  80px;\n",
              "            font-size:  10pt;\n",
              "        }    #T_9307f0f4_f278_11ea_a9a7_0242ac1c0002row6_col3 {\n",
              "            background-color:  #d94261;\n",
              "            color:  #f1f1f1;\n",
              "            max-width:  80px;\n",
              "            font-size:  10pt;\n",
              "        }    #T_9307f0f4_f278_11ea_a9a7_0242ac1c0002row6_col4 {\n",
              "            background-color:  #db4e6a;\n",
              "            color:  #000000;\n",
              "            max-width:  80px;\n",
              "            font-size:  10pt;\n",
              "        }    #T_9307f0f4_f278_11ea_a9a7_0242ac1c0002row6_col5 {\n",
              "            background-color:  #db4d69;\n",
              "            color:  #000000;\n",
              "            max-width:  80px;\n",
              "            font-size:  10pt;\n",
              "        }    #T_9307f0f4_f278_11ea_a9a7_0242ac1c0002row6_col6 {\n",
              "            background-color:  #4479bb;\n",
              "            color:  #000000;\n",
              "            max-width:  80px;\n",
              "            font-size:  10pt;\n",
              "        }    #T_9307f0f4_f278_11ea_a9a7_0242ac1c0002row6_col7 {\n",
              "            background-color:  #d8405e;\n",
              "            color:  #f1f1f1;\n",
              "            max-width:  80px;\n",
              "            font-size:  10pt;\n",
              "        }    #T_9307f0f4_f278_11ea_a9a7_0242ac1c0002row6_col8 {\n",
              "            background-color:  #d94462;\n",
              "            color:  #f1f1f1;\n",
              "            max-width:  80px;\n",
              "            font-size:  10pt;\n",
              "        }    #T_9307f0f4_f278_11ea_a9a7_0242ac1c0002row6_col9 {\n",
              "            background-color:  #d73c5b;\n",
              "            color:  #f1f1f1;\n",
              "            max-width:  80px;\n",
              "            font-size:  10pt;\n",
              "        }    #T_9307f0f4_f278_11ea_a9a7_0242ac1c0002row7_col0 {\n",
              "            background-color:  #e27087;\n",
              "            color:  #000000;\n",
              "            max-width:  80px;\n",
              "            font-size:  10pt;\n",
              "        }    #T_9307f0f4_f278_11ea_a9a7_0242ac1c0002row7_col1 {\n",
              "            background-color:  #e58094;\n",
              "            color:  #000000;\n",
              "            max-width:  80px;\n",
              "            font-size:  10pt;\n",
              "        }    #T_9307f0f4_f278_11ea_a9a7_0242ac1c0002row7_col2 {\n",
              "            background-color:  #df617a;\n",
              "            color:  #000000;\n",
              "            max-width:  80px;\n",
              "            font-size:  10pt;\n",
              "        }    #T_9307f0f4_f278_11ea_a9a7_0242ac1c0002row7_col3 {\n",
              "            background-color:  #e27389;\n",
              "            color:  #000000;\n",
              "            max-width:  80px;\n",
              "            font-size:  10pt;\n",
              "        }    #T_9307f0f4_f278_11ea_a9a7_0242ac1c0002row7_col4 {\n",
              "            background-color:  #e27087;\n",
              "            color:  #000000;\n",
              "            max-width:  80px;\n",
              "            font-size:  10pt;\n",
              "        }    #T_9307f0f4_f278_11ea_a9a7_0242ac1c0002row7_col5 {\n",
              "            background-color:  #de5f79;\n",
              "            color:  #000000;\n",
              "            max-width:  80px;\n",
              "            font-size:  10pt;\n",
              "        }    #T_9307f0f4_f278_11ea_a9a7_0242ac1c0002row7_col6 {\n",
              "            background-color:  #e06880;\n",
              "            color:  #000000;\n",
              "            max-width:  80px;\n",
              "            font-size:  10pt;\n",
              "        }    #T_9307f0f4_f278_11ea_a9a7_0242ac1c0002row7_col7 {\n",
              "            background-color:  #4479bb;\n",
              "            color:  #000000;\n",
              "            max-width:  80px;\n",
              "            font-size:  10pt;\n",
              "        }    #T_9307f0f4_f278_11ea_a9a7_0242ac1c0002row7_col8 {\n",
              "            background-color:  #d73c5b;\n",
              "            color:  #f1f1f1;\n",
              "            max-width:  80px;\n",
              "            font-size:  10pt;\n",
              "        }    #T_9307f0f4_f278_11ea_a9a7_0242ac1c0002row7_col9 {\n",
              "            background-color:  #e3788d;\n",
              "            color:  #000000;\n",
              "            max-width:  80px;\n",
              "            font-size:  10pt;\n",
              "        }    #T_9307f0f4_f278_11ea_a9a7_0242ac1c0002row8_col0 {\n",
              "            background-color:  #e27087;\n",
              "            color:  #000000;\n",
              "            max-width:  80px;\n",
              "            font-size:  10pt;\n",
              "        }    #T_9307f0f4_f278_11ea_a9a7_0242ac1c0002row8_col1 {\n",
              "            background-color:  #dd5671;\n",
              "            color:  #000000;\n",
              "            max-width:  80px;\n",
              "            font-size:  10pt;\n",
              "        }    #T_9307f0f4_f278_11ea_a9a7_0242ac1c0002row8_col2 {\n",
              "            background-color:  #e0667e;\n",
              "            color:  #000000;\n",
              "            max-width:  80px;\n",
              "            font-size:  10pt;\n",
              "        }    #T_9307f0f4_f278_11ea_a9a7_0242ac1c0002row8_col3 {\n",
              "            background-color:  #e26f86;\n",
              "            color:  #000000;\n",
              "            max-width:  80px;\n",
              "            font-size:  10pt;\n",
              "        }    #T_9307f0f4_f278_11ea_a9a7_0242ac1c0002row8_col4 {\n",
              "            background-color:  #e16c84;\n",
              "            color:  #000000;\n",
              "            max-width:  80px;\n",
              "            font-size:  10pt;\n",
              "        }    #T_9307f0f4_f278_11ea_a9a7_0242ac1c0002row8_col5 {\n",
              "            background-color:  #dd5671;\n",
              "            color:  #000000;\n",
              "            max-width:  80px;\n",
              "            font-size:  10pt;\n",
              "        }    #T_9307f0f4_f278_11ea_a9a7_0242ac1c0002row8_col6 {\n",
              "            background-color:  #e16b82;\n",
              "            color:  #000000;\n",
              "            max-width:  80px;\n",
              "            font-size:  10pt;\n",
              "        }    #T_9307f0f4_f278_11ea_a9a7_0242ac1c0002row8_col7 {\n",
              "            background-color:  #d73c5b;\n",
              "            color:  #f1f1f1;\n",
              "            max-width:  80px;\n",
              "            font-size:  10pt;\n",
              "        }    #T_9307f0f4_f278_11ea_a9a7_0242ac1c0002row8_col8 {\n",
              "            background-color:  #4479bb;\n",
              "            color:  #000000;\n",
              "            max-width:  80px;\n",
              "            font-size:  10pt;\n",
              "        }    #T_9307f0f4_f278_11ea_a9a7_0242ac1c0002row8_col9 {\n",
              "            background-color:  #df617a;\n",
              "            color:  #000000;\n",
              "            max-width:  80px;\n",
              "            font-size:  10pt;\n",
              "        }    #T_9307f0f4_f278_11ea_a9a7_0242ac1c0002row9_col0 {\n",
              "            background-color:  #f5ced6;\n",
              "            color:  #000000;\n",
              "            max-width:  80px;\n",
              "            font-size:  10pt;\n",
              "        }    #T_9307f0f4_f278_11ea_a9a7_0242ac1c0002row9_col1 {\n",
              "            background-color:  #f4cad3;\n",
              "            color:  #000000;\n",
              "            max-width:  80px;\n",
              "            font-size:  10pt;\n",
              "        }    #T_9307f0f4_f278_11ea_a9a7_0242ac1c0002row9_col2 {\n",
              "            background-color:  #d73c5b;\n",
              "            color:  #f1f1f1;\n",
              "            max-width:  80px;\n",
              "            font-size:  10pt;\n",
              "        }    #T_9307f0f4_f278_11ea_a9a7_0242ac1c0002row9_col3 {\n",
              "            background-color:  #e27389;\n",
              "            color:  #000000;\n",
              "            max-width:  80px;\n",
              "            font-size:  10pt;\n",
              "        }    #T_9307f0f4_f278_11ea_a9a7_0242ac1c0002row9_col4 {\n",
              "            background-color:  #e7899c;\n",
              "            color:  #000000;\n",
              "            max-width:  80px;\n",
              "            font-size:  10pt;\n",
              "        }    #T_9307f0f4_f278_11ea_a9a7_0242ac1c0002row9_col5 {\n",
              "            background-color:  #e68396;\n",
              "            color:  #000000;\n",
              "            max-width:  80px;\n",
              "            font-size:  10pt;\n",
              "        }    #T_9307f0f4_f278_11ea_a9a7_0242ac1c0002row9_col6 {\n",
              "            background-color:  #de5e77;\n",
              "            color:  #000000;\n",
              "            max-width:  80px;\n",
              "            font-size:  10pt;\n",
              "        }    #T_9307f0f4_f278_11ea_a9a7_0242ac1c0002row9_col7 {\n",
              "            background-color:  #e27389;\n",
              "            color:  #000000;\n",
              "            max-width:  80px;\n",
              "            font-size:  10pt;\n",
              "        }    #T_9307f0f4_f278_11ea_a9a7_0242ac1c0002row9_col8 {\n",
              "            background-color:  #de5b75;\n",
              "            color:  #000000;\n",
              "            max-width:  80px;\n",
              "            font-size:  10pt;\n",
              "        }    #T_9307f0f4_f278_11ea_a9a7_0242ac1c0002row9_col9 {\n",
              "            background-color:  #4479bb;\n",
              "            color:  #000000;\n",
              "            max-width:  80px;\n",
              "            font-size:  10pt;\n",
              "        }</style><table id=\"T_9307f0f4_f278_11ea_a9a7_0242ac1c0002\" ><caption>Hover to magify</caption><thead>    <tr>        <th class=\"blank level0\" ></th>        <th class=\"col_heading level0 col0\" >WoodDeckSF</th>        <th class=\"col_heading level0 col1\" >OpenPorchSF</th>        <th class=\"col_heading level0 col2\" >EnclosedPorch</th>        <th class=\"col_heading level0 col3\" >3SsnPorch</th>        <th class=\"col_heading level0 col4\" >ScreenPorch</th>        <th class=\"col_heading level0 col5\" >PoolArea</th>        <th class=\"col_heading level0 col6\" >MiscVal</th>        <th class=\"col_heading level0 col7\" >MoSold</th>        <th class=\"col_heading level0 col8\" >YrSold</th>        <th class=\"col_heading level0 col9\" >SalePrice</th>    </tr></thead><tbody>\n",
              "                <tr>\n",
              "                        <th id=\"T_9307f0f4_f278_11ea_a9a7_0242ac1c0002level0_row0\" class=\"row_heading level0 row0\" >WoodDeckSF</th>\n",
              "                        <td id=\"T_9307f0f4_f278_11ea_a9a7_0242ac1c0002row0_col0\" class=\"data row0 col0\" >1.00</td>\n",
              "                        <td id=\"T_9307f0f4_f278_11ea_a9a7_0242ac1c0002row0_col1\" class=\"data row0 col1\" >0.06</td>\n",
              "                        <td id=\"T_9307f0f4_f278_11ea_a9a7_0242ac1c0002row0_col2\" class=\"data row0 col2\" >-0.13</td>\n",
              "                        <td id=\"T_9307f0f4_f278_11ea_a9a7_0242ac1c0002row0_col3\" class=\"data row0 col3\" >-0.03</td>\n",
              "                        <td id=\"T_9307f0f4_f278_11ea_a9a7_0242ac1c0002row0_col4\" class=\"data row0 col4\" >-0.07</td>\n",
              "                        <td id=\"T_9307f0f4_f278_11ea_a9a7_0242ac1c0002row0_col5\" class=\"data row0 col5\" >0.07</td>\n",
              "                        <td id=\"T_9307f0f4_f278_11ea_a9a7_0242ac1c0002row0_col6\" class=\"data row0 col6\" >-0.01</td>\n",
              "                        <td id=\"T_9307f0f4_f278_11ea_a9a7_0242ac1c0002row0_col7\" class=\"data row0 col7\" >0.02</td>\n",
              "                        <td id=\"T_9307f0f4_f278_11ea_a9a7_0242ac1c0002row0_col8\" class=\"data row0 col8\" >0.02</td>\n",
              "                        <td id=\"T_9307f0f4_f278_11ea_a9a7_0242ac1c0002row0_col9\" class=\"data row0 col9\" >0.32</td>\n",
              "            </tr>\n",
              "            <tr>\n",
              "                        <th id=\"T_9307f0f4_f278_11ea_a9a7_0242ac1c0002level0_row1\" class=\"row_heading level0 row1\" >OpenPorchSF</th>\n",
              "                        <td id=\"T_9307f0f4_f278_11ea_a9a7_0242ac1c0002row1_col0\" class=\"data row1 col0\" >0.06</td>\n",
              "                        <td id=\"T_9307f0f4_f278_11ea_a9a7_0242ac1c0002row1_col1\" class=\"data row1 col1\" >1.00</td>\n",
              "                        <td id=\"T_9307f0f4_f278_11ea_a9a7_0242ac1c0002row1_col2\" class=\"data row1 col2\" >-0.09</td>\n",
              "                        <td id=\"T_9307f0f4_f278_11ea_a9a7_0242ac1c0002row1_col3\" class=\"data row1 col3\" >-0.01</td>\n",
              "                        <td id=\"T_9307f0f4_f278_11ea_a9a7_0242ac1c0002row1_col4\" class=\"data row1 col4\" >0.07</td>\n",
              "                        <td id=\"T_9307f0f4_f278_11ea_a9a7_0242ac1c0002row1_col5\" class=\"data row1 col5\" >0.06</td>\n",
              "                        <td id=\"T_9307f0f4_f278_11ea_a9a7_0242ac1c0002row1_col6\" class=\"data row1 col6\" >-0.02</td>\n",
              "                        <td id=\"T_9307f0f4_f278_11ea_a9a7_0242ac1c0002row1_col7\" class=\"data row1 col7\" >0.07</td>\n",
              "                        <td id=\"T_9307f0f4_f278_11ea_a9a7_0242ac1c0002row1_col8\" class=\"data row1 col8\" >-0.06</td>\n",
              "                        <td id=\"T_9307f0f4_f278_11ea_a9a7_0242ac1c0002row1_col9\" class=\"data row1 col9\" >0.32</td>\n",
              "            </tr>\n",
              "            <tr>\n",
              "                        <th id=\"T_9307f0f4_f278_11ea_a9a7_0242ac1c0002level0_row2\" class=\"row_heading level0 row2\" >EnclosedPorch</th>\n",
              "                        <td id=\"T_9307f0f4_f278_11ea_a9a7_0242ac1c0002row2_col0\" class=\"data row2 col0\" >-0.13</td>\n",
              "                        <td id=\"T_9307f0f4_f278_11ea_a9a7_0242ac1c0002row2_col1\" class=\"data row2 col1\" >-0.09</td>\n",
              "                        <td id=\"T_9307f0f4_f278_11ea_a9a7_0242ac1c0002row2_col2\" class=\"data row2 col2\" >1.00</td>\n",
              "                        <td id=\"T_9307f0f4_f278_11ea_a9a7_0242ac1c0002row2_col3\" class=\"data row2 col3\" >-0.04</td>\n",
              "                        <td id=\"T_9307f0f4_f278_11ea_a9a7_0242ac1c0002row2_col4\" class=\"data row2 col4\" >-0.08</td>\n",
              "                        <td id=\"T_9307f0f4_f278_11ea_a9a7_0242ac1c0002row2_col5\" class=\"data row2 col5\" >0.05</td>\n",
              "                        <td id=\"T_9307f0f4_f278_11ea_a9a7_0242ac1c0002row2_col6\" class=\"data row2 col6\" >0.02</td>\n",
              "                        <td id=\"T_9307f0f4_f278_11ea_a9a7_0242ac1c0002row2_col7\" class=\"data row2 col7\" >-0.03</td>\n",
              "                        <td id=\"T_9307f0f4_f278_11ea_a9a7_0242ac1c0002row2_col8\" class=\"data row2 col8\" >-0.01</td>\n",
              "                        <td id=\"T_9307f0f4_f278_11ea_a9a7_0242ac1c0002row2_col9\" class=\"data row2 col9\" >-0.13</td>\n",
              "            </tr>\n",
              "            <tr>\n",
              "                        <th id=\"T_9307f0f4_f278_11ea_a9a7_0242ac1c0002level0_row3\" class=\"row_heading level0 row3\" >3SsnPorch</th>\n",
              "                        <td id=\"T_9307f0f4_f278_11ea_a9a7_0242ac1c0002row3_col0\" class=\"data row3 col0\" >-0.03</td>\n",
              "                        <td id=\"T_9307f0f4_f278_11ea_a9a7_0242ac1c0002row3_col1\" class=\"data row3 col1\" >-0.01</td>\n",
              "                        <td id=\"T_9307f0f4_f278_11ea_a9a7_0242ac1c0002row3_col2\" class=\"data row3 col2\" >-0.04</td>\n",
              "                        <td id=\"T_9307f0f4_f278_11ea_a9a7_0242ac1c0002row3_col3\" class=\"data row3 col3\" >1.00</td>\n",
              "                        <td id=\"T_9307f0f4_f278_11ea_a9a7_0242ac1c0002row3_col4\" class=\"data row3 col4\" >-0.03</td>\n",
              "                        <td id=\"T_9307f0f4_f278_11ea_a9a7_0242ac1c0002row3_col5\" class=\"data row3 col5\" >-0.01</td>\n",
              "                        <td id=\"T_9307f0f4_f278_11ea_a9a7_0242ac1c0002row3_col6\" class=\"data row3 col6\" >0.00</td>\n",
              "                        <td id=\"T_9307f0f4_f278_11ea_a9a7_0242ac1c0002row3_col7\" class=\"data row3 col7\" >0.03</td>\n",
              "                        <td id=\"T_9307f0f4_f278_11ea_a9a7_0242ac1c0002row3_col8\" class=\"data row3 col8\" >0.02</td>\n",
              "                        <td id=\"T_9307f0f4_f278_11ea_a9a7_0242ac1c0002row3_col9\" class=\"data row3 col9\" >0.04</td>\n",
              "            </tr>\n",
              "            <tr>\n",
              "                        <th id=\"T_9307f0f4_f278_11ea_a9a7_0242ac1c0002level0_row4\" class=\"row_heading level0 row4\" >ScreenPorch</th>\n",
              "                        <td id=\"T_9307f0f4_f278_11ea_a9a7_0242ac1c0002row4_col0\" class=\"data row4 col0\" >-0.07</td>\n",
              "                        <td id=\"T_9307f0f4_f278_11ea_a9a7_0242ac1c0002row4_col1\" class=\"data row4 col1\" >0.07</td>\n",
              "                        <td id=\"T_9307f0f4_f278_11ea_a9a7_0242ac1c0002row4_col2\" class=\"data row4 col2\" >-0.08</td>\n",
              "                        <td id=\"T_9307f0f4_f278_11ea_a9a7_0242ac1c0002row4_col3\" class=\"data row4 col3\" >-0.03</td>\n",
              "                        <td id=\"T_9307f0f4_f278_11ea_a9a7_0242ac1c0002row4_col4\" class=\"data row4 col4\" >1.00</td>\n",
              "                        <td id=\"T_9307f0f4_f278_11ea_a9a7_0242ac1c0002row4_col5\" class=\"data row4 col5\" >0.05</td>\n",
              "                        <td id=\"T_9307f0f4_f278_11ea_a9a7_0242ac1c0002row4_col6\" class=\"data row4 col6\" >0.03</td>\n",
              "                        <td id=\"T_9307f0f4_f278_11ea_a9a7_0242ac1c0002row4_col7\" class=\"data row4 col7\" >0.02</td>\n",
              "                        <td id=\"T_9307f0f4_f278_11ea_a9a7_0242ac1c0002row4_col8\" class=\"data row4 col8\" >0.01</td>\n",
              "                        <td id=\"T_9307f0f4_f278_11ea_a9a7_0242ac1c0002row4_col9\" class=\"data row4 col9\" >0.11</td>\n",
              "            </tr>\n",
              "            <tr>\n",
              "                        <th id=\"T_9307f0f4_f278_11ea_a9a7_0242ac1c0002level0_row5\" class=\"row_heading level0 row5\" >PoolArea</th>\n",
              "                        <td id=\"T_9307f0f4_f278_11ea_a9a7_0242ac1c0002row5_col0\" class=\"data row5 col0\" >0.07</td>\n",
              "                        <td id=\"T_9307f0f4_f278_11ea_a9a7_0242ac1c0002row5_col1\" class=\"data row5 col1\" >0.06</td>\n",
              "                        <td id=\"T_9307f0f4_f278_11ea_a9a7_0242ac1c0002row5_col2\" class=\"data row5 col2\" >0.05</td>\n",
              "                        <td id=\"T_9307f0f4_f278_11ea_a9a7_0242ac1c0002row5_col3\" class=\"data row5 col3\" >-0.01</td>\n",
              "                        <td id=\"T_9307f0f4_f278_11ea_a9a7_0242ac1c0002row5_col4\" class=\"data row5 col4\" >0.05</td>\n",
              "                        <td id=\"T_9307f0f4_f278_11ea_a9a7_0242ac1c0002row5_col5\" class=\"data row5 col5\" >1.00</td>\n",
              "                        <td id=\"T_9307f0f4_f278_11ea_a9a7_0242ac1c0002row5_col6\" class=\"data row5 col6\" >0.03</td>\n",
              "                        <td id=\"T_9307f0f4_f278_11ea_a9a7_0242ac1c0002row5_col7\" class=\"data row5 col7\" >-0.03</td>\n",
              "                        <td id=\"T_9307f0f4_f278_11ea_a9a7_0242ac1c0002row5_col8\" class=\"data row5 col8\" >-0.06</td>\n",
              "                        <td id=\"T_9307f0f4_f278_11ea_a9a7_0242ac1c0002row5_col9\" class=\"data row5 col9\" >0.09</td>\n",
              "            </tr>\n",
              "            <tr>\n",
              "                        <th id=\"T_9307f0f4_f278_11ea_a9a7_0242ac1c0002level0_row6\" class=\"row_heading level0 row6\" >MiscVal</th>\n",
              "                        <td id=\"T_9307f0f4_f278_11ea_a9a7_0242ac1c0002row6_col0\" class=\"data row6 col0\" >-0.01</td>\n",
              "                        <td id=\"T_9307f0f4_f278_11ea_a9a7_0242ac1c0002row6_col1\" class=\"data row6 col1\" >-0.02</td>\n",
              "                        <td id=\"T_9307f0f4_f278_11ea_a9a7_0242ac1c0002row6_col2\" class=\"data row6 col2\" >0.02</td>\n",
              "                        <td id=\"T_9307f0f4_f278_11ea_a9a7_0242ac1c0002row6_col3\" class=\"data row6 col3\" >0.00</td>\n",
              "                        <td id=\"T_9307f0f4_f278_11ea_a9a7_0242ac1c0002row6_col4\" class=\"data row6 col4\" >0.03</td>\n",
              "                        <td id=\"T_9307f0f4_f278_11ea_a9a7_0242ac1c0002row6_col5\" class=\"data row6 col5\" >0.03</td>\n",
              "                        <td id=\"T_9307f0f4_f278_11ea_a9a7_0242ac1c0002row6_col6\" class=\"data row6 col6\" >1.00</td>\n",
              "                        <td id=\"T_9307f0f4_f278_11ea_a9a7_0242ac1c0002row6_col7\" class=\"data row6 col7\" >-0.01</td>\n",
              "                        <td id=\"T_9307f0f4_f278_11ea_a9a7_0242ac1c0002row6_col8\" class=\"data row6 col8\" >0.00</td>\n",
              "                        <td id=\"T_9307f0f4_f278_11ea_a9a7_0242ac1c0002row6_col9\" class=\"data row6 col9\" >-0.02</td>\n",
              "            </tr>\n",
              "            <tr>\n",
              "                        <th id=\"T_9307f0f4_f278_11ea_a9a7_0242ac1c0002level0_row7\" class=\"row_heading level0 row7\" >MoSold</th>\n",
              "                        <td id=\"T_9307f0f4_f278_11ea_a9a7_0242ac1c0002row7_col0\" class=\"data row7 col0\" >0.02</td>\n",
              "                        <td id=\"T_9307f0f4_f278_11ea_a9a7_0242ac1c0002row7_col1\" class=\"data row7 col1\" >0.07</td>\n",
              "                        <td id=\"T_9307f0f4_f278_11ea_a9a7_0242ac1c0002row7_col2\" class=\"data row7 col2\" >-0.03</td>\n",
              "                        <td id=\"T_9307f0f4_f278_11ea_a9a7_0242ac1c0002row7_col3\" class=\"data row7 col3\" >0.03</td>\n",
              "                        <td id=\"T_9307f0f4_f278_11ea_a9a7_0242ac1c0002row7_col4\" class=\"data row7 col4\" >0.02</td>\n",
              "                        <td id=\"T_9307f0f4_f278_11ea_a9a7_0242ac1c0002row7_col5\" class=\"data row7 col5\" >-0.03</td>\n",
              "                        <td id=\"T_9307f0f4_f278_11ea_a9a7_0242ac1c0002row7_col6\" class=\"data row7 col6\" >-0.01</td>\n",
              "                        <td id=\"T_9307f0f4_f278_11ea_a9a7_0242ac1c0002row7_col7\" class=\"data row7 col7\" >1.00</td>\n",
              "                        <td id=\"T_9307f0f4_f278_11ea_a9a7_0242ac1c0002row7_col8\" class=\"data row7 col8\" >-0.15</td>\n",
              "                        <td id=\"T_9307f0f4_f278_11ea_a9a7_0242ac1c0002row7_col9\" class=\"data row7 col9\" >0.05</td>\n",
              "            </tr>\n",
              "            <tr>\n",
              "                        <th id=\"T_9307f0f4_f278_11ea_a9a7_0242ac1c0002level0_row8\" class=\"row_heading level0 row8\" >YrSold</th>\n",
              "                        <td id=\"T_9307f0f4_f278_11ea_a9a7_0242ac1c0002row8_col0\" class=\"data row8 col0\" >0.02</td>\n",
              "                        <td id=\"T_9307f0f4_f278_11ea_a9a7_0242ac1c0002row8_col1\" class=\"data row8 col1\" >-0.06</td>\n",
              "                        <td id=\"T_9307f0f4_f278_11ea_a9a7_0242ac1c0002row8_col2\" class=\"data row8 col2\" >-0.01</td>\n",
              "                        <td id=\"T_9307f0f4_f278_11ea_a9a7_0242ac1c0002row8_col3\" class=\"data row8 col3\" >0.02</td>\n",
              "                        <td id=\"T_9307f0f4_f278_11ea_a9a7_0242ac1c0002row8_col4\" class=\"data row8 col4\" >0.01</td>\n",
              "                        <td id=\"T_9307f0f4_f278_11ea_a9a7_0242ac1c0002row8_col5\" class=\"data row8 col5\" >-0.06</td>\n",
              "                        <td id=\"T_9307f0f4_f278_11ea_a9a7_0242ac1c0002row8_col6\" class=\"data row8 col6\" >0.00</td>\n",
              "                        <td id=\"T_9307f0f4_f278_11ea_a9a7_0242ac1c0002row8_col7\" class=\"data row8 col7\" >-0.15</td>\n",
              "                        <td id=\"T_9307f0f4_f278_11ea_a9a7_0242ac1c0002row8_col8\" class=\"data row8 col8\" >1.00</td>\n",
              "                        <td id=\"T_9307f0f4_f278_11ea_a9a7_0242ac1c0002row8_col9\" class=\"data row8 col9\" >-0.03</td>\n",
              "            </tr>\n",
              "            <tr>\n",
              "                        <th id=\"T_9307f0f4_f278_11ea_a9a7_0242ac1c0002level0_row9\" class=\"row_heading level0 row9\" >SalePrice</th>\n",
              "                        <td id=\"T_9307f0f4_f278_11ea_a9a7_0242ac1c0002row9_col0\" class=\"data row9 col0\" >0.32</td>\n",
              "                        <td id=\"T_9307f0f4_f278_11ea_a9a7_0242ac1c0002row9_col1\" class=\"data row9 col1\" >0.32</td>\n",
              "                        <td id=\"T_9307f0f4_f278_11ea_a9a7_0242ac1c0002row9_col2\" class=\"data row9 col2\" >-0.13</td>\n",
              "                        <td id=\"T_9307f0f4_f278_11ea_a9a7_0242ac1c0002row9_col3\" class=\"data row9 col3\" >0.04</td>\n",
              "                        <td id=\"T_9307f0f4_f278_11ea_a9a7_0242ac1c0002row9_col4\" class=\"data row9 col4\" >0.11</td>\n",
              "                        <td id=\"T_9307f0f4_f278_11ea_a9a7_0242ac1c0002row9_col5\" class=\"data row9 col5\" >0.09</td>\n",
              "                        <td id=\"T_9307f0f4_f278_11ea_a9a7_0242ac1c0002row9_col6\" class=\"data row9 col6\" >-0.02</td>\n",
              "                        <td id=\"T_9307f0f4_f278_11ea_a9a7_0242ac1c0002row9_col7\" class=\"data row9 col7\" >0.05</td>\n",
              "                        <td id=\"T_9307f0f4_f278_11ea_a9a7_0242ac1c0002row9_col8\" class=\"data row9 col8\" >-0.03</td>\n",
              "                        <td id=\"T_9307f0f4_f278_11ea_a9a7_0242ac1c0002row9_col9\" class=\"data row9 col9\" >1.00</td>\n",
              "            </tr>\n",
              "    </tbody></table>"
            ],
            "text/plain": [
              "<pandas.io.formats.style.Styler at 0x7fae34ff9550>"
            ]
          },
          "metadata": {
            "tags": []
          },
          "execution_count": 86
        }
      ]
    }
  ]
}