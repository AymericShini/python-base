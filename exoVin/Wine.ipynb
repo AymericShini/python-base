{
  "nbformat": 4,
  "nbformat_minor": 0,
  "metadata": {
    "colab": {
      "name": "Wine.ipynb",
      "provenance": [],
      "collapsed_sections": [],
      "toc_visible": true
    },
    "kernelspec": {
      "name": "python3",
      "display_name": "Python 3"
    }
  },
  "cells": [
    {
      "cell_type": "code",
      "metadata": {
        "id": "wO7a7YSgdSE6"
      },
      "source": [
        "import seaborn as sns;\n",
        "import pandas as pd;\n",
        "from sklearn.ensemble import RandomForestClassifier as RF\n",
        "sns.set\n",
        "\n",
        "# charger le dataset\n",
        "wine = pd.read_csv(r\"/content/winequality-white.csv\", sep=';')\n",
        "wine_df = wine"
      ],
      "execution_count": 327,
      "outputs": []
    },
    {
      "cell_type": "code",
      "metadata": {
        "id": "WuNwmtIv3HYq"
      },
      "source": [
        "wine_df = wine"
      ],
      "execution_count": 371,
      "outputs": []
    },
    {
      "cell_type": "code",
      "metadata": {
        "id": "bgEVijO3eT48",
        "outputId": "288f7112-33a1-4b2f-cde9-91ca105821b8",
        "colab": {
          "base_uri": "https://localhost:8080/",
          "height": 424
        }
      },
      "source": [
        "wine_df"
      ],
      "execution_count": 373,
      "outputs": [
        {
          "output_type": "execute_result",
          "data": {
            "text/html": [
              "<div>\n",
              "<style scoped>\n",
              "    .dataframe tbody tr th:only-of-type {\n",
              "        vertical-align: middle;\n",
              "    }\n",
              "\n",
              "    .dataframe tbody tr th {\n",
              "        vertical-align: top;\n",
              "    }\n",
              "\n",
              "    .dataframe thead th {\n",
              "        text-align: right;\n",
              "    }\n",
              "</style>\n",
              "<table border=\"1\" class=\"dataframe\">\n",
              "  <thead>\n",
              "    <tr style=\"text-align: right;\">\n",
              "      <th></th>\n",
              "      <th>fixed acidity</th>\n",
              "      <th>volatile acidity</th>\n",
              "      <th>citric acid</th>\n",
              "      <th>residual sugar</th>\n",
              "      <th>chlorides</th>\n",
              "      <th>free sulfur dioxide</th>\n",
              "      <th>total sulfur dioxide</th>\n",
              "      <th>density</th>\n",
              "      <th>pH</th>\n",
              "      <th>sulphates</th>\n",
              "      <th>alcohol</th>\n",
              "      <th>quality</th>\n",
              "    </tr>\n",
              "  </thead>\n",
              "  <tbody>\n",
              "    <tr>\n",
              "      <th>0</th>\n",
              "      <td>7.0</td>\n",
              "      <td>0.27</td>\n",
              "      <td>0.36</td>\n",
              "      <td>20.7</td>\n",
              "      <td>0.045</td>\n",
              "      <td>45.0</td>\n",
              "      <td>170.0</td>\n",
              "      <td>1.00100</td>\n",
              "      <td>3.00</td>\n",
              "      <td>0.45</td>\n",
              "      <td>8.8</td>\n",
              "      <td>6</td>\n",
              "    </tr>\n",
              "    <tr>\n",
              "      <th>1</th>\n",
              "      <td>6.3</td>\n",
              "      <td>0.30</td>\n",
              "      <td>0.34</td>\n",
              "      <td>1.6</td>\n",
              "      <td>0.049</td>\n",
              "      <td>14.0</td>\n",
              "      <td>132.0</td>\n",
              "      <td>0.99400</td>\n",
              "      <td>3.30</td>\n",
              "      <td>0.49</td>\n",
              "      <td>9.5</td>\n",
              "      <td>6</td>\n",
              "    </tr>\n",
              "    <tr>\n",
              "      <th>2</th>\n",
              "      <td>8.1</td>\n",
              "      <td>0.28</td>\n",
              "      <td>0.40</td>\n",
              "      <td>6.9</td>\n",
              "      <td>0.050</td>\n",
              "      <td>30.0</td>\n",
              "      <td>97.0</td>\n",
              "      <td>0.99510</td>\n",
              "      <td>3.26</td>\n",
              "      <td>0.44</td>\n",
              "      <td>10.1</td>\n",
              "      <td>6</td>\n",
              "    </tr>\n",
              "    <tr>\n",
              "      <th>3</th>\n",
              "      <td>7.2</td>\n",
              "      <td>0.23</td>\n",
              "      <td>0.32</td>\n",
              "      <td>8.5</td>\n",
              "      <td>0.058</td>\n",
              "      <td>47.0</td>\n",
              "      <td>186.0</td>\n",
              "      <td>0.99560</td>\n",
              "      <td>3.19</td>\n",
              "      <td>0.40</td>\n",
              "      <td>9.9</td>\n",
              "      <td>6</td>\n",
              "    </tr>\n",
              "    <tr>\n",
              "      <th>4</th>\n",
              "      <td>7.2</td>\n",
              "      <td>0.23</td>\n",
              "      <td>0.32</td>\n",
              "      <td>8.5</td>\n",
              "      <td>0.058</td>\n",
              "      <td>47.0</td>\n",
              "      <td>186.0</td>\n",
              "      <td>0.99560</td>\n",
              "      <td>3.19</td>\n",
              "      <td>0.40</td>\n",
              "      <td>9.9</td>\n",
              "      <td>6</td>\n",
              "    </tr>\n",
              "    <tr>\n",
              "      <th>...</th>\n",
              "      <td>...</td>\n",
              "      <td>...</td>\n",
              "      <td>...</td>\n",
              "      <td>...</td>\n",
              "      <td>...</td>\n",
              "      <td>...</td>\n",
              "      <td>...</td>\n",
              "      <td>...</td>\n",
              "      <td>...</td>\n",
              "      <td>...</td>\n",
              "      <td>...</td>\n",
              "      <td>...</td>\n",
              "    </tr>\n",
              "    <tr>\n",
              "      <th>4893</th>\n",
              "      <td>6.2</td>\n",
              "      <td>0.21</td>\n",
              "      <td>0.29</td>\n",
              "      <td>1.6</td>\n",
              "      <td>0.039</td>\n",
              "      <td>24.0</td>\n",
              "      <td>92.0</td>\n",
              "      <td>0.99114</td>\n",
              "      <td>3.27</td>\n",
              "      <td>0.50</td>\n",
              "      <td>11.2</td>\n",
              "      <td>6</td>\n",
              "    </tr>\n",
              "    <tr>\n",
              "      <th>4894</th>\n",
              "      <td>6.6</td>\n",
              "      <td>0.32</td>\n",
              "      <td>0.36</td>\n",
              "      <td>8.0</td>\n",
              "      <td>0.047</td>\n",
              "      <td>57.0</td>\n",
              "      <td>168.0</td>\n",
              "      <td>0.99490</td>\n",
              "      <td>3.15</td>\n",
              "      <td>0.46</td>\n",
              "      <td>9.6</td>\n",
              "      <td>5</td>\n",
              "    </tr>\n",
              "    <tr>\n",
              "      <th>4895</th>\n",
              "      <td>6.5</td>\n",
              "      <td>0.24</td>\n",
              "      <td>0.19</td>\n",
              "      <td>1.2</td>\n",
              "      <td>0.041</td>\n",
              "      <td>30.0</td>\n",
              "      <td>111.0</td>\n",
              "      <td>0.99254</td>\n",
              "      <td>2.99</td>\n",
              "      <td>0.46</td>\n",
              "      <td>9.4</td>\n",
              "      <td>6</td>\n",
              "    </tr>\n",
              "    <tr>\n",
              "      <th>4896</th>\n",
              "      <td>5.5</td>\n",
              "      <td>0.29</td>\n",
              "      <td>0.30</td>\n",
              "      <td>1.1</td>\n",
              "      <td>0.022</td>\n",
              "      <td>20.0</td>\n",
              "      <td>110.0</td>\n",
              "      <td>0.98869</td>\n",
              "      <td>3.34</td>\n",
              "      <td>0.38</td>\n",
              "      <td>12.8</td>\n",
              "      <td>7</td>\n",
              "    </tr>\n",
              "    <tr>\n",
              "      <th>4897</th>\n",
              "      <td>6.0</td>\n",
              "      <td>0.21</td>\n",
              "      <td>0.38</td>\n",
              "      <td>0.8</td>\n",
              "      <td>0.020</td>\n",
              "      <td>22.0</td>\n",
              "      <td>98.0</td>\n",
              "      <td>0.98941</td>\n",
              "      <td>3.26</td>\n",
              "      <td>0.32</td>\n",
              "      <td>11.8</td>\n",
              "      <td>6</td>\n",
              "    </tr>\n",
              "  </tbody>\n",
              "</table>\n",
              "<p>4898 rows × 12 columns</p>\n",
              "</div>"
            ],
            "text/plain": [
              "      fixed acidity  volatile acidity  citric acid  residual sugar  chlorides  free sulfur dioxide  total sulfur dioxide  density    pH  sulphates  alcohol  quality\n",
              "0               7.0              0.27         0.36            20.7      0.045                 45.0                 170.0  1.00100  3.00       0.45      8.8        6\n",
              "1               6.3              0.30         0.34             1.6      0.049                 14.0                 132.0  0.99400  3.30       0.49      9.5        6\n",
              "2               8.1              0.28         0.40             6.9      0.050                 30.0                  97.0  0.99510  3.26       0.44     10.1        6\n",
              "3               7.2              0.23         0.32             8.5      0.058                 47.0                 186.0  0.99560  3.19       0.40      9.9        6\n",
              "4               7.2              0.23         0.32             8.5      0.058                 47.0                 186.0  0.99560  3.19       0.40      9.9        6\n",
              "...             ...               ...          ...             ...        ...                  ...                   ...      ...   ...        ...      ...      ...\n",
              "4893            6.2              0.21         0.29             1.6      0.039                 24.0                  92.0  0.99114  3.27       0.50     11.2        6\n",
              "4894            6.6              0.32         0.36             8.0      0.047                 57.0                 168.0  0.99490  3.15       0.46      9.6        5\n",
              "4895            6.5              0.24         0.19             1.2      0.041                 30.0                 111.0  0.99254  2.99       0.46      9.4        6\n",
              "4896            5.5              0.29         0.30             1.1      0.022                 20.0                 110.0  0.98869  3.34       0.38     12.8        7\n",
              "4897            6.0              0.21         0.38             0.8      0.020                 22.0                  98.0  0.98941  3.26       0.32     11.8        6\n",
              "\n",
              "[4898 rows x 12 columns]"
            ]
          },
          "metadata": {
            "tags": []
          },
          "execution_count": 373
        }
      ]
    },
    {
      "cell_type": "code",
      "metadata": {
        "id": "gludjuZugGEz",
        "outputId": "ca1ade3a-4e50-40e3-ce48-c55e243a6ddf",
        "colab": {
          "base_uri": "https://localhost:8080/",
          "height": 237
        }
      },
      "source": [
        "Y = wine_df['quality'].astype('category').cat.codes\n",
        "Y"
      ],
      "execution_count": 374,
      "outputs": [
        {
          "output_type": "execute_result",
          "data": {
            "text/plain": [
              "0       3\n",
              "1       3\n",
              "2       3\n",
              "3       3\n",
              "4       3\n",
              "       ..\n",
              "4893    3\n",
              "4894    2\n",
              "4895    3\n",
              "4896    4\n",
              "4897    3\n",
              "Length: 4898, dtype: int8"
            ]
          },
          "metadata": {
            "tags": []
          },
          "execution_count": 374
        }
      ]
    },
    {
      "cell_type": "code",
      "metadata": {
        "id": "7hKqKHiuhqST",
        "outputId": "fdacd944-cc15-4c66-dc86-e3d5d7fc7610",
        "colab": {
          "base_uri": "https://localhost:8080/",
          "height": 424
        }
      },
      "source": [
        "X = wine_df.drop(['quality'], axis = 1)\n",
        "X"
      ],
      "execution_count": 375,
      "outputs": [
        {
          "output_type": "execute_result",
          "data": {
            "text/html": [
              "<div>\n",
              "<style scoped>\n",
              "    .dataframe tbody tr th:only-of-type {\n",
              "        vertical-align: middle;\n",
              "    }\n",
              "\n",
              "    .dataframe tbody tr th {\n",
              "        vertical-align: top;\n",
              "    }\n",
              "\n",
              "    .dataframe thead th {\n",
              "        text-align: right;\n",
              "    }\n",
              "</style>\n",
              "<table border=\"1\" class=\"dataframe\">\n",
              "  <thead>\n",
              "    <tr style=\"text-align: right;\">\n",
              "      <th></th>\n",
              "      <th>fixed acidity</th>\n",
              "      <th>volatile acidity</th>\n",
              "      <th>citric acid</th>\n",
              "      <th>residual sugar</th>\n",
              "      <th>chlorides</th>\n",
              "      <th>free sulfur dioxide</th>\n",
              "      <th>total sulfur dioxide</th>\n",
              "      <th>density</th>\n",
              "      <th>pH</th>\n",
              "      <th>sulphates</th>\n",
              "      <th>alcohol</th>\n",
              "    </tr>\n",
              "  </thead>\n",
              "  <tbody>\n",
              "    <tr>\n",
              "      <th>0</th>\n",
              "      <td>7.0</td>\n",
              "      <td>0.27</td>\n",
              "      <td>0.36</td>\n",
              "      <td>20.7</td>\n",
              "      <td>0.045</td>\n",
              "      <td>45.0</td>\n",
              "      <td>170.0</td>\n",
              "      <td>1.00100</td>\n",
              "      <td>3.00</td>\n",
              "      <td>0.45</td>\n",
              "      <td>8.8</td>\n",
              "    </tr>\n",
              "    <tr>\n",
              "      <th>1</th>\n",
              "      <td>6.3</td>\n",
              "      <td>0.30</td>\n",
              "      <td>0.34</td>\n",
              "      <td>1.6</td>\n",
              "      <td>0.049</td>\n",
              "      <td>14.0</td>\n",
              "      <td>132.0</td>\n",
              "      <td>0.99400</td>\n",
              "      <td>3.30</td>\n",
              "      <td>0.49</td>\n",
              "      <td>9.5</td>\n",
              "    </tr>\n",
              "    <tr>\n",
              "      <th>2</th>\n",
              "      <td>8.1</td>\n",
              "      <td>0.28</td>\n",
              "      <td>0.40</td>\n",
              "      <td>6.9</td>\n",
              "      <td>0.050</td>\n",
              "      <td>30.0</td>\n",
              "      <td>97.0</td>\n",
              "      <td>0.99510</td>\n",
              "      <td>3.26</td>\n",
              "      <td>0.44</td>\n",
              "      <td>10.1</td>\n",
              "    </tr>\n",
              "    <tr>\n",
              "      <th>3</th>\n",
              "      <td>7.2</td>\n",
              "      <td>0.23</td>\n",
              "      <td>0.32</td>\n",
              "      <td>8.5</td>\n",
              "      <td>0.058</td>\n",
              "      <td>47.0</td>\n",
              "      <td>186.0</td>\n",
              "      <td>0.99560</td>\n",
              "      <td>3.19</td>\n",
              "      <td>0.40</td>\n",
              "      <td>9.9</td>\n",
              "    </tr>\n",
              "    <tr>\n",
              "      <th>4</th>\n",
              "      <td>7.2</td>\n",
              "      <td>0.23</td>\n",
              "      <td>0.32</td>\n",
              "      <td>8.5</td>\n",
              "      <td>0.058</td>\n",
              "      <td>47.0</td>\n",
              "      <td>186.0</td>\n",
              "      <td>0.99560</td>\n",
              "      <td>3.19</td>\n",
              "      <td>0.40</td>\n",
              "      <td>9.9</td>\n",
              "    </tr>\n",
              "    <tr>\n",
              "      <th>...</th>\n",
              "      <td>...</td>\n",
              "      <td>...</td>\n",
              "      <td>...</td>\n",
              "      <td>...</td>\n",
              "      <td>...</td>\n",
              "      <td>...</td>\n",
              "      <td>...</td>\n",
              "      <td>...</td>\n",
              "      <td>...</td>\n",
              "      <td>...</td>\n",
              "      <td>...</td>\n",
              "    </tr>\n",
              "    <tr>\n",
              "      <th>4893</th>\n",
              "      <td>6.2</td>\n",
              "      <td>0.21</td>\n",
              "      <td>0.29</td>\n",
              "      <td>1.6</td>\n",
              "      <td>0.039</td>\n",
              "      <td>24.0</td>\n",
              "      <td>92.0</td>\n",
              "      <td>0.99114</td>\n",
              "      <td>3.27</td>\n",
              "      <td>0.50</td>\n",
              "      <td>11.2</td>\n",
              "    </tr>\n",
              "    <tr>\n",
              "      <th>4894</th>\n",
              "      <td>6.6</td>\n",
              "      <td>0.32</td>\n",
              "      <td>0.36</td>\n",
              "      <td>8.0</td>\n",
              "      <td>0.047</td>\n",
              "      <td>57.0</td>\n",
              "      <td>168.0</td>\n",
              "      <td>0.99490</td>\n",
              "      <td>3.15</td>\n",
              "      <td>0.46</td>\n",
              "      <td>9.6</td>\n",
              "    </tr>\n",
              "    <tr>\n",
              "      <th>4895</th>\n",
              "      <td>6.5</td>\n",
              "      <td>0.24</td>\n",
              "      <td>0.19</td>\n",
              "      <td>1.2</td>\n",
              "      <td>0.041</td>\n",
              "      <td>30.0</td>\n",
              "      <td>111.0</td>\n",
              "      <td>0.99254</td>\n",
              "      <td>2.99</td>\n",
              "      <td>0.46</td>\n",
              "      <td>9.4</td>\n",
              "    </tr>\n",
              "    <tr>\n",
              "      <th>4896</th>\n",
              "      <td>5.5</td>\n",
              "      <td>0.29</td>\n",
              "      <td>0.30</td>\n",
              "      <td>1.1</td>\n",
              "      <td>0.022</td>\n",
              "      <td>20.0</td>\n",
              "      <td>110.0</td>\n",
              "      <td>0.98869</td>\n",
              "      <td>3.34</td>\n",
              "      <td>0.38</td>\n",
              "      <td>12.8</td>\n",
              "    </tr>\n",
              "    <tr>\n",
              "      <th>4897</th>\n",
              "      <td>6.0</td>\n",
              "      <td>0.21</td>\n",
              "      <td>0.38</td>\n",
              "      <td>0.8</td>\n",
              "      <td>0.020</td>\n",
              "      <td>22.0</td>\n",
              "      <td>98.0</td>\n",
              "      <td>0.98941</td>\n",
              "      <td>3.26</td>\n",
              "      <td>0.32</td>\n",
              "      <td>11.8</td>\n",
              "    </tr>\n",
              "  </tbody>\n",
              "</table>\n",
              "<p>4898 rows × 11 columns</p>\n",
              "</div>"
            ],
            "text/plain": [
              "      fixed acidity  volatile acidity  citric acid  residual sugar  chlorides  free sulfur dioxide  total sulfur dioxide  density    pH  sulphates  alcohol\n",
              "0               7.0              0.27         0.36            20.7      0.045                 45.0                 170.0  1.00100  3.00       0.45      8.8\n",
              "1               6.3              0.30         0.34             1.6      0.049                 14.0                 132.0  0.99400  3.30       0.49      9.5\n",
              "2               8.1              0.28         0.40             6.9      0.050                 30.0                  97.0  0.99510  3.26       0.44     10.1\n",
              "3               7.2              0.23         0.32             8.5      0.058                 47.0                 186.0  0.99560  3.19       0.40      9.9\n",
              "4               7.2              0.23         0.32             8.5      0.058                 47.0                 186.0  0.99560  3.19       0.40      9.9\n",
              "...             ...               ...          ...             ...        ...                  ...                   ...      ...   ...        ...      ...\n",
              "4893            6.2              0.21         0.29             1.6      0.039                 24.0                  92.0  0.99114  3.27       0.50     11.2\n",
              "4894            6.6              0.32         0.36             8.0      0.047                 57.0                 168.0  0.99490  3.15       0.46      9.6\n",
              "4895            6.5              0.24         0.19             1.2      0.041                 30.0                 111.0  0.99254  2.99       0.46      9.4\n",
              "4896            5.5              0.29         0.30             1.1      0.022                 20.0                 110.0  0.98869  3.34       0.38     12.8\n",
              "4897            6.0              0.21         0.38             0.8      0.020                 22.0                  98.0  0.98941  3.26       0.32     11.8\n",
              "\n",
              "[4898 rows x 11 columns]"
            ]
          },
          "metadata": {
            "tags": []
          },
          "execution_count": 375
        }
      ]
    },
    {
      "cell_type": "code",
      "metadata": {
        "id": "Hn7AMm3n1E14",
        "outputId": "7aeacf25-cb4c-4c1a-831d-556e41a8e399",
        "colab": {
          "base_uri": "https://localhost:8080/",
          "height": 90
        }
      },
      "source": [
        "from sklearn.model_selection import train_test_split\n",
        "\n",
        "splits = train_test_split(X,Y,\n",
        "                          train_size = 0.3,\n",
        "                          stratify = Y,\n",
        "                          random_state=2)\n",
        "\n",
        "for each in splits:\n",
        "  print(each.shape)\n",
        "X_train, X_test, Y_train, Y_test = splits"
      ],
      "execution_count": 333,
      "outputs": [
        {
          "output_type": "stream",
          "text": [
            "(1469, 11)\n",
            "(3429, 11)\n",
            "(1469,)\n",
            "(3429,)\n"
          ],
          "name": "stdout"
        }
      ]
    },
    {
      "cell_type": "code",
      "metadata": {
        "id": "ub_LB6ue9iGR"
      },
      "source": [
        "def accuracy(preds, Y):\n",
        "  return ((preds == Y).sum() / len(Y)* 100)"
      ],
      "execution_count": 334,
      "outputs": []
    },
    {
      "cell_type": "markdown",
      "metadata": {
        "id": "uiURHILzBVcx"
      },
      "source": [
        "# **KNN méthode**"
      ]
    },
    {
      "cell_type": "code",
      "metadata": {
        "id": "IxhdKOhH1dH7"
      },
      "source": [
        "def trainingKNN (n_neighbors):\n",
        "  knn = KNN(n_neighbors=n_neighbors)\n",
        "  knn.fit(X_train,Y_train)\n",
        "  prediction = knn.predict(X_test)\n",
        "  print(prediction.shape)\n",
        "  print(prediction)\n",
        "  print('L\\'algorithme KNeighborsClassifier avec n_neighbors =' , n_neighbors , 'est précis à ', accuracy(prediction,Y_test), '%')\n",
        "  return prediction\n",
        "\n"
      ],
      "execution_count": 335,
      "outputs": []
    },
    {
      "cell_type": "code",
      "metadata": {
        "id": "XgeEDfSk6Wrh",
        "outputId": "9d0e9239-e77a-454e-9502-2df5fd4ae2f0",
        "colab": {
          "base_uri": "https://localhost:8080/",
          "height": 72
        }
      },
      "source": [
        "prediction = trainingKNN(1)"
      ],
      "execution_count": 342,
      "outputs": [
        {
          "output_type": "stream",
          "text": [
            "(3429,)\n",
            "[4 4 1 ... 2 1 3]\n",
            "L'algorithme KNeighborsClassifier avec n_neighbors = 1 est précis à  47.82735491396909 %\n"
          ],
          "name": "stdout"
        }
      ]
    },
    {
      "cell_type": "code",
      "metadata": {
        "id": "QmsS_2L9MEsb",
        "outputId": "4e3d757e-2090-4eb9-de88-65642dafeb04",
        "colab": {
          "base_uri": "https://localhost:8080/",
          "height": 146
        }
      },
      "source": [
        "from sklearn.metrics import confusion_matrix\n",
        "confusion_matrix(Y_test,prediction)"
      ],
      "execution_count": 343,
      "outputs": [
        {
          "output_type": "execute_result",
          "data": {
            "text/plain": [
              "array([[  0,   4,   3,   6,   1,   0,   0],\n",
              "       [  1,  18,  46,  37,  11,   1,   0],\n",
              "       [  4,  36, 466, 403,  90,  19,   2],\n",
              "       [  2,  34, 356, 854, 244,  48,   1],\n",
              "       [  0,  13,  78, 230, 267,  27,   1],\n",
              "       [  0,   0,  16,  47,  25,  35,   0],\n",
              "       [  0,   0,   1,   2,   0,   0,   0]])"
            ]
          },
          "metadata": {
            "tags": []
          },
          "execution_count": 343
        }
      ]
    },
    {
      "cell_type": "markdown",
      "metadata": {
        "id": "O24WSyW_BfT4"
      },
      "source": [
        "# **SVC méthode**"
      ]
    },
    {
      "cell_type": "code",
      "metadata": {
        "id": "wiEeGdH8BeCx"
      },
      "source": [
        "from sklearn.svm import SVC"
      ],
      "execution_count": 344,
      "outputs": []
    },
    {
      "cell_type": "code",
      "metadata": {
        "id": "gHTIVxjdJiVo"
      },
      "source": [
        "svc = SVC(gamma='auto')\n",
        "\n",
        "def trainingSVC():\n",
        "  svcTrained = svc.fit(X_train,Y_train)\n",
        "  prediction = svcTrained.predict(X_test)\n",
        "  print(prediction)\n",
        "  print('L\\'algorithme Support Vector Classification est précis à ', accuracy(prediction,Y_test), '%')\n",
        "  return prediction"
      ],
      "execution_count": 345,
      "outputs": []
    },
    {
      "cell_type": "code",
      "metadata": {
        "id": "n41sfPhyKJLy",
        "outputId": "e6854484-142a-43dd-af72-ddc03568d6b3",
        "colab": {
          "base_uri": "https://localhost:8080/",
          "height": 72
        }
      },
      "source": [
        "trainingSVC()"
      ],
      "execution_count": 346,
      "outputs": [
        {
          "output_type": "stream",
          "text": [
            "[4 3 3 ... 2 3 3]\n",
            "L'algorithme Support Vector Classification est précis à  50.014581510644504 %\n"
          ],
          "name": "stdout"
        },
        {
          "output_type": "execute_result",
          "data": {
            "text/plain": [
              "array([4, 3, 3, ..., 2, 3, 3], dtype=int8)"
            ]
          },
          "metadata": {
            "tags": []
          },
          "execution_count": 346
        }
      ]
    },
    {
      "cell_type": "code",
      "metadata": {
        "id": "smdN_-kOXZ7Q",
        "outputId": "56365cff-da64-4594-a047-30525e2a5f7f",
        "colab": {
          "base_uri": "https://localhost:8080/",
          "height": 146
        }
      },
      "source": [
        "from sklearn.metrics import confusion_matrix\n",
        "confusion_matrix(Y_test,prediction)"
      ],
      "execution_count": 347,
      "outputs": [
        {
          "output_type": "execute_result",
          "data": {
            "text/plain": [
              "array([[  0,   4,   3,   6,   1,   0,   0],\n",
              "       [  1,  18,  46,  37,  11,   1,   0],\n",
              "       [  4,  36, 466, 403,  90,  19,   2],\n",
              "       [  2,  34, 356, 854, 244,  48,   1],\n",
              "       [  0,  13,  78, 230, 267,  27,   1],\n",
              "       [  0,   0,  16,  47,  25,  35,   0],\n",
              "       [  0,   0,   1,   2,   0,   0,   0]])"
            ]
          },
          "metadata": {
            "tags": []
          },
          "execution_count": 347
        }
      ]
    },
    {
      "cell_type": "markdown",
      "metadata": {
        "id": "S9p8vLO5KONT"
      },
      "source": [
        "# **Méthode Regression logistique**"
      ]
    },
    {
      "cell_type": "code",
      "metadata": {
        "id": "ZyuhxXF1KNcV"
      },
      "source": [
        "from sklearn.linear_model import LogisticRegression as LG"
      ],
      "execution_count": 348,
      "outputs": []
    },
    {
      "cell_type": "code",
      "metadata": {
        "id": "53KAfpiNKg9x"
      },
      "source": [
        "lg = LG(random_state=0, C=1e5, max_iter=100000)\n",
        "\n",
        "def trainingLG():\n",
        "  lg = LG(random_state=0, C=1e5, max_iter=100000)\n",
        "  lgTrained = lg.fit(X_train,Y_train)\n",
        "  prediction = lgTrained.predict(X_test)\n",
        "  acc = accuracy(prediction,Y_test)\n",
        "  print(prediction)\n",
        "  print('L\\'algorithme Support Vector Classification est précis à ', acc, '%')\n",
        "  return prediction"
      ],
      "execution_count": 353,
      "outputs": []
    },
    {
      "cell_type": "code",
      "metadata": {
        "id": "Cz5VN33AbRw8",
        "outputId": "9c7dd04f-cb52-44b8-823f-3444f43eeb55",
        "colab": {
          "base_uri": "https://localhost:8080/",
          "height": 72
        }
      },
      "source": [
        "trainingLG()"
      ],
      "execution_count": 354,
      "outputs": [
        {
          "output_type": "stream",
          "text": [
            "[3 3 3 ... 2 2 2]\n",
            "L'algorithme Support Vector Classification est précis à  52.610090405365995 %\n"
          ],
          "name": "stdout"
        },
        {
          "output_type": "execute_result",
          "data": {
            "text/plain": [
              "array([3, 3, 3, ..., 2, 2, 2], dtype=int8)"
            ]
          },
          "metadata": {
            "tags": []
          },
          "execution_count": 354
        }
      ]
    },
    {
      "cell_type": "code",
      "metadata": {
        "id": "9xhx4OdRcIBn",
        "outputId": "de08ada0-8254-4e55-be68-b992906caed8",
        "colab": {
          "base_uri": "https://localhost:8080/",
          "height": 146
        }
      },
      "source": [
        "from sklearn.metrics import confusion_matrix\n",
        "confusion_matrix(Y_test,prediction)"
      ],
      "execution_count": 356,
      "outputs": [
        {
          "output_type": "execute_result",
          "data": {
            "text/plain": [
              "array([[  0,   4,   3,   6,   1,   0,   0],\n",
              "       [  1,  18,  46,  37,  11,   1,   0],\n",
              "       [  4,  36, 466, 403,  90,  19,   2],\n",
              "       [  2,  34, 356, 854, 244,  48,   1],\n",
              "       [  0,  13,  78, 230, 267,  27,   1],\n",
              "       [  0,   0,  16,  47,  25,  35,   0],\n",
              "       [  0,   0,   1,   2,   0,   0,   0]])"
            ]
          },
          "metadata": {
            "tags": []
          },
          "execution_count": 356
        }
      ]
    },
    {
      "cell_type": "code",
      "metadata": {
        "id": "RWYKWKCUe4tW",
        "outputId": "90ca0667-1613-48bb-af2a-571ab1518e9a",
        "colab": {
          "base_uri": "https://localhost:8080/",
          "height": 371
        }
      },
      "source": [
        "pd.set_option('display.max_rows', 500)\n",
        "pd.set_option('display.max_columns', 500)\n",
        "pd.set_option('display.width', 1000)\n",
        "wine_df = wine_df.corr()\n",
        "\n",
        "sns.heatmap(wine_df, \n",
        "        xticklabels=wine_df.columns,\n",
        "        yticklabels=wine_df.columns,\n",
        "        annot=True)"
      ],
      "execution_count": 376,
      "outputs": [
        {
          "output_type": "execute_result",
          "data": {
            "text/plain": [
              "<matplotlib.axes._subplots.AxesSubplot at 0x7f24f62d44e0>"
            ]
          },
          "metadata": {
            "tags": []
          },
          "execution_count": 376
        },
        {
          "output_type": "display_data",
          "data": {
            "image/png": "[encoded data removed]",
            "text/plain": [
              "<Figure size 432x288 with 2 Axes>"
            ]
          },
          "metadata": {
            "tags": [],
            "needs_background": "light"
          }
        }
      ]
    }
  ]
}